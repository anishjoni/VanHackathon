{
 "cells": [
  {
   "cell_type": "code",
   "execution_count": 2,
   "metadata": {
    "collapsed": true
   },
   "outputs": [
    {
     "name": "stdout",
     "output_type": "stream",
     "text": [
      "Collecting lightgbm\n",
      "  Downloading https://files.pythonhosted.org/packages/c7/0b/a183c06e7778893b2f12bb3e2cdab57f142b4e49cd25cc643047f714e74c/lightgbm-2.3.0-py2.py3-none-win_amd64.whl (543kB)\n",
      "Requirement already satisfied: scikit-learn in f:\\learning\\anaconda3\\envs\\py37\\lib\\site-packages (from lightgbm) (0.21.3)\n",
      "Requirement already satisfied: numpy in f:\\learning\\anaconda3\\envs\\py37\\lib\\site-packages (from lightgbm) (1.16.5)\n",
      "Requirement already satisfied: scipy in f:\\learning\\anaconda3\\envs\\py37\\lib\\site-packages (from lightgbm) (1.3.1)\n",
      "Requirement already satisfied: joblib>=0.11 in f:\\learning\\anaconda3\\envs\\py37\\lib\\site-packages (from scikit-learn->lightgbm) (0.13.2)\n",
      "Installing collected packages: lightgbm\n",
      "Successfully installed lightgbm-2.3.0\n"
     ]
    }
   ],
   "source": [
    "! pip install lightgbm"
   ]
  },
  {
   "cell_type": "code",
   "execution_count": 3,
   "metadata": {
    "scrolled": false
   },
   "outputs": [
    {
     "name": "stderr",
     "output_type": "stream",
     "text": [
      "[nltk_data] Downloading package stopwords to\n",
      "[nltk_data]     C:\\Users\\anish\\AppData\\Roaming\\nltk_data...\n",
      "[nltk_data]   Unzipping corpora\\stopwords.zip.\n"
     ]
    },
    {
     "data": {
      "text/html": [
       "<div>\n",
       "<style scoped>\n",
       "    .dataframe tbody tr th:only-of-type {\n",
       "        vertical-align: middle;\n",
       "    }\n",
       "\n",
       "    .dataframe tbody tr th {\n",
       "        vertical-align: top;\n",
       "    }\n",
       "\n",
       "    .dataframe thead th {\n",
       "        text-align: right;\n",
       "    }\n",
       "</style>\n",
       "<table border=\"1\" class=\"dataframe\">\n",
       "  <thead>\n",
       "    <tr style=\"text-align: right;\">\n",
       "      <th></th>\n",
       "      <th>userid</th>\n",
       "      <th>hiredforjobid</th>\n",
       "      <th>userskills</th>\n",
       "      <th>usersposition</th>\n",
       "      <th>jobid</th>\n",
       "      <th>jobresponsibilities</th>\n",
       "      <th>jobskills</th>\n",
       "      <th>jobsposition</th>\n",
       "      <th>hired</th>\n",
       "    </tr>\n",
       "  </thead>\n",
       "  <tbody>\n",
       "    <tr>\n",
       "      <th>0</th>\n",
       "      <td>533441</td>\n",
       "      <td>1357</td>\n",
       "      <td>django, docker, typescript, flask, numpy, pand...</td>\n",
       "      <td>Senior Developer / CTO</td>\n",
       "      <td>1357</td>\n",
       "      <td>&lt;p&gt;&lt;br&gt;\\n&lt;/p&gt;\\n&lt;p&gt;&lt;strong&gt;SEE THE FULL JOB DES...</td>\n",
       "      <td>javascript, ruby on rails</td>\n",
       "      <td>Lead BackEnd RoR Developer</td>\n",
       "      <td>1</td>\n",
       "    </tr>\n",
       "    <tr>\n",
       "      <th>1</th>\n",
       "      <td>696183</td>\n",
       "      <td>1357</td>\n",
       "      <td>ruby on rails, javascript, python, java, html,...</td>\n",
       "      <td>Software Engineer</td>\n",
       "      <td>1357</td>\n",
       "      <td>&lt;p&gt;&lt;br&gt;\\n&lt;/p&gt;\\n&lt;p&gt;&lt;strong&gt;SEE THE FULL JOB DES...</td>\n",
       "      <td>javascript, ruby on rails</td>\n",
       "      <td>Lead BackEnd RoR Developer</td>\n",
       "      <td>1</td>\n",
       "    </tr>\n",
       "    <tr>\n",
       "      <th>2</th>\n",
       "      <td>696873</td>\n",
       "      <td>1357</td>\n",
       "      <td>c++, erlang, linux kernel, tcp/ip, web develop...</td>\n",
       "      <td>Senior Software Engineer</td>\n",
       "      <td>1357</td>\n",
       "      <td>&lt;p&gt;&lt;br&gt;\\n&lt;/p&gt;\\n&lt;p&gt;&lt;strong&gt;SEE THE FULL JOB DES...</td>\n",
       "      <td>javascript, ruby on rails</td>\n",
       "      <td>Lead BackEnd RoR Developer</td>\n",
       "      <td>1</td>\n",
       "    </tr>\n",
       "    <tr>\n",
       "      <th>3</th>\n",
       "      <td>634908</td>\n",
       "      <td>1265</td>\n",
       "      <td>oop, nosql, agile, agile development methodolo...</td>\n",
       "      <td>Full Stack Developer</td>\n",
       "      <td>1265</td>\n",
       "      <td>&lt;p&gt;&lt;strong&gt;The ideal candidate:&lt;/strong&gt;&lt;br&gt;\\n...</td>\n",
       "      <td>agile, aws, continuous integration, java, java...</td>\n",
       "      <td>Senior Full Stack Developer</td>\n",
       "      <td>1</td>\n",
       "    </tr>\n",
       "    <tr>\n",
       "      <th>4</th>\n",
       "      <td>635261</td>\n",
       "      <td>1590</td>\n",
       "      <td>fast learning, strong communication skills, gi...</td>\n",
       "      <td>Mobile Developer</td>\n",
       "      <td>1590</td>\n",
       "      <td>&lt;ul&gt;\\n  &lt;li&gt;4+ years experience in a related f...</td>\n",
       "      <td>angular, cloud computing, javascript, kubernet...</td>\n",
       "      <td>Senior Software Developer</td>\n",
       "      <td>1</td>\n",
       "    </tr>\n",
       "  </tbody>\n",
       "</table>\n",
       "</div>"
      ],
      "text/plain": [
       "   userid  hiredforjobid                                         userskills             usersposition  jobid                                jobresponsibilities                                          jobskills                 jobsposition  hired\n",
       "0  533441           1357  django, docker, typescript, flask, numpy, pand...    Senior Developer / CTO   1357  <p><br>\\n</p>\\n<p><strong>SEE THE FULL JOB DES...                          javascript, ruby on rails   Lead BackEnd RoR Developer      1\n",
       "1  696183           1357  ruby on rails, javascript, python, java, html,...         Software Engineer   1357  <p><br>\\n</p>\\n<p><strong>SEE THE FULL JOB DES...                          javascript, ruby on rails   Lead BackEnd RoR Developer      1\n",
       "2  696873           1357  c++, erlang, linux kernel, tcp/ip, web develop...  Senior Software Engineer   1357  <p><br>\\n</p>\\n<p><strong>SEE THE FULL JOB DES...                          javascript, ruby on rails   Lead BackEnd RoR Developer      1\n",
       "3  634908           1265  oop, nosql, agile, agile development methodolo...      Full Stack Developer   1265  <p><strong>The ideal candidate:</strong><br>\\n...  agile, aws, continuous integration, java, java...  Senior Full Stack Developer      1\n",
       "4  635261           1590  fast learning, strong communication skills, gi...          Mobile Developer   1590  <ul>\\n  <li>4+ years experience in a related f...  angular, cloud computing, javascript, kubernet...    Senior Software Developer      1"
      ]
     },
     "execution_count": 3,
     "metadata": {},
     "output_type": "execute_result"
    }
   ],
   "source": [
    "import pandas as pd\n",
    "from fuzzywuzzy import fuzz\n",
    "from fuzzywuzzy import process\n",
    "from matplotlib import pyplot as plt \n",
    "import numpy as np\n",
    "from sklearn.model_selection import train_test_split\n",
    "import nltk\n",
    "import lightgbm as lgb\n",
    "from nltk.corpus import stopwords\n",
    "nltk.download(\"stopwords\") \n",
    "import re\n",
    "\n",
    "\n",
    "pd.set_option('display.max_columns', None)  # or 1000\n",
    "pd.set_option('display.max_rows', None)  # or 1000\n",
    "#pd.set_option('display.max_colwidth', -1)  # or 199\n",
    "pd.set_option('display.expand_frame_repr', False)\n",
    "\n",
    "df_users = pd.read_csv('HiredCandidates.csv').reset_index(drop=True)\n",
    "df_users = df_users.rename(columns={'Skills':'UserSkills'})\n",
    "\n",
    "df_jobs = pd.read_csv('HiredJobDetails.csv').reset_index(drop=True)\n",
    "df_jobs = df_jobs.rename(columns={'POSITION':'JobsPosition','Skills':'JobSkills','Responsibilities':'JobResponsibilities'})\n",
    "\n",
    "cols_to_use = df_jobs.columns.difference(df_users.columns)\n",
    "\n",
    "df = pd.merge(df_users,df_jobs[cols_to_use],left_on=['HiredForJobId'],right_on=['JobId'],how='inner')\n",
    "df['hired'] = 1\n",
    "\n",
    "df.columns = df.columns.str.lower()\n",
    "df.head()"
   ]
  },
  {
   "cell_type": "code",
   "execution_count": 2,
   "metadata": {},
   "outputs": [
    {
     "name": "stdout",
     "output_type": "stream",
     "text": [
      "['userid' 'hiredforjobid' 'userskills' 'usersposition' 'jobid'\n",
      " 'jobresponsibilities' 'jobskills' 'jobsposition' 'hired']\n"
     ]
    }
   ],
   "source": [
    "# create features\n",
    "print(df.columns.values)"
   ]
  },
  {
   "cell_type": "code",
   "execution_count": 3,
   "metadata": {
    "scrolled": false
   },
   "outputs": [],
   "source": [
    "\n",
    "def create_features(row):\n",
    "    \n",
    "    def cleanhtml(raw_html):\n",
    "        cleanr = re.compile('<.*?>|&([a-z0-9]+|#[0-9]{1,6}|#x[0-9a-f]{1,6});')\n",
    "        cleantext = re.sub(cleanr, '', raw_html)\n",
    "        return cleantext\n",
    "\n",
    "    user_skills = str(row['userskills']).split(',')\n",
    "    job_skills = str(row['jobskills']).split(',')\n",
    "    #resp_skills = str(row['job_Responsibilities'])\n",
    "    #resp_skills = cleanhtml(resp_skills).split(' ')\n",
    "\n",
    "    #filtered_words = [word for word in resp_skills if word not in stopwords.words('english')]\n",
    "    #best_match = process.extractOne(search_name, np.delete(all_values,idx) ,scorer=fuzz.token_sort_ratio)\n",
    "\n",
    "    common_skills = []\n",
    "    other_skills = []\n",
    "\n",
    "    for skill in user_skills:\n",
    "        if skill in job_skills:\n",
    "            common_skills.append(skill)\n",
    "        else:\n",
    "            other_skills.append(skill)\n",
    "            \n",
    "    row['userskills_no'] = len(user_skills)\n",
    "    row['jobskills_no'] = len(job_skills)\n",
    "    row['common_skills'] = len(common_skills)\n",
    "\n",
    "    row['common_skills_ratio'] = (len(common_skills)/len(job_skills)).__round__(2) # 1 is ideal\n",
    "    row['other_skills_ratio'] = (len(other_skills)/len(user_skills)).__round__(2) # 0 is ideal\n",
    "    row['job_candiate_skill_ratio'] = (len(job_skills)/len(user_skills)).__round__(2) # 1 is ideal\n",
    "\n",
    "    #row['position_match'] = process.extractOne(str(row['user_UsersPosition']), str(row['job_POSITION']) ,scorer=fuzz.token_sort_ratio)[1]\n",
    "    row['position_match'] = fuzz.token_sort_ratio(str(row['usersposition']), str(row['jobsposition']))\n",
    "        \n",
    "    return row\n"
   ]
  },
  {
   "cell_type": "code",
   "execution_count": 4,
   "metadata": {
    "scrolled": true
   },
   "outputs": [
    {
     "name": "stdout",
     "output_type": "stream",
     "text": [
      "(404, 8)\n"
     ]
    },
    {
     "data": {
      "text/html": [
       "<div>\n",
       "<style scoped>\n",
       "    .dataframe tbody tr th:only-of-type {\n",
       "        vertical-align: middle;\n",
       "    }\n",
       "\n",
       "    .dataframe tbody tr th {\n",
       "        vertical-align: top;\n",
       "    }\n",
       "\n",
       "    .dataframe thead th {\n",
       "        text-align: right;\n",
       "    }\n",
       "</style>\n",
       "<table border=\"1\" class=\"dataframe\">\n",
       "  <thead>\n",
       "    <tr style=\"text-align: right;\">\n",
       "      <th></th>\n",
       "      <th>userid</th>\n",
       "      <th>userskills</th>\n",
       "      <th>usersposition</th>\n",
       "      <th>hired</th>\n",
       "      <th>jobid</th>\n",
       "      <th>jobresponsibilities</th>\n",
       "      <th>jobsposition</th>\n",
       "      <th>jobskills</th>\n",
       "    </tr>\n",
       "  </thead>\n",
       "  <tbody>\n",
       "    <tr>\n",
       "      <th>0</th>\n",
       "      <td>533441</td>\n",
       "      <td>django, docker, typescript, flask, numpy, pand...</td>\n",
       "      <td>Senior Developer / CTO</td>\n",
       "      <td>1</td>\n",
       "      <td>1357</td>\n",
       "      <td>&lt;p&gt;&lt;br&gt;\\n&lt;/p&gt;\\n&lt;p&gt;&lt;strong&gt;SEE THE FULL JOB DES...</td>\n",
       "      <td>Lead BackEnd RoR Developer</td>\n",
       "      <td>javascript, ruby on rails</td>\n",
       "    </tr>\n",
       "    <tr>\n",
       "      <th>1</th>\n",
       "      <td>696183</td>\n",
       "      <td>ruby on rails, javascript, python, java, html,...</td>\n",
       "      <td>Software Engineer</td>\n",
       "      <td>1</td>\n",
       "      <td>1357</td>\n",
       "      <td>&lt;p&gt;&lt;br&gt;\\n&lt;/p&gt;\\n&lt;p&gt;&lt;strong&gt;SEE THE FULL JOB DES...</td>\n",
       "      <td>Lead BackEnd RoR Developer</td>\n",
       "      <td>javascript, ruby on rails</td>\n",
       "    </tr>\n",
       "    <tr>\n",
       "      <th>2</th>\n",
       "      <td>696873</td>\n",
       "      <td>c++, erlang, linux kernel, tcp/ip, web develop...</td>\n",
       "      <td>Senior Software Engineer</td>\n",
       "      <td>1</td>\n",
       "      <td>1357</td>\n",
       "      <td>&lt;p&gt;&lt;br&gt;\\n&lt;/p&gt;\\n&lt;p&gt;&lt;strong&gt;SEE THE FULL JOB DES...</td>\n",
       "      <td>Lead BackEnd RoR Developer</td>\n",
       "      <td>javascript, ruby on rails</td>\n",
       "    </tr>\n",
       "    <tr>\n",
       "      <th>3</th>\n",
       "      <td>634908</td>\n",
       "      <td>oop, nosql, agile, agile development methodolo...</td>\n",
       "      <td>Full Stack Developer</td>\n",
       "      <td>1</td>\n",
       "      <td>1265</td>\n",
       "      <td>&lt;p&gt;&lt;strong&gt;The ideal candidate:&lt;/strong&gt;&lt;br&gt;\\n...</td>\n",
       "      <td>Senior Full Stack Developer</td>\n",
       "      <td>agile, aws, continuous integration, java, java...</td>\n",
       "    </tr>\n",
       "    <tr>\n",
       "      <th>4</th>\n",
       "      <td>635261</td>\n",
       "      <td>fast learning, strong communication skills, gi...</td>\n",
       "      <td>Mobile Developer</td>\n",
       "      <td>1</td>\n",
       "      <td>1590</td>\n",
       "      <td>&lt;ul&gt;\\n  &lt;li&gt;4+ years experience in a related f...</td>\n",
       "      <td>Senior Software Developer</td>\n",
       "      <td>angular, cloud computing, javascript, kubernet...</td>\n",
       "    </tr>\n",
       "  </tbody>\n",
       "</table>\n",
       "</div>"
      ],
      "text/plain": [
       "   userid                                         userskills             usersposition  hired  jobid                                jobresponsibilities                 jobsposition                                          jobskills\n",
       "0  533441  django, docker, typescript, flask, numpy, pand...    Senior Developer / CTO      1   1357  <p><br>\\n</p>\\n<p><strong>SEE THE FULL JOB DES...   Lead BackEnd RoR Developer                          javascript, ruby on rails\n",
       "1  696183  ruby on rails, javascript, python, java, html,...         Software Engineer      1   1357  <p><br>\\n</p>\\n<p><strong>SEE THE FULL JOB DES...   Lead BackEnd RoR Developer                          javascript, ruby on rails\n",
       "2  696873  c++, erlang, linux kernel, tcp/ip, web develop...  Senior Software Engineer      1   1357  <p><br>\\n</p>\\n<p><strong>SEE THE FULL JOB DES...   Lead BackEnd RoR Developer                          javascript, ruby on rails\n",
       "3  634908  oop, nosql, agile, agile development methodolo...      Full Stack Developer      1   1265  <p><strong>The ideal candidate:</strong><br>\\n...  Senior Full Stack Developer  agile, aws, continuous integration, java, java...\n",
       "4  635261  fast learning, strong communication skills, gi...          Mobile Developer      1   1590  <ul>\\n  <li>4+ years experience in a related f...    Senior Software Developer  angular, cloud computing, javascript, kubernet..."
      ]
     },
     "execution_count": 4,
     "metadata": {},
     "output_type": "execute_result"
    }
   ],
   "source": [
    "# Select neg cases - simple way\n",
    "['userid' 'hiredforjobid' 'userskills' 'usersposition' 'jobid'\n",
    " 'jobresponsibilities' 'jobskills' 'jobsposition']\n",
    "\n",
    "df_available = pd.read_csv(r'E:\\Projects\\PycharmProjects\\Vanhack\\data\\AvailableCandidates.csv')\n",
    "df_available['hired'] = 0\n",
    "df_available = df_available.sample(n=df.shape[0],random_state=2).reset_index(drop=True)\n",
    "df_available = df_available.rename(columns={'Skills':'UserSkills'})\n",
    "df_available.columns = df_available.columns.str.lower()\n",
    "df_available = df_available[['userid','userskills','usersposition','hired']]\n",
    "\n",
    "df_jobs = df[['jobid','jobresponsibilities','jobsposition','jobskills']].reset_index(drop=True)\n",
    "\n",
    "df_neg = pd.concat([df_available,df_jobs],axis=1)\n",
    "\n",
    "df = df[df_neg.columns.values]\n",
    "df = pd.concat([df,df_neg])\n",
    "\n",
    "print(df.shape)\n",
    "df.head()"
   ]
  },
  {
   "cell_type": "code",
   "execution_count": 5,
   "metadata": {},
   "outputs": [
    {
     "data": {
      "text/html": [
       "<div>\n",
       "<style scoped>\n",
       "    .dataframe tbody tr th:only-of-type {\n",
       "        vertical-align: middle;\n",
       "    }\n",
       "\n",
       "    .dataframe tbody tr th {\n",
       "        vertical-align: top;\n",
       "    }\n",
       "\n",
       "    .dataframe thead th {\n",
       "        text-align: right;\n",
       "    }\n",
       "</style>\n",
       "<table border=\"1\" class=\"dataframe\">\n",
       "  <thead>\n",
       "    <tr style=\"text-align: right;\">\n",
       "      <th></th>\n",
       "      <th>userid</th>\n",
       "      <th>userskills</th>\n",
       "      <th>usersposition</th>\n",
       "      <th>hired</th>\n",
       "      <th>jobid</th>\n",
       "      <th>jobresponsibilities</th>\n",
       "      <th>jobsposition</th>\n",
       "      <th>jobskills</th>\n",
       "      <th>userskills_no</th>\n",
       "      <th>jobskills_no</th>\n",
       "      <th>common_skills</th>\n",
       "      <th>common_skills_ratio</th>\n",
       "      <th>other_skills_ratio</th>\n",
       "      <th>job_candiate_skill_ratio</th>\n",
       "      <th>position_match</th>\n",
       "    </tr>\n",
       "  </thead>\n",
       "  <tbody>\n",
       "    <tr>\n",
       "      <th>0</th>\n",
       "      <td>533441</td>\n",
       "      <td>django, docker, typescript, flask, numpy, pand...</td>\n",
       "      <td>Senior Developer / CTO</td>\n",
       "      <td>1</td>\n",
       "      <td>1357</td>\n",
       "      <td>&lt;p&gt;&lt;br&gt;\\n&lt;/p&gt;\\n&lt;p&gt;&lt;strong&gt;SEE THE FULL JOB DES...</td>\n",
       "      <td>Lead BackEnd RoR Developer</td>\n",
       "      <td>javascript, ruby on rails</td>\n",
       "      <td>23</td>\n",
       "      <td>2</td>\n",
       "      <td>0</td>\n",
       "      <td>0.00</td>\n",
       "      <td>1.00</td>\n",
       "      <td>0.09</td>\n",
       "      <td>65</td>\n",
       "    </tr>\n",
       "    <tr>\n",
       "      <th>1</th>\n",
       "      <td>696183</td>\n",
       "      <td>ruby on rails, javascript, python, java, html,...</td>\n",
       "      <td>Software Engineer</td>\n",
       "      <td>1</td>\n",
       "      <td>1357</td>\n",
       "      <td>&lt;p&gt;&lt;br&gt;\\n&lt;/p&gt;\\n&lt;p&gt;&lt;strong&gt;SEE THE FULL JOB DES...</td>\n",
       "      <td>Lead BackEnd RoR Developer</td>\n",
       "      <td>javascript, ruby on rails</td>\n",
       "      <td>15</td>\n",
       "      <td>2</td>\n",
       "      <td>0</td>\n",
       "      <td>0.00</td>\n",
       "      <td>1.00</td>\n",
       "      <td>0.13</td>\n",
       "      <td>37</td>\n",
       "    </tr>\n",
       "    <tr>\n",
       "      <th>2</th>\n",
       "      <td>696873</td>\n",
       "      <td>c++, erlang, linux kernel, tcp/ip, web develop...</td>\n",
       "      <td>Senior Software Engineer</td>\n",
       "      <td>1</td>\n",
       "      <td>1357</td>\n",
       "      <td>&lt;p&gt;&lt;br&gt;\\n&lt;/p&gt;\\n&lt;p&gt;&lt;strong&gt;SEE THE FULL JOB DES...</td>\n",
       "      <td>Lead BackEnd RoR Developer</td>\n",
       "      <td>javascript, ruby on rails</td>\n",
       "      <td>21</td>\n",
       "      <td>2</td>\n",
       "      <td>0</td>\n",
       "      <td>0.00</td>\n",
       "      <td>1.00</td>\n",
       "      <td>0.10</td>\n",
       "      <td>36</td>\n",
       "    </tr>\n",
       "    <tr>\n",
       "      <th>3</th>\n",
       "      <td>634908</td>\n",
       "      <td>oop, nosql, agile, agile development methodolo...</td>\n",
       "      <td>Full Stack Developer</td>\n",
       "      <td>1</td>\n",
       "      <td>1265</td>\n",
       "      <td>&lt;p&gt;&lt;strong&gt;The ideal candidate:&lt;/strong&gt;&lt;br&gt;\\n...</td>\n",
       "      <td>Senior Full Stack Developer</td>\n",
       "      <td>agile, aws, continuous integration, java, java...</td>\n",
       "      <td>40</td>\n",
       "      <td>9</td>\n",
       "      <td>7</td>\n",
       "      <td>0.78</td>\n",
       "      <td>0.82</td>\n",
       "      <td>0.23</td>\n",
       "      <td>85</td>\n",
       "    </tr>\n",
       "    <tr>\n",
       "      <th>4</th>\n",
       "      <td>635261</td>\n",
       "      <td>fast learning, strong communication skills, gi...</td>\n",
       "      <td>Mobile Developer</td>\n",
       "      <td>1</td>\n",
       "      <td>1590</td>\n",
       "      <td>&lt;ul&gt;\\n  &lt;li&gt;4+ years experience in a related f...</td>\n",
       "      <td>Senior Software Developer</td>\n",
       "      <td>angular, cloud computing, javascript, kubernet...</td>\n",
       "      <td>15</td>\n",
       "      <td>8</td>\n",
       "      <td>1</td>\n",
       "      <td>0.12</td>\n",
       "      <td>0.93</td>\n",
       "      <td>0.53</td>\n",
       "      <td>59</td>\n",
       "    </tr>\n",
       "  </tbody>\n",
       "</table>\n",
       "</div>"
      ],
      "text/plain": [
       "   userid                                         userskills             usersposition  hired  jobid                                jobresponsibilities                 jobsposition                                          jobskills  userskills_no  jobskills_no  common_skills  common_skills_ratio  other_skills_ratio  job_candiate_skill_ratio  position_match\n",
       "0  533441  django, docker, typescript, flask, numpy, pand...    Senior Developer / CTO      1   1357  <p><br>\\n</p>\\n<p><strong>SEE THE FULL JOB DES...   Lead BackEnd RoR Developer                          javascript, ruby on rails             23             2              0                 0.00                1.00                      0.09              65\n",
       "1  696183  ruby on rails, javascript, python, java, html,...         Software Engineer      1   1357  <p><br>\\n</p>\\n<p><strong>SEE THE FULL JOB DES...   Lead BackEnd RoR Developer                          javascript, ruby on rails             15             2              0                 0.00                1.00                      0.13              37\n",
       "2  696873  c++, erlang, linux kernel, tcp/ip, web develop...  Senior Software Engineer      1   1357  <p><br>\\n</p>\\n<p><strong>SEE THE FULL JOB DES...   Lead BackEnd RoR Developer                          javascript, ruby on rails             21             2              0                 0.00                1.00                      0.10              36\n",
       "3  634908  oop, nosql, agile, agile development methodolo...      Full Stack Developer      1   1265  <p><strong>The ideal candidate:</strong><br>\\n...  Senior Full Stack Developer  agile, aws, continuous integration, java, java...             40             9              7                 0.78                0.82                      0.23              85\n",
       "4  635261  fast learning, strong communication skills, gi...          Mobile Developer      1   1590  <ul>\\n  <li>4+ years experience in a related f...    Senior Software Developer  angular, cloud computing, javascript, kubernet...             15             8              1                 0.12                0.93                      0.53              59"
      ]
     },
     "execution_count": 5,
     "metadata": {},
     "output_type": "execute_result"
    }
   ],
   "source": [
    "df = df.apply(create_features,axis=1)\n",
    "#df = df.sort_values(by='position_match',ascending=False)\n",
    "df.head()"
   ]
  },
  {
   "cell_type": "code",
   "execution_count": 6,
   "metadata": {
    "scrolled": false
   },
   "outputs": [
    {
     "name": "stdout",
     "output_type": "stream",
     "text": [
      "common_skills\n"
     ]
    },
    {
     "data": {
      "image/png": "[encoded data removed]",
      "text/plain": [
       "<Figure size 432x288 with 1 Axes>"
      ]
     },
     "metadata": {
      "needs_background": "light"
     },
     "output_type": "display_data"
    },
    {
     "data": {
      "image/png": "[encoded data removed]",
      "text/plain": [
       "<Figure size 432x288 with 1 Axes>"
      ]
     },
     "metadata": {
      "needs_background": "light"
     },
     "output_type": "display_data"
    },
    {
     "name": "stdout",
     "output_type": "stream",
     "text": [
      "common_skills_ratio\n"
     ]
    },
    {
     "data": {
      "image/png": "[encoded data removed]",
      "text/plain": [
       "<Figure size 432x288 with 1 Axes>"
      ]
     },
     "metadata": {
      "needs_background": "light"
     },
     "output_type": "display_data"
    },
    {
     "data": {
      "image/png": "[encoded data removed]",
      "text/plain": [
       "<Figure size 432x288 with 1 Axes>"
      ]
     },
     "metadata": {
      "needs_background": "light"
     },
     "output_type": "display_data"
    },
    {
     "name": "stdout",
     "output_type": "stream",
     "text": [
      "job_candiate_skill_ratio\n"
     ]
    },
    {
     "data": {
      "image/png": "[encoded data removed]",
      "text/plain": [
       "<Figure size 432x288 with 1 Axes>"
      ]
     },
     "metadata": {
      "needs_background": "light"
     },
     "output_type": "display_data"
    },
    {
     "data": {
      "image/png": "[encoded data removed]",
      "text/plain": [
       "<Figure size 432x288 with 1 Axes>"
      ]
     },
     "metadata": {
      "needs_background": "light"
     },
     "output_type": "display_data"
    },
    {
     "name": "stdout",
     "output_type": "stream",
     "text": [
      "jobskills_no\n"
     ]
    },
    {
     "data": {
      "image/png": "[encoded data removed]",
      "text/plain": [
       "<Figure size 432x288 with 1 Axes>"
      ]
     },
     "metadata": {
      "needs_background": "light"
     },
     "output_type": "display_data"
    },
    {
     "data": {
      "image/png": "[encoded data removed]",
      "text/plain": [
       "<Figure size 432x288 with 1 Axes>"
      ]
     },
     "metadata": {
      "needs_background": "light"
     },
     "output_type": "display_data"
    },
    {
     "name": "stdout",
     "output_type": "stream",
     "text": [
      "other_skills_ratio\n"
     ]
    },
    {
     "data": {
      "image/png": "[encoded data removed]",
      "text/plain": [
       "<Figure size 432x288 with 1 Axes>"
      ]
     },
     "metadata": {
      "needs_background": "light"
     },
     "output_type": "display_data"
    },
    {
     "data": {
      "image/png": "[encoded data removed]",
      "text/plain": [
       "<Figure size 432x288 with 1 Axes>"
      ]
     },
     "metadata": {
      "needs_background": "light"
     },
     "output_type": "display_data"
    },
    {
     "name": "stdout",
     "output_type": "stream",
     "text": [
      "position_match\n"
     ]
    },
    {
     "data": {
      "image/png": "[encoded data removed]",
      "text/plain": [
       "<Figure size 432x288 with 1 Axes>"
      ]
     },
     "metadata": {
      "needs_background": "light"
     },
     "output_type": "display_data"
    },
    {
     "data": {
      "image/png": "[encoded data removed]",
      "text/plain": [
       "<Figure size 432x288 with 1 Axes>"
      ]
     },
     "metadata": {
      "needs_background": "light"
     },
     "output_type": "display_data"
    },
    {
     "name": "stdout",
     "output_type": "stream",
     "text": [
      "userskills_no\n"
     ]
    },
    {
     "data": {
      "image/png": "[encoded data removed]",
      "text/plain": [
       "<Figure size 432x288 with 1 Axes>"
      ]
     },
     "metadata": {
      "needs_background": "light"
     },
     "output_type": "display_data"
    },
    {
     "data": {
      "image/png": "[encoded data removed]",
      "text/plain": [
       "<Figure size 432x288 with 1 Axes>"
      ]
     },
     "metadata": {
      "needs_background": "light"
     },
     "output_type": "display_data"
    }
   ],
   "source": [
    "plot_cols = df.columns.difference(['userid','userskills','usersposition','hired','jobid','jobresponsibilities','jobsposition','jobskills'])\n",
    "\n",
    "for idx,col in enumerate(plot_cols):\n",
    "    print(col)\n",
    "    df_hired = df[df['hired'] == 1]\n",
    "    df_hired[col].plot.hist()\n",
    "    plt.show()\n",
    "    \n",
    "    df_nothired = df[df['hired'] == 0]\n",
    "    df_nothired[col].plot.hist()\n",
    "    plt.show()"
   ]
  },
  {
   "cell_type": "code",
   "execution_count": 7,
   "metadata": {},
   "outputs": [
    {
     "name": "stdout",
     "output_type": "stream",
     "text": [
      "Modeling columns ['userid' 'userskills' 'usersposition' 'hired' 'jobid'\n",
      " 'jobresponsibilities' 'jobsposition' 'jobskills' 'userskills_no'\n",
      " 'jobskills_no' 'common_skills' 'common_skills_ratio' 'other_skills_ratio'\n",
      " 'job_candiate_skill_ratio' 'position_match']\n",
      "Training with 402 and testing with 2\n",
      "[1]\tvalid_0's auc: 1\n",
      "Training until validation scores don't improve for 100 rounds\n",
      "[2]\tvalid_0's auc: 1\n",
      "[3]\tvalid_0's auc: 1\n",
      "[4]\tvalid_0's auc: 1\n",
      "[5]\tvalid_0's auc: 1\n",
      "Did not meet early stopping. Best iteration is:\n",
      "[1]\tvalid_0's auc: 1\n"
     ]
    },
    {
     "name": "stderr",
     "output_type": "stream",
     "text": [
      "d:\\anaconda\\envs\\commonenv\\lib\\site-packages\\lightgbm\\engine.py:153: UserWarning: Found `early_stopping_rounds` in params. Will use it instead of argument\n",
      "  warnings.warn(\"Found `{}` in params. Will use it instead of argument\".format(alias))\n"
     ]
    }
   ],
   "source": [
    "# simple binary classification\n",
    "\n",
    "isDebug = False\n",
    "\n",
    "print('Modeling columns',df.columns.values)\n",
    "\n",
    "features = [ 'userskills_no','jobskills_no','common_skills','common_skills_ratio','other_skills_ratio',\n",
    "            'job_candiate_skill_ratio','position_match','hired']\n",
    "\n",
    "df_model = df.copy()\n",
    "df_model = df_model[features]\n",
    "\n",
    "y = pd.DataFrame(df_model['hired'])\n",
    "X = df_model.loc[:, df_model.columns != 'hired']\n",
    "    \n",
    "X_train, X_test, y_train, y_test = train_test_split(X, y, test_size=0.2 if isDebug else 0.0049, random_state=42)\n",
    "\n",
    "print('Training with {} and testing with {}'.format(X_train.shape[0],X_test.shape[0]))\n",
    "train_dataset = lgb.Dataset(X_train, label=y_train)\n",
    "test_dataset = lgb.Dataset(X_test, label=y_test)\n",
    "    \n",
    "np.random.seed(0)\n",
    "nrounds = 5\n",
    "params = {\n",
    "    'objective': 'xentropy',\n",
    "    'metric': \"auc\",\n",
    "    'feature_fraction': 1,\n",
    "    'bagging_fraction': 1,\n",
    "    'early_stopping_rounds': 100,\n",
    "    'verbose': -1\n",
    "}\n",
    "gbm = lgb.train(params, train_dataset,valid_sets=[test_dataset], num_boost_round=nrounds)"
   ]
  },
  {
   "cell_type": "code",
   "execution_count": 8,
   "metadata": {},
   "outputs": [
    {
     "name": "stdout",
     "output_type": "stream",
     "text": [
      "(10001, 4)\n"
     ]
    },
    {
     "data": {
      "text/html": [
       "<div>\n",
       "<style scoped>\n",
       "    .dataframe tbody tr th:only-of-type {\n",
       "        vertical-align: middle;\n",
       "    }\n",
       "\n",
       "    .dataframe tbody tr th {\n",
       "        vertical-align: top;\n",
       "    }\n",
       "\n",
       "    .dataframe thead th {\n",
       "        text-align: right;\n",
       "    }\n",
       "</style>\n",
       "<table border=\"1\" class=\"dataframe\">\n",
       "  <thead>\n",
       "    <tr style=\"text-align: right;\">\n",
       "      <th></th>\n",
       "      <th>jobid</th>\n",
       "      <th>jobresponsibilities</th>\n",
       "      <th>jobsposition</th>\n",
       "      <th>jobskills</th>\n",
       "    </tr>\n",
       "  </thead>\n",
       "  <tbody>\n",
       "    <tr>\n",
       "      <th>0</th>\n",
       "      <td>3018</td>\n",
       "      <td>&lt;p&gt;A global event travel tech company with off...</td>\n",
       "      <td>Backend NodeJS Developer</td>\n",
       "      <td>angular, http, javascript, node.js, react.js, ...</td>\n",
       "    </tr>\n",
       "    <tr>\n",
       "      <th>1</th>\n",
       "      <td>3018</td>\n",
       "      <td>&lt;p&gt;A global event travel tech company with off...</td>\n",
       "      <td>Backend NodeJS Developer</td>\n",
       "      <td>angular, http, javascript, node.js, react.js, ...</td>\n",
       "    </tr>\n",
       "    <tr>\n",
       "      <th>2</th>\n",
       "      <td>3018</td>\n",
       "      <td>&lt;p&gt;A global event travel tech company with off...</td>\n",
       "      <td>Backend NodeJS Developer</td>\n",
       "      <td>angular, http, javascript, node.js, react.js, ...</td>\n",
       "    </tr>\n",
       "    <tr>\n",
       "      <th>3</th>\n",
       "      <td>3018</td>\n",
       "      <td>&lt;p&gt;A global event travel tech company with off...</td>\n",
       "      <td>Backend NodeJS Developer</td>\n",
       "      <td>angular, http, javascript, node.js, react.js, ...</td>\n",
       "    </tr>\n",
       "    <tr>\n",
       "      <th>4</th>\n",
       "      <td>3018</td>\n",
       "      <td>&lt;p&gt;A global event travel tech company with off...</td>\n",
       "      <td>Backend NodeJS Developer</td>\n",
       "      <td>angular, http, javascript, node.js, react.js, ...</td>\n",
       "    </tr>\n",
       "  </tbody>\n",
       "</table>\n",
       "</div>"
      ],
      "text/plain": [
       "   jobid                                jobresponsibilities              jobsposition                                          jobskills\n",
       "0   3018  <p>A global event travel tech company with off...  Backend NodeJS Developer  angular, http, javascript, node.js, react.js, ...\n",
       "1   3018  <p>A global event travel tech company with off...  Backend NodeJS Developer  angular, http, javascript, node.js, react.js, ...\n",
       "2   3018  <p>A global event travel tech company with off...  Backend NodeJS Developer  angular, http, javascript, node.js, react.js, ...\n",
       "3   3018  <p>A global event travel tech company with off...  Backend NodeJS Developer  angular, http, javascript, node.js, react.js, ...\n",
       "4   3018  <p>A global event travel tech company with off...  Backend NodeJS Developer  angular, http, javascript, node.js, react.js, ..."
      ]
     },
     "execution_count": 8,
     "metadata": {},
     "output_type": "execute_result"
    }
   ],
   "source": [
    "# Generate predictions\n",
    "#y_pred = gbm.predict(X_test)\n",
    "\n",
    "df_test =  pd.read_csv(r'E:\\Projects\\PycharmProjects\\Vanhack\\data\\JobsToPredict.csv')\n",
    "df_test = df_test.rename(columns={'POSITION':'JobsPosition','Skills':'JobSkills','Responsibilities':'JobResponsibilities'})\n",
    "df_test.columns = df_test.columns.str.lower()\n",
    "\n",
    "df_available = pd.read_csv(r'E:\\Projects\\PycharmProjects\\Vanhack\\data\\AvailableCandidates.csv')\n",
    "df_available = df_available.rename(columns={'Skills':'UserSkills'})\n",
    "df_available.columns = df_available.columns.str.lower()\n",
    "df_available = df_available[['userid','userskills','usersposition']]\n",
    "df_available = df_available.reset_index(drop=True)\n",
    "\n",
    "# Predict for each job with all candidates to get top 10 candidates\n",
    "\n",
    "njobs = df_test.shape[0]\n",
    "ncandidates = df_available.shape[0]\n",
    "\n",
    "df_pred = df_test.iloc[[1]]\n",
    "df_pred = df_pred.append([df_pred]*ncandidates,ignore_index=True)\n",
    "df_pred = df_pred.reset_index(drop=True)\n",
    "\n",
    "print(df_pred.shape)\n",
    "df_pred.head()"
   ]
  },
  {
   "cell_type": "code",
   "execution_count": 9,
   "metadata": {},
   "outputs": [
    {
     "name": "stdout",
     "output_type": "stream",
     "text": [
      "['userid' 'userskills' 'usersposition'] (10000, 3)\n",
      "['jobid' 'jobresponsibilities' 'jobsposition' 'jobskills'] (10001, 4)\n"
     ]
    },
    {
     "data": {
      "text/html": [
       "<div>\n",
       "<style scoped>\n",
       "    .dataframe tbody tr th:only-of-type {\n",
       "        vertical-align: middle;\n",
       "    }\n",
       "\n",
       "    .dataframe tbody tr th {\n",
       "        vertical-align: top;\n",
       "    }\n",
       "\n",
       "    .dataframe thead th {\n",
       "        text-align: right;\n",
       "    }\n",
       "</style>\n",
       "<table border=\"1\" class=\"dataframe\">\n",
       "  <thead>\n",
       "    <tr style=\"text-align: right;\">\n",
       "      <th></th>\n",
       "      <th>userid</th>\n",
       "      <th>userskills</th>\n",
       "      <th>usersposition</th>\n",
       "      <th>jobid</th>\n",
       "      <th>jobresponsibilities</th>\n",
       "      <th>jobsposition</th>\n",
       "      <th>jobskills</th>\n",
       "    </tr>\n",
       "  </thead>\n",
       "  <tbody>\n",
       "    <tr>\n",
       "      <th>0</th>\n",
       "      <td>533334.0</td>\n",
       "      <td>game maker 1.4, lua, fabric8, h264 encoding, t...</td>\n",
       "      <td>Software Engineer</td>\n",
       "      <td>3018</td>\n",
       "      <td>&lt;p&gt;A global event travel tech company with off...</td>\n",
       "      <td>Backend NodeJS Developer</td>\n",
       "      <td>angular, http, javascript, node.js, react.js, ...</td>\n",
       "    </tr>\n",
       "    <tr>\n",
       "      <th>1</th>\n",
       "      <td>533339.0</td>\n",
       "      <td>ruby on rails, sql server, javascript, html5, ...</td>\n",
       "      <td>Web Developer Fullstack</td>\n",
       "      <td>3018</td>\n",
       "      <td>&lt;p&gt;A global event travel tech company with off...</td>\n",
       "      <td>Backend NodeJS Developer</td>\n",
       "      <td>angular, http, javascript, node.js, react.js, ...</td>\n",
       "    </tr>\n",
       "    <tr>\n",
       "      <th>2</th>\n",
       "      <td>533343.0</td>\n",
       "      <td>ruby on rails, scrum, javascript, wordpress, h...</td>\n",
       "      <td>Full stack Ruby on Rails developer</td>\n",
       "      <td>3018</td>\n",
       "      <td>&lt;p&gt;A global event travel tech company with off...</td>\n",
       "      <td>Backend NodeJS Developer</td>\n",
       "      <td>angular, http, javascript, node.js, react.js, ...</td>\n",
       "    </tr>\n",
       "    <tr>\n",
       "      <th>3</th>\n",
       "      <td>533344.0</td>\n",
       "      <td>javascript, spring, jsp, hibernate, jpa, servl...</td>\n",
       "      <td>Results-driven Software Engineer</td>\n",
       "      <td>3018</td>\n",
       "      <td>&lt;p&gt;A global event travel tech company with off...</td>\n",
       "      <td>Backend NodeJS Developer</td>\n",
       "      <td>angular, http, javascript, node.js, react.js, ...</td>\n",
       "    </tr>\n",
       "    <tr>\n",
       "      <th>4</th>\n",
       "      <td>533348.0</td>\n",
       "      <td>2d, ux, ilustrator, art direction, logo design...</td>\n",
       "      <td>UI/UX Designer &amp; Digital Visual Design</td>\n",
       "      <td>3018</td>\n",
       "      <td>&lt;p&gt;A global event travel tech company with off...</td>\n",
       "      <td>Backend NodeJS Developer</td>\n",
       "      <td>angular, http, javascript, node.js, react.js, ...</td>\n",
       "    </tr>\n",
       "  </tbody>\n",
       "</table>\n",
       "</div>"
      ],
      "text/plain": [
       "     userid                                         userskills                           usersposition  jobid                                jobresponsibilities              jobsposition                                          jobskills\n",
       "0  533334.0  game maker 1.4, lua, fabric8, h264 encoding, t...                       Software Engineer   3018  <p>A global event travel tech company with off...  Backend NodeJS Developer  angular, http, javascript, node.js, react.js, ...\n",
       "1  533339.0  ruby on rails, sql server, javascript, html5, ...                Web Developer Fullstack    3018  <p>A global event travel tech company with off...  Backend NodeJS Developer  angular, http, javascript, node.js, react.js, ...\n",
       "2  533343.0  ruby on rails, scrum, javascript, wordpress, h...      Full stack Ruby on Rails developer   3018  <p>A global event travel tech company with off...  Backend NodeJS Developer  angular, http, javascript, node.js, react.js, ...\n",
       "3  533344.0  javascript, spring, jsp, hibernate, jpa, servl...        Results-driven Software Engineer   3018  <p>A global event travel tech company with off...  Backend NodeJS Developer  angular, http, javascript, node.js, react.js, ...\n",
       "4  533348.0  2d, ux, ilustrator, art direction, logo design...  UI/UX Designer & Digital Visual Design   3018  <p>A global event travel tech company with off...  Backend NodeJS Developer  angular, http, javascript, node.js, react.js, ..."
      ]
     },
     "execution_count": 9,
     "metadata": {},
     "output_type": "execute_result"
    }
   ],
   "source": [
    "df_pred = df_pred.apply(create_features,axis=1)\n",
    "df_pred = df_pred[features]\n",
    "\n",
    "print(df_available.columns.values,df_available.shape)\n",
    "print(df_pred.columns.values,df_pred.shape)\n",
    "df_pred = pd.concat([df_available,df_pred],axis=1)\n",
    "df_pred.head()\n",
    "\n"
   ]
  },
  {
   "cell_type": "code",
   "execution_count": 15,
   "metadata": {},
   "outputs": [
    {
     "data": {
      "image/png": "[encoded data removed]",
      "text/plain": [
       "<Figure size 432x288 with 1 Axes>"
      ]
     },
     "metadata": {
      "needs_background": "light"
     },
     "output_type": "display_data"
    },
    {
     "name": "stdout",
     "output_type": "stream",
     "text": [
      "0.508064    8520\n",
      "0.483340    1088\n",
      "0.450166     170\n",
      "0.480313     169\n",
      "0.473833      54\n",
      "Name: pred, dtype: int64\n"
     ]
    },
    {
     "data": {
      "text/html": [
       "<div>\n",
       "<style scoped>\n",
       "    .dataframe tbody tr th:only-of-type {\n",
       "        vertical-align: middle;\n",
       "    }\n",
       "\n",
       "    .dataframe tbody tr th {\n",
       "        vertical-align: top;\n",
       "    }\n",
       "\n",
       "    .dataframe thead th {\n",
       "        text-align: right;\n",
       "    }\n",
       "</style>\n",
       "<table border=\"1\" class=\"dataframe\">\n",
       "  <thead>\n",
       "    <tr style=\"text-align: right;\">\n",
       "      <th></th>\n",
       "      <th>userid</th>\n",
       "      <th>userskills</th>\n",
       "      <th>usersposition</th>\n",
       "      <th>jobid</th>\n",
       "      <th>jobresponsibilities</th>\n",
       "      <th>jobsposition</th>\n",
       "      <th>jobskills</th>\n",
       "      <th>userskills_no</th>\n",
       "      <th>jobskills_no</th>\n",
       "      <th>common_skills</th>\n",
       "      <th>common_skills_ratio</th>\n",
       "      <th>other_skills_ratio</th>\n",
       "      <th>job_candiate_skill_ratio</th>\n",
       "      <th>position_match</th>\n",
       "      <th>pred</th>\n",
       "    </tr>\n",
       "  </thead>\n",
       "  <tbody>\n",
       "    <tr>\n",
       "      <th>0</th>\n",
       "      <td>533334.0</td>\n",
       "      <td>game maker 1.4, lua, fabric8, h264 encoding, t...</td>\n",
       "      <td>Software Engineer</td>\n",
       "      <td>3018</td>\n",
       "      <td>&lt;p&gt;A global event travel tech company with off...</td>\n",
       "      <td>Backend NodeJS Developer</td>\n",
       "      <td>angular, http, javascript, node.js, react.js, ...</td>\n",
       "      <td>5</td>\n",
       "      <td>7</td>\n",
       "      <td>0</td>\n",
       "      <td>0.00</td>\n",
       "      <td>1.00</td>\n",
       "      <td>1.40</td>\n",
       "      <td>34</td>\n",
       "      <td>0.508064</td>\n",
       "    </tr>\n",
       "    <tr>\n",
       "      <th>6422</th>\n",
       "      <td>668683.0</td>\n",
       "      <td>javascript, html5, css3, mongodb, ux, react.js...</td>\n",
       "      <td>Senior Web Engineer</td>\n",
       "      <td>3018</td>\n",
       "      <td>&lt;p&gt;A global event travel tech company with off...</td>\n",
       "      <td>Backend NodeJS Developer</td>\n",
       "      <td>angular, http, javascript, node.js, react.js, ...</td>\n",
       "      <td>9</td>\n",
       "      <td>7</td>\n",
       "      <td>1</td>\n",
       "      <td>0.14</td>\n",
       "      <td>0.89</td>\n",
       "      <td>0.78</td>\n",
       "      <td>33</td>\n",
       "      <td>0.508064</td>\n",
       "    </tr>\n",
       "    <tr>\n",
       "      <th>6388</th>\n",
       "      <td>668536.0</td>\n",
       "      <td>javascript, python, c++, html5, bootstrap, cod...</td>\n",
       "      <td>Software Developer</td>\n",
       "      <td>3018</td>\n",
       "      <td>&lt;p&gt;A global event travel tech company with off...</td>\n",
       "      <td>Backend NodeJS Developer</td>\n",
       "      <td>angular, http, javascript, node.js, react.js, ...</td>\n",
       "      <td>17</td>\n",
       "      <td>7</td>\n",
       "      <td>2</td>\n",
       "      <td>0.29</td>\n",
       "      <td>0.88</td>\n",
       "      <td>0.41</td>\n",
       "      <td>52</td>\n",
       "      <td>0.508064</td>\n",
       "    </tr>\n",
       "    <tr>\n",
       "      <th>6389</th>\n",
       "      <td>668537.0</td>\n",
       "      <td>test planning and test script, selenium, uft, ...</td>\n",
       "      <td>Automation Test Engineer</td>\n",
       "      <td>3018</td>\n",
       "      <td>&lt;p&gt;A global event travel tech company with off...</td>\n",
       "      <td>Backend NodeJS Developer</td>\n",
       "      <td>angular, http, javascript, node.js, react.js, ...</td>\n",
       "      <td>9</td>\n",
       "      <td>7</td>\n",
       "      <td>0</td>\n",
       "      <td>0.00</td>\n",
       "      <td>1.00</td>\n",
       "      <td>0.78</td>\n",
       "      <td>38</td>\n",
       "      <td>0.508064</td>\n",
       "    </tr>\n",
       "    <tr>\n",
       "      <th>6390</th>\n",
       "      <td>668540.0</td>\n",
       "      <td>ruby on rails, javascript, html5, postgresql, ...</td>\n",
       "      <td>Senior Full-stack developer</td>\n",
       "      <td>3018</td>\n",
       "      <td>&lt;p&gt;A global event travel tech company with off...</td>\n",
       "      <td>Backend NodeJS Developer</td>\n",
       "      <td>angular, http, javascript, node.js, react.js, ...</td>\n",
       "      <td>14</td>\n",
       "      <td>7</td>\n",
       "      <td>2</td>\n",
       "      <td>0.29</td>\n",
       "      <td>0.86</td>\n",
       "      <td>0.50</td>\n",
       "      <td>43</td>\n",
       "      <td>0.508064</td>\n",
       "    </tr>\n",
       "  </tbody>\n",
       "</table>\n",
       "</div>"
      ],
      "text/plain": [
       "        userid                                         userskills                usersposition  jobid                                jobresponsibilities              jobsposition                                          jobskills  userskills_no  jobskills_no  common_skills  common_skills_ratio  other_skills_ratio  job_candiate_skill_ratio  position_match      pred\n",
       "0     533334.0  game maker 1.4, lua, fabric8, h264 encoding, t...            Software Engineer   3018  <p>A global event travel tech company with off...  Backend NodeJS Developer  angular, http, javascript, node.js, react.js, ...              5             7              0                 0.00                1.00                      1.40              34  0.508064\n",
       "6422  668683.0  javascript, html5, css3, mongodb, ux, react.js...          Senior Web Engineer   3018  <p>A global event travel tech company with off...  Backend NodeJS Developer  angular, http, javascript, node.js, react.js, ...              9             7              1                 0.14                0.89                      0.78              33  0.508064\n",
       "6388  668536.0  javascript, python, c++, html5, bootstrap, cod...           Software Developer   3018  <p>A global event travel tech company with off...  Backend NodeJS Developer  angular, http, javascript, node.js, react.js, ...             17             7              2                 0.29                0.88                      0.41              52  0.508064\n",
       "6389  668537.0  test planning and test script, selenium, uft, ...     Automation Test Engineer   3018  <p>A global event travel tech company with off...  Backend NodeJS Developer  angular, http, javascript, node.js, react.js, ...              9             7              0                 0.00                1.00                      0.78              38  0.508064\n",
       "6390  668540.0  ruby on rails, javascript, html5, postgresql, ...  Senior Full-stack developer   3018  <p>A global event travel tech company with off...  Backend NodeJS Developer  angular, http, javascript, node.js, react.js, ...             14             7              2                 0.29                0.86                      0.50              43  0.508064"
      ]
     },
     "execution_count": 15,
     "metadata": {},
     "output_type": "execute_result"
    }
   ],
   "source": [
    "cols = set(features) - set(['hired'])\n",
    "df_pred['pred'] = gbm.predict(df_pred[cols])\n",
    "df_pred = df_pred.sort_values(by='pred',ascending=False)\n",
    "df_pred.head(10)\n",
    "\n",
    "df_pred['pred'].plot.hist()\n",
    "plt.show()\n",
    "\n",
    "print(df_pred['pred'].value_counts())\n",
    "df_pred.head()"
   ]
  }
 ],
 "metadata": {
  "kernelspec": {
   "display_name": "Python 3",
   "language": "python",
   "name": "python3"
  },
  "language_info": {
   "codemirror_mode": {
    "name": "ipython",
    "version": 3
   },
   "file_extension": ".py",
   "mimetype": "text/x-python",
   "name": "python",
   "nbconvert_exporter": "python",
   "pygments_lexer": "ipython3",
   "version": "3.7.4"
  },
  "varInspector": {
   "cols": {
    "lenName": 16,
    "lenType": 16,
    "lenVar": 40
   },
   "kernels_config": {
    "python": {
     "delete_cmd_postfix": "",
     "delete_cmd_prefix": "del ",
     "library": "var_list.py",
     "varRefreshCmd": "print(var_dic_list())"
    },
    "r": {
     "delete_cmd_postfix": ") ",
     "delete_cmd_prefix": "rm(",
     "library": "var_list.r",
     "varRefreshCmd": "cat(var_dic_list()) "
    }
   },
   "types_to_exclude": [
    "module",
    "function",
    "builtin_function_or_method",
    "instance",
    "_Feature"
   ],
   "window_display": false
  }
 },
 "nbformat": 4,
 "nbformat_minor": 2
}
