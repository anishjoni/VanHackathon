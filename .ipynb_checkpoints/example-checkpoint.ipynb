{
 "cells": [
  {
   "cell_type": "code",
   "execution_count": 13,
   "metadata": {},
   "outputs": [
    {
     "name": "stdout",
     "output_type": "stream",
     "text": [
      "(118, 5)\n"
     ]
    },
    {
     "data": {
      "text/html": [
       "<div>\n",
       "<style scoped>\n",
       "    .dataframe tbody tr th:only-of-type {\n",
       "        vertical-align: middle;\n",
       "    }\n",
       "\n",
       "    .dataframe tbody tr th {\n",
       "        vertical-align: top;\n",
       "    }\n",
       "\n",
       "    .dataframe thead th {\n",
       "        text-align: right;\n",
       "    }\n",
       "</style>\n",
       "<table border=\"1\" class=\"dataframe\">\n",
       "  <thead>\n",
       "    <tr style=\"text-align: right;\">\n",
       "      <th></th>\n",
       "      <th>UserId</th>\n",
       "      <th>Skills</th>\n",
       "      <th>UsersPosition</th>\n",
       "      <th>YearsOfExperience</th>\n",
       "      <th>EnglishLevel</th>\n",
       "    </tr>\n",
       "  </thead>\n",
       "  <tbody>\n",
       "    <tr>\n",
       "      <th>72</th>\n",
       "      <td>553625</td>\n",
       "      <td>ruby on rails, javascript, docker, vue.js, linux</td>\n",
       "      <td>Software Engineer · Web Expert · Automated Tes...</td>\n",
       "      <td>10</td>\n",
       "      <td>0</td>\n",
       "    </tr>\n",
       "    <tr>\n",
       "      <th>197</th>\n",
       "      <td>614275</td>\n",
       "      <td>javascript, testing, node.js, jmeter, selenium...</td>\n",
       "      <td>Specialized in QA &amp; Test</td>\n",
       "      <td>7</td>\n",
       "      <td>0</td>\n",
       "    </tr>\n",
       "    <tr>\n",
       "      <th>246</th>\n",
       "      <td>634713</td>\n",
       "      <td>c, testing, web development, css3, google anal...</td>\n",
       "      <td>QA / Tester for Web &amp; Software</td>\n",
       "      <td>22</td>\n",
       "      <td>0</td>\n",
       "    </tr>\n",
       "    <tr>\n",
       "      <th>604</th>\n",
       "      <td>636884</td>\n",
       "      <td>sql server, scrum, javascript, english, mvc, h...</td>\n",
       "      <td>Test Automation Architect/Developer</td>\n",
       "      <td>9</td>\n",
       "      <td>0</td>\n",
       "    </tr>\n",
       "    <tr>\n",
       "      <th>619</th>\n",
       "      <td>636969</td>\n",
       "      <td>azure, sql, javascript, english, testing, html...</td>\n",
       "      <td>Automation Test Engineer</td>\n",
       "      <td>4</td>\n",
       "      <td>3</td>\n",
       "    </tr>\n",
       "  </tbody>\n",
       "</table>\n",
       "</div>"
      ],
      "text/plain": [
       "     UserId                                             Skills  \\\n",
       "72   553625   ruby on rails, javascript, docker, vue.js, linux   \n",
       "197  614275  javascript, testing, node.js, jmeter, selenium...   \n",
       "246  634713  c, testing, web development, css3, google anal...   \n",
       "604  636884  sql server, scrum, javascript, english, mvc, h...   \n",
       "619  636969  azure, sql, javascript, english, testing, html...   \n",
       "\n",
       "                                         UsersPosition  YearsOfExperience  \\\n",
       "72   Software Engineer · Web Expert · Automated Tes...                 10   \n",
       "197                           Specialized in QA & Test                  7   \n",
       "246                     QA / Tester for Web & Software                 22   \n",
       "604                Test Automation Architect/Developer                  9   \n",
       "619                           Automation Test Engineer                  4   \n",
       "\n",
       "     EnglishLevel  \n",
       "72              0  \n",
       "197             0  \n",
       "246             0  \n",
       "604             0  \n",
       "619             3  "
      ]
     },
     "execution_count": 13,
     "metadata": {},
     "output_type": "execute_result"
    }
   ],
   "source": [
    "import pandas as pd\n",
    "\n",
    "df = pd.read_csv(r'E:\\Projects\\PycharmProjects\\Vanhack\\data\\AvailableCandidates.csv')\n",
    "df = df.dropna()\n",
    "#df = df[(df['UsersPosition'].str.contains('Node') | df['UsersPosition'].str.contains('Python'))]\n",
    "df = df[(df['UsersPosition'].str.contains('NodeJS') | df['UsersPosition'].str.contains('Test'))]\n",
    "\n",
    "print(df.shape)\n",
    "\n",
    "df.to_csv(r'E:\\Projects\\PycharmProjects\\Vanhack\\data\\SmallCandidates.csv')\n",
    "df.head()\n"
   ]
  },
  {
   "cell_type": "code",
   "execution_count": null,
   "metadata": {},
   "outputs": [],
   "source": []
  }
 ],
 "metadata": {
  "kernelspec": {
   "display_name": "Python 3",
   "language": "python",
   "name": "python3"
  },
  "language_info": {
   "codemirror_mode": {
    "name": "ipython",
    "version": 3
   },
   "file_extension": ".py",
   "mimetype": "text/x-python",
   "name": "python",
   "nbconvert_exporter": "python",
   "pygments_lexer": "ipython3",
   "version": "3.7.4"
  },
  "varInspector": {
   "cols": {
    "lenName": 16,
    "lenType": 16,
    "lenVar": 40
   },
   "kernels_config": {
    "python": {
     "delete_cmd_postfix": "",
     "delete_cmd_prefix": "del ",
     "library": "var_list.py",
     "varRefreshCmd": "print(var_dic_list())"
    },
    "r": {
     "delete_cmd_postfix": ") ",
     "delete_cmd_prefix": "rm(",
     "library": "var_list.r",
     "varRefreshCmd": "cat(var_dic_list()) "
    }
   },
   "types_to_exclude": [
    "module",
    "function",
    "builtin_function_or_method",
    "instance",
    "_Feature"
   ],
   "window_display": false
  }
 },
 "nbformat": 4,
 "nbformat_minor": 1
}
