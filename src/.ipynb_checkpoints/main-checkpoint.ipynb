{
 "cells": [
  {
   "cell_type": "markdown",
   "metadata": {
    "colab_type": "text",
    "id": "F88KPYVZ2Az-"
   },
   "source": [
    "### Code for Black_Friday_Data_Hack_Project\n",
    "#### Author: Rohan Surve\n",
    "#### Date: April 23, 2019"
   ]
  },
  {
   "cell_type": "markdown",
   "metadata": {},
   "source": [
    "### Import Libraries"
   ]
  },
  {
   "cell_type": "code",
   "execution_count": 1,
   "metadata": {
    "colab": {},
    "colab_type": "code",
    "id": "xkN_CaciHprs"
   },
   "outputs": [
    {
     "name": "stderr",
     "output_type": "stream",
     "text": [
      "Using TensorFlow backend.\n"
     ]
    },
    {
     "name": "stdout",
     "output_type": "stream",
     "text": [
      "C:\\Users\\visha\\Documents\\GitHub\\Black_Friday_Data_Hack\\Black_Friday_Data_Hack\n"
     ]
    }
   ],
   "source": [
    "# Import libraries dealing with data processing, numerical computation\n",
    "import pandas as pd\n",
    "import numpy as np\n",
    "\n",
    "# Other General Setup\n",
    "import os\n",
    "import sys\n",
    "\n",
    "# Import local library modules\n",
    "import src.build_features\n",
    "import src.preprocess_data\n",
    "import src.train_models\n",
    "from src.make_dataset import make_dataset\n",
    "from src.visualize_data import relationship_with_target\n",
    "from src.blend_stacked_models import stack_models\n",
    "from src.evaluate_models import evaluate_on_test\n",
    "\n",
    "# to make this notebook's output stable across runs\n",
    "np.random.seed(123)\n",
    "\n",
    "# To plot pretty figures\n",
    "%matplotlib inline\n",
    "import matplotlib as mpl\n",
    "import matplotlib.pyplot as plt\n",
    "import seaborn as sns\n",
    "mpl.rc('axes', labelsize=14)\n",
    "mpl.rc('xtick', labelsize=12)\n",
    "mpl.rc('ytick', labelsize=12)\n",
    "\n",
    "# Ignore useless warnings\n",
    "import warnings\n",
    "warnings.filterwarnings(action=\"ignore\", message=\"^internal gelsd\")\n",
    "\n",
    "PROJ_ROOT = os.getcwd()\n",
    "print(os.path.abspath(PROJ_ROOT))"
   ]
  },
  {
   "cell_type": "markdown",
   "metadata": {},
   "source": [
    "#### Following code lists all the dependancies used for this project (stored in requirements.txt file)"
   ]
  },
  {
   "cell_type": "code",
   "execution_count": 2,
   "metadata": {},
   "outputs": [
    {
     "name": "stdout",
     "output_type": "stream",
     "text": [
      "jupyter\n",
      "ipython\n",
      "notebook\n",
      "numpy\n",
      "pandas\n",
      "matplotlib\n",
      "seaborn\n",
      "warnings\n",
      "scikit-learn\n",
      "xgboost\n",
      "keras\n",
      "\n"
     ]
    }
   ],
   "source": [
    "# lists all the dependancies mentioned in requirements.txt file\n",
    "print(open(os.path.join(PROJ_ROOT, 'requirements.txt')).read())"
   ]
  },
  {
   "cell_type": "markdown",
   "metadata": {
    "colab_type": "text",
    "id": "6I6u7DneGpTS"
   },
   "source": [
    "## 1. Get The Data"
   ]
  },
  {
   "cell_type": "code",
   "execution_count": 3,
   "metadata": {
    "colab": {
     "base_uri": "https://localhost:8080/",
     "height": 846
    },
    "colab_type": "code",
    "id": "F2kzJTjoTc42",
    "outputId": "70066f15-2e9e-41c5-a2ba-4341038d11e3"
   },
   "outputs": [
    {
     "data": {
      "text/html": [
       "<div>\n",
       "<style scoped>\n",
       "    .dataframe tbody tr th:only-of-type {\n",
       "        vertical-align: middle;\n",
       "    }\n",
       "\n",
       "    .dataframe tbody tr th {\n",
       "        vertical-align: top;\n",
       "    }\n",
       "\n",
       "    .dataframe thead th {\n",
       "        text-align: right;\n",
       "    }\n",
       "</style>\n",
       "<table border=\"1\" class=\"dataframe\">\n",
       "  <thead>\n",
       "    <tr style=\"text-align: right;\">\n",
       "      <th></th>\n",
       "      <th>User_ID</th>\n",
       "      <th>Product_ID</th>\n",
       "      <th>Gender</th>\n",
       "      <th>Age</th>\n",
       "      <th>Occupation</th>\n",
       "      <th>City_Category</th>\n",
       "      <th>Stay_In_Current_City_Years</th>\n",
       "      <th>Marital_Status</th>\n",
       "      <th>Product_Category_1</th>\n",
       "      <th>Product_Category_2</th>\n",
       "      <th>Product_Category_3</th>\n",
       "      <th>Purchase</th>\n",
       "    </tr>\n",
       "  </thead>\n",
       "  <tbody>\n",
       "    <tr>\n",
       "      <th>0</th>\n",
       "      <td>1000001</td>\n",
       "      <td>P00069042</td>\n",
       "      <td>F</td>\n",
       "      <td>0-17</td>\n",
       "      <td>10</td>\n",
       "      <td>A</td>\n",
       "      <td>2</td>\n",
       "      <td>0</td>\n",
       "      <td>3</td>\n",
       "      <td>NaN</td>\n",
       "      <td>NaN</td>\n",
       "      <td>8370</td>\n",
       "    </tr>\n",
       "    <tr>\n",
       "      <th>1</th>\n",
       "      <td>1000001</td>\n",
       "      <td>P00248942</td>\n",
       "      <td>F</td>\n",
       "      <td>0-17</td>\n",
       "      <td>10</td>\n",
       "      <td>A</td>\n",
       "      <td>2</td>\n",
       "      <td>0</td>\n",
       "      <td>1</td>\n",
       "      <td>6.0</td>\n",
       "      <td>14.0</td>\n",
       "      <td>15200</td>\n",
       "    </tr>\n",
       "    <tr>\n",
       "      <th>2</th>\n",
       "      <td>1000001</td>\n",
       "      <td>P00087842</td>\n",
       "      <td>F</td>\n",
       "      <td>0-17</td>\n",
       "      <td>10</td>\n",
       "      <td>A</td>\n",
       "      <td>2</td>\n",
       "      <td>0</td>\n",
       "      <td>12</td>\n",
       "      <td>NaN</td>\n",
       "      <td>NaN</td>\n",
       "      <td>1422</td>\n",
       "    </tr>\n",
       "  </tbody>\n",
       "</table>\n",
       "</div>"
      ],
      "text/plain": [
       "   User_ID Product_ID Gender   Age  Occupation City_Category  \\\n",
       "0  1000001  P00069042      F  0-17          10             A   \n",
       "1  1000001  P00248942      F  0-17          10             A   \n",
       "2  1000001  P00087842      F  0-17          10             A   \n",
       "\n",
       "  Stay_In_Current_City_Years  Marital_Status  Product_Category_1  \\\n",
       "0                          2               0                   3   \n",
       "1                          2               0                   1   \n",
       "2                          2               0                  12   \n",
       "\n",
       "   Product_Category_2  Product_Category_3  Purchase  \n",
       "0                 NaN                 NaN      8370  \n",
       "1                 6.0                14.0     15200  \n",
       "2                 NaN                 NaN      1422  "
      ]
     },
     "execution_count": 3,
     "metadata": {},
     "output_type": "execute_result"
    }
   ],
   "source": [
    "# Load the data\n",
    "original_data_path = os.path.join(PROJ_ROOT,\n",
    "                                  'data',\n",
    "                                  'raw',\n",
    "                                  'data.csv')\n",
    "\n",
    "original_data = pd.read_csv(original_data_path)\n",
    "original_data.head(3)"
   ]
  },
  {
   "cell_type": "markdown",
   "metadata": {
    "colab_type": "text",
    "id": "9Voe8lL3IKZD"
   },
   "source": [
    "### Take A Quick Look At The Data"
   ]
  },
  {
   "cell_type": "code",
   "execution_count": 4,
   "metadata": {
    "colab": {
     "base_uri": "https://localhost:8080/",
     "height": 318
    },
    "colab_type": "code",
    "id": "YVCZTLVvk9dZ",
    "outputId": "2ad76970-b293-4f3e-ee02-4b18353f581f"
   },
   "outputs": [
    {
     "name": "stdout",
     "output_type": "stream",
     "text": [
      "<class 'pandas.core.frame.DataFrame'>\n",
      "RangeIndex: 550068 entries, 0 to 550067\n",
      "Data columns (total 12 columns):\n",
      "User_ID                       550068 non-null int64\n",
      "Product_ID                    550068 non-null object\n",
      "Gender                        550068 non-null object\n",
      "Age                           550068 non-null object\n",
      "Occupation                    550068 non-null int64\n",
      "City_Category                 550068 non-null object\n",
      "Stay_In_Current_City_Years    550068 non-null object\n",
      "Marital_Status                550068 non-null int64\n",
      "Product_Category_1            550068 non-null int64\n",
      "Product_Category_2            376430 non-null float64\n",
      "Product_Category_3            166821 non-null float64\n",
      "Purchase                      550068 non-null int64\n",
      "dtypes: float64(2), int64(5), object(5)\n",
      "memory usage: 50.4+ MB\n"
     ]
    }
   ],
   "source": [
    "original_data.info()"
   ]
  },
  {
   "cell_type": "code",
   "execution_count": 5,
   "metadata": {
    "colab": {
     "base_uri": "https://localhost:8080/",
     "height": 287
    },
    "colab_type": "code",
    "id": "cuftc0p0dJzo",
    "outputId": "49b041b7-7826-40a6-963d-9aa6af844ebe"
   },
   "outputs": [
    {
     "data": {
      "text/html": [
       "<div>\n",
       "<style scoped>\n",
       "    .dataframe tbody tr th:only-of-type {\n",
       "        vertical-align: middle;\n",
       "    }\n",
       "\n",
       "    .dataframe tbody tr th {\n",
       "        vertical-align: top;\n",
       "    }\n",
       "\n",
       "    .dataframe thead th {\n",
       "        text-align: right;\n",
       "    }\n",
       "</style>\n",
       "<table border=\"1\" class=\"dataframe\">\n",
       "  <thead>\n",
       "    <tr style=\"text-align: right;\">\n",
       "      <th></th>\n",
       "      <th>User_ID</th>\n",
       "      <th>Occupation</th>\n",
       "      <th>Marital_Status</th>\n",
       "      <th>Product_Category_1</th>\n",
       "      <th>Product_Category_2</th>\n",
       "      <th>Product_Category_3</th>\n",
       "      <th>Purchase</th>\n",
       "    </tr>\n",
       "  </thead>\n",
       "  <tbody>\n",
       "    <tr>\n",
       "      <th>count</th>\n",
       "      <td>5.500680e+05</td>\n",
       "      <td>550068.000000</td>\n",
       "      <td>550068.000000</td>\n",
       "      <td>550068.000000</td>\n",
       "      <td>376430.000000</td>\n",
       "      <td>166821.000000</td>\n",
       "      <td>550068.000000</td>\n",
       "    </tr>\n",
       "    <tr>\n",
       "      <th>mean</th>\n",
       "      <td>1.003029e+06</td>\n",
       "      <td>8.076707</td>\n",
       "      <td>0.409653</td>\n",
       "      <td>5.404270</td>\n",
       "      <td>9.842329</td>\n",
       "      <td>12.668243</td>\n",
       "      <td>9263.968713</td>\n",
       "    </tr>\n",
       "    <tr>\n",
       "      <th>std</th>\n",
       "      <td>1.727592e+03</td>\n",
       "      <td>6.522660</td>\n",
       "      <td>0.491770</td>\n",
       "      <td>3.936211</td>\n",
       "      <td>5.086590</td>\n",
       "      <td>4.125338</td>\n",
       "      <td>5023.065394</td>\n",
       "    </tr>\n",
       "    <tr>\n",
       "      <th>min</th>\n",
       "      <td>1.000001e+06</td>\n",
       "      <td>0.000000</td>\n",
       "      <td>0.000000</td>\n",
       "      <td>1.000000</td>\n",
       "      <td>2.000000</td>\n",
       "      <td>3.000000</td>\n",
       "      <td>12.000000</td>\n",
       "    </tr>\n",
       "    <tr>\n",
       "      <th>25%</th>\n",
       "      <td>1.001516e+06</td>\n",
       "      <td>2.000000</td>\n",
       "      <td>0.000000</td>\n",
       "      <td>1.000000</td>\n",
       "      <td>5.000000</td>\n",
       "      <td>9.000000</td>\n",
       "      <td>5823.000000</td>\n",
       "    </tr>\n",
       "    <tr>\n",
       "      <th>50%</th>\n",
       "      <td>1.003077e+06</td>\n",
       "      <td>7.000000</td>\n",
       "      <td>0.000000</td>\n",
       "      <td>5.000000</td>\n",
       "      <td>9.000000</td>\n",
       "      <td>14.000000</td>\n",
       "      <td>8047.000000</td>\n",
       "    </tr>\n",
       "    <tr>\n",
       "      <th>75%</th>\n",
       "      <td>1.004478e+06</td>\n",
       "      <td>14.000000</td>\n",
       "      <td>1.000000</td>\n",
       "      <td>8.000000</td>\n",
       "      <td>15.000000</td>\n",
       "      <td>16.000000</td>\n",
       "      <td>12054.000000</td>\n",
       "    </tr>\n",
       "    <tr>\n",
       "      <th>max</th>\n",
       "      <td>1.006040e+06</td>\n",
       "      <td>20.000000</td>\n",
       "      <td>1.000000</td>\n",
       "      <td>20.000000</td>\n",
       "      <td>18.000000</td>\n",
       "      <td>18.000000</td>\n",
       "      <td>23961.000000</td>\n",
       "    </tr>\n",
       "  </tbody>\n",
       "</table>\n",
       "</div>"
      ],
      "text/plain": [
       "            User_ID     Occupation  Marital_Status  Product_Category_1  \\\n",
       "count  5.500680e+05  550068.000000   550068.000000       550068.000000   \n",
       "mean   1.003029e+06       8.076707        0.409653            5.404270   \n",
       "std    1.727592e+03       6.522660        0.491770            3.936211   \n",
       "min    1.000001e+06       0.000000        0.000000            1.000000   \n",
       "25%    1.001516e+06       2.000000        0.000000            1.000000   \n",
       "50%    1.003077e+06       7.000000        0.000000            5.000000   \n",
       "75%    1.004478e+06      14.000000        1.000000            8.000000   \n",
       "max    1.006040e+06      20.000000        1.000000           20.000000   \n",
       "\n",
       "       Product_Category_2  Product_Category_3       Purchase  \n",
       "count       376430.000000       166821.000000  550068.000000  \n",
       "mean             9.842329           12.668243    9263.968713  \n",
       "std              5.086590            4.125338    5023.065394  \n",
       "min              2.000000            3.000000      12.000000  \n",
       "25%              5.000000            9.000000    5823.000000  \n",
       "50%              9.000000           14.000000    8047.000000  \n",
       "75%             15.000000           16.000000   12054.000000  \n",
       "max             18.000000           18.000000   23961.000000  "
      ]
     },
     "execution_count": 5,
     "metadata": {},
     "output_type": "execute_result"
    }
   ],
   "source": [
    "original_data.describe()"
   ]
  },
  {
   "cell_type": "markdown",
   "metadata": {
    "colab_type": "text",
    "id": "NXtq51_wIptL"
   },
   "source": [
    "**General Observations About The Data**\n",
    "\n",
    "```\n",
    "1. Age is a categorical feature here. We can convert it to a numerical feature.\n",
    "2. Occupation is a numerical feature here. Intuitively it should be categorical in nature.\n",
    "3. Stay_In_Current_City_Years is a categorical feature. The value 4+ may be converted to 4\n",
    "4. There are quite a few samples that have missing values for Product_Category_2 and a considerably high number of samples that have missing values for Product_Category_3\n",
    "5. All the three Product Category columns have numerical features, whereas intuitively they should be categorical in nature.\n",
    "6. Marital Status is a numerical feature, intuitively it should be categorical in nature.\n",
    "7. User_ID and Product_ID are quite relevant features here. Both of them have multiple occurences in the dataset. While, Product_ID seems appropriately typed as categorical, User_ID (typed numeric) could be changed to a categorical type. \n",
    "```\n",
    "\n",
    "**Conclusively, there seems to be a data type mismatch in most of the features and we may have to change it to appropriate data type.**\n",
    "\n"
   ]
  },
  {
   "cell_type": "markdown",
   "metadata": {},
   "source": [
    "##### This data set in its original form is quite large and hence considering the humble specs of my machine I would like to work on a sliced version of this data. <br/>\n",
    "##### Inorder to do that let's use a local library function that generates a random slice of the data (size = 100k observations). \n",
    "##### A copy of the file can be found at:\n",
    "      * data\n",
    "          * interim\n",
    "##### The function definition can be found in:\n",
    "      * src folder \n",
    "          * make_dataset module"
   ]
  },
  {
   "cell_type": "code",
   "execution_count": 6,
   "metadata": {},
   "outputs": [],
   "source": [
    "# Using the function make_dataset, create an interim dataset and store it in the data folder\n",
    "interim_data = make_dataset(original_data)"
   ]
  },
  {
   "cell_type": "code",
   "execution_count": 7,
   "metadata": {},
   "outputs": [
    {
     "data": {
      "text/plain": [
       "(100000, 12)"
      ]
     },
     "execution_count": 7,
     "metadata": {},
     "output_type": "execute_result"
    }
   ],
   "source": [
    "# Check the shape of the interim dataset\n",
    "interim_data.shape"
   ]
  },
  {
   "cell_type": "markdown",
   "metadata": {},
   "source": [
    "## 2. Build Features"
   ]
  },
  {
   "cell_type": "markdown",
   "metadata": {
    "colab_type": "text",
    "id": "xoZJNIzmRBwI"
   },
   "source": [
    "### Split The Data Into Train Set, Stacking Set and Test Set"
   ]
  },
  {
   "cell_type": "code",
   "execution_count": 8,
   "metadata": {},
   "outputs": [
    {
     "name": "stderr",
     "output_type": "stream",
     "text": [
      "C:\\Users\\visha\\Anaconda3\\lib\\site-packages\\sklearn\\model_selection\\_split.py:2179: FutureWarning: From version 0.21, test_size will always complement train_size unless both are specified.\n",
      "  FutureWarning)\n"
     ]
    }
   ],
   "source": [
    "train_set, stacking_set, test_set = src.build_features.train_stack_test_split(interim_data, 0.7, 0.5)"
   ]
  },
  {
   "cell_type": "code",
   "execution_count": 9,
   "metadata": {},
   "outputs": [
    {
     "name": "stdout",
     "output_type": "stream",
     "text": [
      "(70000, 12)\n",
      "(15000, 12)\n",
      "(15000, 12)\n"
     ]
    }
   ],
   "source": [
    "# Check the shapes of all three datasets\n",
    "print(train_set.shape)\n",
    "print(stacking_set.shape)\n",
    "print(test_set.shape)"
   ]
  },
  {
   "cell_type": "markdown",
   "metadata": {
    "colab_type": "text",
    "id": "jYfH5-GdT_cx"
   },
   "source": [
    "### Revise the features in all three datasets"
   ]
  },
  {
   "cell_type": "code",
   "execution_count": 10,
   "metadata": {
    "scrolled": true
   },
   "outputs": [
    {
     "name": "stderr",
     "output_type": "stream",
     "text": [
      "C:\\Users\\visha\\Documents\\GitHub\\Black_Friday_Data_Hack\\Black_Friday_Data_Hack\\src\\build_features.py:39: SettingWithCopyWarning: \n",
      "A value is trying to be set on a copy of a slice from a DataFrame.\n",
      "Try using .loc[row_indexer,col_indexer] = value instead\n",
      "\n",
      "See the caveats in the documentation: http://pandas.pydata.org/pandas-docs/stable/indexing.html#indexing-view-versus-copy\n",
      "  df['Age'] = df['Age'].map({'0-17': 15, '18-25': 21, '26-35': 30, '36-45': 40, '46-50': 48, '51-55': 53, '55+': 55})\n",
      "C:\\Users\\visha\\Documents\\GitHub\\Black_Friday_Data_Hack\\Black_Friday_Data_Hack\\src\\build_features.py:40: SettingWithCopyWarning: \n",
      "A value is trying to be set on a copy of a slice from a DataFrame.\n",
      "Try using .loc[row_indexer,col_indexer] = value instead\n",
      "\n",
      "See the caveats in the documentation: http://pandas.pydata.org/pandas-docs/stable/indexing.html#indexing-view-versus-copy\n",
      "  df['Stay_In_Current_City_Years'] = df['Stay_In_Current_City_Years'].map({'0': 0, '1': 1, '2': 2, '3': 3, '4+': 4})\n",
      "C:\\Users\\visha\\Documents\\GitHub\\Black_Friday_Data_Hack\\Black_Friday_Data_Hack\\src\\build_features.py:43: SettingWithCopyWarning: \n",
      "A value is trying to be set on a copy of a slice from a DataFrame.\n",
      "Try using .loc[row_indexer,col_indexer] = value instead\n",
      "\n",
      "See the caveats in the documentation: http://pandas.pydata.org/pandas-docs/stable/indexing.html#indexing-view-versus-copy\n",
      "  df['Occupation'] = df['Occupation'].astype('category')\n",
      "C:\\Users\\visha\\Documents\\GitHub\\Black_Friday_Data_Hack\\Black_Friday_Data_Hack\\src\\build_features.py:44: SettingWithCopyWarning: \n",
      "A value is trying to be set on a copy of a slice from a DataFrame.\n",
      "Try using .loc[row_indexer,col_indexer] = value instead\n",
      "\n",
      "See the caveats in the documentation: http://pandas.pydata.org/pandas-docs/stable/indexing.html#indexing-view-versus-copy\n",
      "  df['Product_Category_1'] = df['Product_Category_1'].astype('category')\n",
      "C:\\Users\\visha\\Documents\\GitHub\\Black_Friday_Data_Hack\\Black_Friday_Data_Hack\\src\\build_features.py:45: SettingWithCopyWarning: \n",
      "A value is trying to be set on a copy of a slice from a DataFrame.\n",
      "Try using .loc[row_indexer,col_indexer] = value instead\n",
      "\n",
      "See the caveats in the documentation: http://pandas.pydata.org/pandas-docs/stable/indexing.html#indexing-view-versus-copy\n",
      "  df['Product_Category_2'] = df['Product_Category_2'].astype('category')\n",
      "C:\\Users\\visha\\Documents\\GitHub\\Black_Friday_Data_Hack\\Black_Friday_Data_Hack\\src\\build_features.py:46: SettingWithCopyWarning: \n",
      "A value is trying to be set on a copy of a slice from a DataFrame.\n",
      "Try using .loc[row_indexer,col_indexer] = value instead\n",
      "\n",
      "See the caveats in the documentation: http://pandas.pydata.org/pandas-docs/stable/indexing.html#indexing-view-versus-copy\n",
      "  df['Product_Category_3'] = df['Product_Category_3'].astype('category')\n",
      "C:\\Users\\visha\\Documents\\GitHub\\Black_Friday_Data_Hack\\Black_Friday_Data_Hack\\src\\build_features.py:47: SettingWithCopyWarning: \n",
      "A value is trying to be set on a copy of a slice from a DataFrame.\n",
      "Try using .loc[row_indexer,col_indexer] = value instead\n",
      "\n",
      "See the caveats in the documentation: http://pandas.pydata.org/pandas-docs/stable/indexing.html#indexing-view-versus-copy\n",
      "  df['Marital_Status'] = df['Marital_Status'].astype('category')\n",
      "C:\\Users\\visha\\Documents\\GitHub\\Black_Friday_Data_Hack\\Black_Friday_Data_Hack\\src\\build_features.py:50: SettingWithCopyWarning: \n",
      "A value is trying to be set on a copy of a slice from a DataFrame.\n",
      "Try using .loc[row_indexer,col_indexer] = value instead\n",
      "\n",
      "See the caveats in the documentation: http://pandas.pydata.org/pandas-docs/stable/indexing.html#indexing-view-versus-copy\n",
      "  df['Product_ID'] = df['Product_ID'].map(lambda x: x[1:])\n",
      "C:\\Users\\visha\\Documents\\GitHub\\Black_Friday_Data_Hack\\Black_Friday_Data_Hack\\src\\build_features.py:51: SettingWithCopyWarning: \n",
      "A value is trying to be set on a copy of a slice from a DataFrame.\n",
      "Try using .loc[row_indexer,col_indexer] = value instead\n",
      "\n",
      "See the caveats in the documentation: http://pandas.pydata.org/pandas-docs/stable/indexing.html#indexing-view-versus-copy\n",
      "  df['Product_ID'] = df['Product_ID'].astype('int64')\n",
      "C:\\Users\\visha\\Documents\\GitHub\\Black_Friday_Data_Hack\\Black_Friday_Data_Hack\\src\\build_features.py:54: SettingWithCopyWarning: \n",
      "A value is trying to be set on a copy of a slice from a DataFrame.\n",
      "Try using .loc[row_indexer,col_indexer] = value instead\n",
      "\n",
      "See the caveats in the documentation: http://pandas.pydata.org/pandas-docs/stable/indexing.html#indexing-view-versus-copy\n",
      "  df['Purchase'] = df['Purchase'].astype('int64')\n"
     ]
    }
   ],
   "source": [
    "# Convert data types of features in train set, stacking set and test set\n",
    "\n",
    "train_data_revised    = src.build_features.convert_data_types(train_set)\n",
    "stacking_data_revised = src.build_features.convert_data_types(stacking_set)\n",
    "test_data_revised     = src.build_features.convert_data_types(test_set)"
   ]
  },
  {
   "cell_type": "code",
   "execution_count": 11,
   "metadata": {
    "colab": {
     "base_uri": "https://localhost:8080/",
     "height": 318
    },
    "colab_type": "code",
    "id": "tUOV3xXKQHd0",
    "outputId": "d692e742-9d7c-4037-de1f-72c701985958"
   },
   "outputs": [
    {
     "name": "stdout",
     "output_type": "stream",
     "text": [
      "<class 'pandas.core.frame.DataFrame'>\n",
      "Int64Index: 70000 entries, 52308 to 15725\n",
      "Data columns (total 12 columns):\n",
      "User_ID                       70000 non-null object\n",
      "Product_ID                    70000 non-null int64\n",
      "Gender                        70000 non-null object\n",
      "Age                           70000 non-null int64\n",
      "Occupation                    70000 non-null category\n",
      "City_Category                 70000 non-null object\n",
      "Stay_In_Current_City_Years    70000 non-null int64\n",
      "Marital_Status                70000 non-null category\n",
      "Product_Category_1            70000 non-null category\n",
      "Product_Category_2            47880 non-null category\n",
      "Product_Category_3            21229 non-null category\n",
      "Purchase                      70000 non-null int64\n",
      "dtypes: category(5), int64(4), object(3)\n",
      "memory usage: 4.6+ MB\n"
     ]
    }
   ],
   "source": [
    "# Check the revised dataset\n",
    "train_data_revised.info()"
   ]
  },
  {
   "cell_type": "code",
   "execution_count": 12,
   "metadata": {
    "colab": {},
    "colab_type": "code",
    "id": "wB0_2pQDtjTe"
   },
   "outputs": [],
   "source": [
    "# Separate the features from the target for train set, stacking set and test set\n",
    "\n",
    "train_features, train_target = src.build_features.separate_features_target(train_data_revised)\n",
    "stacking_features, stacking_target = src.build_features.separate_features_target(stacking_data_revised)\n",
    "test_features, test_target = src.build_features.separate_features_target(test_data_revised)"
   ]
  },
  {
   "cell_type": "code",
   "execution_count": 13,
   "metadata": {},
   "outputs": [],
   "source": [
    "# Prepare two separate lists, one of numerical features and other of categorical features (for train set)\n",
    "\n",
    "train_num_feature_columns, train_cat_feature_columns = src.build_features.num_cat_feature_columns(train_data_revised)\n",
    "stacking_num_feature_columns, stacking_cat_feature_columns = src.build_features.num_cat_feature_columns(stacking_data_revised)\n",
    "test_num_feature_columns, test_cat_feature_columns = src.build_features.num_cat_feature_columns(test_data_revised)"
   ]
  },
  {
   "cell_type": "markdown",
   "metadata": {},
   "source": [
    "## 3. Visualize The Data"
   ]
  },
  {
   "cell_type": "code",
   "execution_count": 14,
   "metadata": {},
   "outputs": [
    {
     "data": {
      "text/plain": [
       "<matplotlib.axes._subplots.AxesSubplot at 0x2d627dcea20>"
      ]
     },
     "execution_count": 14,
     "metadata": {},
     "output_type": "execute_result"
    },
    {
     "data": {
      "image/png": "[encoded data removed]",
      "text/plain": [
       "<Figure size 432x288 with 1 Axes>"
      ]
     },
     "metadata": {
      "needs_background": "light"
     },
     "output_type": "display_data"
    }
   ],
   "source": [
    "# Explore how Purchase is related to customer gender\n",
    "relationship_with_target(train_data_revised, 'Gender', PROJ_ROOT)"
   ]
  },
  {
   "cell_type": "code",
   "execution_count": 15,
   "metadata": {
    "colab": {
     "base_uri": "https://localhost:8080/",
     "height": 307
    },
    "colab_type": "code",
    "id": "UMICsRsiDtab",
    "outputId": "d7b24924-09bc-4020-d1ff-bc0ef1badcb5"
   },
   "outputs": [
    {
     "data": {
      "text/plain": [
       "<matplotlib.axes._subplots.AxesSubplot at 0x2d627dcecf8>"
      ]
     },
     "execution_count": 15,
     "metadata": {},
     "output_type": "execute_result"
    },
    {
     "data": {
      "image/png": "[encoded data removed]",
      "text/plain": [
       "<Figure size 432x288 with 1 Axes>"
      ]
     },
     "metadata": {
      "needs_background": "light"
     },
     "output_type": "display_data"
    }
   ],
   "source": [
    "# Explore the relationship between Product Sales and the city the customer lives in\n",
    "relationship_with_target(train_data_revised, 'City_Category', PROJ_ROOT)"
   ]
  },
  {
   "cell_type": "code",
   "execution_count": 16,
   "metadata": {
    "colab": {
     "base_uri": "https://localhost:8080/",
     "height": 307
    },
    "colab_type": "code",
    "id": "8QKtEonhEf8r",
    "outputId": "fb7867f6-1dbe-4461-be6a-43e9f0098ce1"
   },
   "outputs": [
    {
     "data": {
      "text/plain": [
       "<matplotlib.axes._subplots.AxesSubplot at 0x2d62e432668>"
      ]
     },
     "execution_count": 16,
     "metadata": {},
     "output_type": "execute_result"
    },
    {
     "data": {
      "image/png": "[encoded data removed]",
      "text/plain": [
       "<Figure size 432x288 with 1 Axes>"
      ]
     },
     "metadata": {
      "needs_background": "light"
     },
     "output_type": "display_data"
    }
   ],
   "source": [
    "# Explore how Product Sales (Amount) is related to the age of the customer\n",
    "relationship_with_target(train_data_revised, 'Age', PROJ_ROOT)"
   ]
  },
  {
   "cell_type": "code",
   "execution_count": 17,
   "metadata": {
    "colab": {
     "base_uri": "https://localhost:8080/",
     "height": 307
    },
    "colab_type": "code",
    "id": "RVYcEk6NPOhK",
    "outputId": "1915d435-8fc3-4ca4-cd1d-161c3522cc10"
   },
   "outputs": [
    {
     "data": {
      "text/plain": [
       "<matplotlib.axes._subplots.AxesSubplot at 0x2d627b8de48>"
      ]
     },
     "execution_count": 17,
     "metadata": {},
     "output_type": "execute_result"
    },
    {
     "data": {
      "image/png": "[encoded data removed]",
      "text/plain": [
       "<Figure size 432x288 with 1 Axes>"
      ]
     },
     "metadata": {
      "needs_background": "light"
     },
     "output_type": "display_data"
    }
   ],
   "source": [
    "# Explore the dependancy between the Product Sales (Amount) and the time duration \n",
    "# for which a customer has stayed in the current city \n",
    "relationship_with_target(train_data_revised, 'Stay_In_Current_City_Years', PROJ_ROOT)"
   ]
  },
  {
   "cell_type": "markdown",
   "metadata": {},
   "source": [
    "### From the above exploratory data visualizations we see that the target variable `Purchase` is rather fairly uniformly distributed across different features"
   ]
  },
  {
   "cell_type": "markdown",
   "metadata": {},
   "source": [
    "## 4. Pre-Process Data"
   ]
  },
  {
   "cell_type": "markdown",
   "metadata": {
    "colab_type": "text",
    "id": "eCztdWRxtjml"
   },
   "source": [
    "#### Prepare Data For Machine Learning Algorithms"
   ]
  },
  {
   "cell_type": "markdown",
   "metadata": {
    "colab_type": "text",
    "id": "0MS-26LruGWd"
   },
   "source": [
    "Let's create custom transformers for:\n",
    "1. Handling Missing Values (SimpleImputer)\n",
    "2. Feature Engineering (FunctionTransformer)\n",
    "2. Convert All Categorical Data into One-Hot Encoders (OneHotEncoder)\n",
    "3. Normalization of All Non-categorical Data (MinMaxScaler)"
   ]
  },
  {
   "cell_type": "code",
   "execution_count": 18,
   "metadata": {},
   "outputs": [],
   "source": [
    "train_prepared    = src.preprocess_data.transform_all_features(train_features, train_num_feature_columns, train_cat_feature_columns)\n",
    "stacking_prepared = src.preprocess_data.transform_all_features(stacking_features, stacking_num_feature_columns, stacking_cat_feature_columns)\n",
    "test_prepared     = src.preprocess_data.transform_all_features(test_features, test_num_feature_columns, test_cat_feature_columns)"
   ]
  },
  {
   "cell_type": "markdown",
   "metadata": {
    "colab_type": "text",
    "id": "R_Ll7qfTXpnQ"
   },
   "source": [
    "## 5. Train Machine Learning Models"
   ]
  },
  {
   "cell_type": "code",
   "execution_count": 19,
   "metadata": {},
   "outputs": [
    {
     "name": "stdout",
     "output_type": "stream",
     "text": [
      "Fitting 4 folds for each of 1 candidates, totalling 4 fits\n"
     ]
    },
    {
     "name": "stderr",
     "output_type": "stream",
     "text": [
      "[Parallel(n_jobs=-1)]: Using backend LokyBackend with 4 concurrent workers.\n",
      "[Parallel(n_jobs=-1)]: Done   2 out of   4 | elapsed:  1.8min remaining:  1.8min\n",
      "[Parallel(n_jobs=-1)]: Done   4 out of   4 | elapsed:  1.9min finished\n"
     ]
    },
    {
     "name": "stdout",
     "output_type": "stream",
     "text": [
      "LASSO Regression Model saved to disk\n"
     ]
    },
    {
     "name": "stderr",
     "output_type": "stream",
     "text": [
      "C:\\Users\\visha\\Anaconda3\\lib\\site-packages\\sklearn\\linear_model\\coordinate_descent.py:492: ConvergenceWarning: Objective did not converge. You might want to increase the number of iterations. Fitting data with very small alpha may cause precision problems.\n",
      "  ConvergenceWarning)\n"
     ]
    }
   ],
   "source": [
    "# Train LASSO Regressor\n",
    "\n",
    "lasso_model, lasso_score = src.train_models.train_lasso_reg(train_prepared, train_target)"
   ]
  },
  {
   "cell_type": "code",
   "execution_count": 20,
   "metadata": {
    "colab": {
     "base_uri": "https://localhost:8080/",
     "height": 250
    },
    "colab_type": "code",
    "id": "l5LYwGcZXpRo",
    "outputId": "863e7c24-9e71-4152-f07b-21de496981c1"
   },
   "outputs": [
    {
     "name": "stderr",
     "output_type": "stream",
     "text": [
      "[Parallel(n_jobs=-1)]: Using backend LokyBackend with 4 concurrent workers.\n"
     ]
    },
    {
     "name": "stdout",
     "output_type": "stream",
     "text": [
      "Fitting 4 folds for each of 1 candidates, totalling 4 fits\n"
     ]
    },
    {
     "name": "stderr",
     "output_type": "stream",
     "text": [
      "[Parallel(n_jobs=-1)]: Done   2 out of   4 | elapsed:   11.8s remaining:   11.8s\n",
      "[Parallel(n_jobs=-1)]: Done   4 out of   4 | elapsed:   11.8s finished\n"
     ]
    },
    {
     "name": "stdout",
     "output_type": "stream",
     "text": [
      "Random Forest Model saved to disk\n"
     ]
    }
   ],
   "source": [
    "# Train Random Forest Regressor\n",
    "\n",
    "rnd_forest_model, rnd_forest_score = src.train_models.train_random_forest_reg(train_prepared, train_target)"
   ]
  },
  {
   "cell_type": "code",
   "execution_count": 21,
   "metadata": {
    "colab": {
     "base_uri": "https://localhost:8080/",
     "height": 52
    },
    "colab_type": "code",
    "id": "XbAFtDqydFyF",
    "outputId": "37b76890-1f60-4729-d229-beec7b4f8ef4"
   },
   "outputs": [
    {
     "name": "stdout",
     "output_type": "stream",
     "text": [
      "Fitting 4 folds for each of 1 candidates, totalling 4 fits\n"
     ]
    },
    {
     "name": "stderr",
     "output_type": "stream",
     "text": [
      "[Parallel(n_jobs=-1)]: Using backend LokyBackend with 4 concurrent workers.\n",
      "[Parallel(n_jobs=-1)]: Done   2 out of   4 | elapsed:  2.0min remaining:  2.0min\n",
      "[Parallel(n_jobs=-1)]: Done   4 out of   4 | elapsed:  2.0min finished\n",
      "C:\\Users\\visha\\Anaconda3\\lib\\site-packages\\xgboost\\core.py:587: FutureWarning: Series.base is deprecated and will be removed in a future version\n",
      "  if getattr(data, 'base', None) is not None and \\\n"
     ]
    },
    {
     "name": "stdout",
     "output_type": "stream",
     "text": [
      "XGBoost Model saved to disk\n"
     ]
    }
   ],
   "source": [
    "# Train XGBoost Regressor\n",
    "\n",
    "xgboost_model, xgboost_score = src.train_models.train_xgboost_reg(train_prepared, train_target)"
   ]
  },
  {
   "cell_type": "code",
   "execution_count": 22,
   "metadata": {
    "colab": {
     "base_uri": "https://localhost:8080/",
     "height": 265
    },
    "colab_type": "code",
    "id": "a2HN4dicXd0H",
    "outputId": "3fce3392-f2d3-4a40-c13e-cb3d048187a5"
   },
   "outputs": [
    {
     "name": "stdout",
     "output_type": "stream",
     "text": [
      "Epoch 1/10\n",
      "56000/56000 [==============================] - 23s 418us/step - loss: 49326927.1250 - mean_squared_error: 49326927.1250\n",
      "Epoch 2/10\n",
      "56000/56000 [==============================] - 20s 351us/step - loss: 11274706.4464 - mean_squared_error: 11274706.4464\n",
      "Epoch 3/10\n",
      "56000/56000 [==============================] - 20s 355us/step - loss: 9196563.5446 - mean_squared_error: 9196563.5446\n",
      "Epoch 4/10\n",
      "56000/56000 [==============================] - 21s 382us/step - loss: 8916436.7500 - mean_squared_error: 8916436.7500\n",
      "Epoch 5/10\n",
      "56000/56000 [==============================] - 20s 352us/step - loss: 8797340.4286 - mean_squared_error: 8797340.4286\n",
      "Epoch 6/10\n",
      "56000/56000 [==============================] - 20s 355us/step - loss: 8732072.3750 - mean_squared_error: 8732072.3750\n",
      "Epoch 7/10\n",
      "56000/56000 [==============================] - 21s 375us/step - loss: 8670694.4911 - mean_squared_error: 8670694.4911\n",
      "Epoch 8/10\n",
      "56000/56000 [==============================] - 19s 347us/step - loss: 8617906.4643 - mean_squared_error: 8617906.4643\n",
      "Epoch 9/10\n",
      "56000/56000 [==============================] - 20s 363us/step - loss: 8563216.8839 - mean_squared_error: 8563216.8839\n",
      "Epoch 10/10\n",
      "56000/56000 [==============================] - 21s 367us/step - loss: 8530813.6071 - mean_squared_error: 8530813.6071\n",
      "DNN Model saved to disk\n"
     ]
    }
   ],
   "source": [
    "# Train Deep Neural Network (Multi-layer Perceptron)\n",
    "\n",
    "dnn_model, dnn_score = src.train_models.train_deep_neural_network(train_prepared, train_target)"
   ]
  },
  {
   "cell_type": "markdown",
   "metadata": {},
   "source": [
    "## 6. Stacking and Blending Models"
   ]
  },
  {
   "cell_type": "code",
   "execution_count": 23,
   "metadata": {
    "colab": {
     "base_uri": "https://localhost:8080/",
     "height": 34
    },
    "colab_type": "code",
    "id": "Fpd_QNahlFSb",
    "outputId": "0cac442f-a8dc-4965-c94f-9a4530815791"
   },
   "outputs": [
    {
     "name": "stderr",
     "output_type": "stream",
     "text": [
      "C:\\Users\\visha\\Anaconda3\\lib\\site-packages\\sklearn\\model_selection\\_split.py:2053: FutureWarning: You should specify a value for 'cv' instead of relying on the default value. The default value will change from 3 to 5 in version 0.22.\n",
      "  warnings.warn(CV_WARNING, FutureWarning)\n"
     ]
    }
   ],
   "source": [
    "# Train and evaluate the Blender on Stacking set\n",
    "\n",
    "blender_model, blender_score = stack_models(stacking_prepared, \n",
    "                                            stacking_target,\n",
    "                                            lasso_model,\n",
    "                                            rnd_forest_model,\n",
    "                                            xgboost_model,\n",
    "                                            dnn_model)"
   ]
  },
  {
   "cell_type": "markdown",
   "metadata": {},
   "source": [
    "## 7. Evaluate Best Model on Test Set"
   ]
  },
  {
   "cell_type": "code",
   "execution_count": 24,
   "metadata": {},
   "outputs": [
    {
     "name": "stdout",
     "output_type": "stream",
     "text": [
      "                     Model        Score\n",
      "0          LASSO Regressor  2974.226616\n",
      "1  Random Forest Regressor  3035.515064\n",
      "2        XGBoost Regressor  2686.311677\n",
      "3      Deep Neural Network  2912.012097\n",
      "4                  Blender  2867.223313\n"
     ]
    }
   ],
   "source": [
    "# Create a table of all the models with their mean cross-validated scores\n",
    "\n",
    "scoreboard = pd.DataFrame({'Model': ['LASSO Regressor', 'Random Forest Regressor', 'XGBoost Regressor', 'Deep Neural Network', 'Blender'],\n",
    "                           'Score': [lasso_score, rnd_forest_score, xgboost_score, dnn_score, blender_score]})\n",
    "\n",
    "print (scoreboard)"
   ]
  },
  {
   "cell_type": "markdown",
   "metadata": {},
   "source": [
    "### Clearly, XGBoost wins over others!!"
   ]
  },
  {
   "cell_type": "code",
   "execution_count": 25,
   "metadata": {},
   "outputs": [],
   "source": [
    "# Check the Performance of XGBoost on Test set\n",
    "\n",
    "final_score = evaluate_on_test(xgboost_model, test_prepared, test_target)"
   ]
  },
  {
   "cell_type": "code",
   "execution_count": 26,
   "metadata": {},
   "outputs": [
    {
     "name": "stdout",
     "output_type": "stream",
     "text": [
      "The final score of XGBoost Regressor on unseen data is 2709.96\n"
     ]
    }
   ],
   "source": [
    "print('The final score of XGBoost Regressor on unseen data is {}'.format(np.round(final_score, 2)))"
   ]
  },
  {
   "cell_type": "markdown",
   "metadata": {},
   "source": [
    "#### Also, to compare the performance of Random Forest Regressor against Deep Neural Network on the (previously unseen) test data"
   ]
  },
  {
   "cell_type": "code",
   "execution_count": 27,
   "metadata": {},
   "outputs": [
    {
     "name": "stdout",
     "output_type": "stream",
     "text": [
      "The score of Random Forest Regressor on unseen data is 3111.16\n",
      "The score of Deep Neural Network on unseen data is 2985.07\n"
     ]
    }
   ],
   "source": [
    "rnd_forest_score = evaluate_on_test(rnd_forest_model, test_prepared, test_target)\n",
    "dnn_score = evaluate_on_test(dnn_model, test_prepared, test_target)\n",
    "\n",
    "print('The score of Random Forest Regressor on unseen data is {}'.format(np.round(rnd_forest_score, 2)))\n",
    "print('The score of Deep Neural Network on unseen data is {}'.format(np.round(dnn_score, 2)))"
   ]
  },
  {
   "cell_type": "markdown",
   "metadata": {},
   "source": [
    "#### Thus, after evaluating all the different models and their ensemble, we can conclude that XGBoost seems to have the lowest generalization error and hence better prediciting power.\n",
    "\n",
    "### However, among Random Forest and Multi-Layer Perceptron, MLP seems to have lower generalization error and hence beats the Random Forest Regressor in terms of predicting power."
   ]
  },
  {
   "cell_type": "markdown",
   "metadata": {},
   "source": [
    "## Thanks for reading!"
   ]
  },
  {
   "cell_type": "code",
   "execution_count": null,
   "metadata": {},
   "outputs": [],
   "source": []
  }
 ],
 "metadata": {
  "accelerator": "GPU",
  "colab": {
   "collapsed_sections": [],
   "name": "main.ipynb",
   "provenance": [],
   "version": "0.3.2"
  },
  "kernelspec": {
   "display_name": "Python 3",
   "language": "python",
   "name": "python3"
  },
  "language_info": {
   "codemirror_mode": {
    "name": "ipython",
    "version": 3
   },
   "file_extension": ".py",
   "mimetype": "text/x-python",
   "name": "python",
   "nbconvert_exporter": "python",
   "pygments_lexer": "ipython3",
   "version": "3.7.4"
  }
 },
 "nbformat": 4,
 "nbformat_minor": 1
}
