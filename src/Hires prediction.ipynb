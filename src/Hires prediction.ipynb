{
 "cells": [
  {
   "cell_type": "code",
   "execution_count": 108,
   "metadata": {},
   "outputs": [],
   "source": [
    "# Import libraries\n",
    "import pandas as pd\n",
    "import sklearn\n",
    "import matplotlib.pyplot as plt\n",
    "import seaborn as sns\n",
    "from pandas import DataFrame\n",
    "from efficient_apriori import apriori\n",
    "import numpy as np\n",
    "from dfply import *\n",
    "\n",
    "from numpy import loadtxt\n",
    "from xgboost import XGBClassifier\n",
    "from sklearn.model_selection import train_test_split\n",
    "from sklearn.metrics import accuracy_score\n",
    "from fuzzywuzzy import fuzz"
   ]
  },
  {
   "cell_type": "code",
   "execution_count": 109,
   "metadata": {},
   "outputs": [],
   "source": [
    "# Functions to be used\n",
    "def load_data(file):\n",
    "    return pd.read_csv(file)"
   ]
  },
  {
   "cell_type": "code",
   "execution_count": 110,
   "metadata": {},
   "outputs": [],
   "source": [
    "# Data loading\n",
    "HiredCandidates_df = load_data(r'D:\\vanhack\\data\\HiredCandidates.csv')\n",
    "HiredJobs_df = load_data(r'D:\\vanhack\\data\\HiredJobDetails.csv')\n",
    "\n",
    "Candidates_df = load_data(r'D:\\vanhack\\data\\AvailableCandidates.csv')\n",
    "JobsToPredict_df = load_data(r'D:\\vanhack\\data\\JobsToPredict.csv')"
   ]
  },
  {
   "cell_type": "markdown",
   "metadata": {},
   "source": [
    "### Feature Engineering"
   ]
  },
  {
   "cell_type": "code",
   "execution_count": 111,
   "metadata": {},
   "outputs": [],
   "source": [
    "# Splitting Skills into separate elements in a list\n",
    "HiredJobs_df['Skills'] = HiredJobs_df['Skills'].apply(lambda v: v.rsplit(', '))\n",
    "HiredCandidates_df['Skills'] = HiredCandidates_df['Skills'].apply(lambda v: v.rsplit(', '))\n",
    "\n",
    "Hired_df = pd.merge(HiredJobs_df, HiredCandidates_df, left_on='JobId', right_on='HiredForJobId')"
   ]
  },
  {
   "cell_type": "markdown",
   "metadata": {},
   "source": [
    "### EDA"
   ]
  },
  {
   "cell_type": "code",
   "execution_count": 112,
   "metadata": {},
   "outputs": [],
   "source": [
    "# Candidates to be hired by position\n",
    "CandidatesByPosition_df = Candidates_df.groupby(['UsersPosition']).size().to_frame('Candidate_count').reset_index()\n",
    "CandidatesByPosition_df = CandidatesByPosition_df.sort_values('Candidate_count', ascending = False).head(10)"
   ]
  },
  {
   "cell_type": "code",
   "execution_count": 182,
   "metadata": {},
   "outputs": [
    {
     "data": {
      "text/html": [
       "<div>\n",
       "<style scoped>\n",
       "    .dataframe tbody tr th:only-of-type {\n",
       "        vertical-align: middle;\n",
       "    }\n",
       "\n",
       "    .dataframe tbody tr th {\n",
       "        vertical-align: top;\n",
       "    }\n",
       "\n",
       "    .dataframe thead th {\n",
       "        text-align: right;\n",
       "    }\n",
       "</style>\n",
       "<table border=\"1\" class=\"dataframe\">\n",
       "  <thead>\n",
       "    <tr style=\"text-align: right;\">\n",
       "      <th></th>\n",
       "      <th>UsersPosition</th>\n",
       "      <th>Candidate_count</th>\n",
       "    </tr>\n",
       "  </thead>\n",
       "  <tbody>\n",
       "    <tr>\n",
       "      <th>117</th>\n",
       "      <td>Software Engineer</td>\n",
       "      <td>17</td>\n",
       "    </tr>\n",
       "    <tr>\n",
       "      <th>100</th>\n",
       "      <td>Senior Software Engineer</td>\n",
       "      <td>9</td>\n",
       "    </tr>\n",
       "    <tr>\n",
       "      <th>112</th>\n",
       "      <td>Software Developer</td>\n",
       "      <td>8</td>\n",
       "    </tr>\n",
       "    <tr>\n",
       "      <th>41</th>\n",
       "      <td>Full Stack Developer</td>\n",
       "      <td>8</td>\n",
       "    </tr>\n",
       "    <tr>\n",
       "      <th>77</th>\n",
       "      <td>Mobile Developer</td>\n",
       "      <td>4</td>\n",
       "    </tr>\n",
       "    <tr>\n",
       "      <th>134</th>\n",
       "      <td>Web Developer</td>\n",
       "      <td>4</td>\n",
       "    </tr>\n",
       "    <tr>\n",
       "      <th>95</th>\n",
       "      <td>Senior Software Developer</td>\n",
       "      <td>4</td>\n",
       "    </tr>\n",
       "    <tr>\n",
       "      <th>59</th>\n",
       "      <td>Fullstack Developer</td>\n",
       "      <td>4</td>\n",
       "    </tr>\n",
       "    <tr>\n",
       "      <th>35</th>\n",
       "      <td>Front End Developer</td>\n",
       "      <td>3</td>\n",
       "    </tr>\n",
       "    <tr>\n",
       "      <th>88</th>\n",
       "      <td>Senior Full Stack Developer</td>\n",
       "      <td>3</td>\n",
       "    </tr>\n",
       "  </tbody>\n",
       "</table>\n",
       "</div>"
      ],
      "text/plain": [
       "                   UsersPosition  Candidate_count\n",
       "117            Software Engineer               17\n",
       "100     Senior Software Engineer                9\n",
       "112           Software Developer                8\n",
       "41          Full Stack Developer                8\n",
       "77              Mobile Developer                4\n",
       "134                Web Developer                4\n",
       "95     Senior Software Developer                4\n",
       "59           Fullstack Developer                4\n",
       "35           Front End Developer                3\n",
       "88   Senior Full Stack Developer                3"
      ]
     },
     "execution_count": 182,
     "metadata": {},
     "output_type": "execute_result"
    }
   ],
   "source": [
    "HiredCandidatesByPosition_df"
   ]
  },
  {
   "cell_type": "code",
   "execution_count": 113,
   "metadata": {},
   "outputs": [],
   "source": [
    "# Hired Candidates by position\n",
    "HiredCandidatesByPosition_df = HiredCandidates_df.groupby(['UsersPosition']).size().to_frame('Candidate_count').reset_index()\n",
    "HiredCandidatesByPosition_df = HiredCandidatesByPosition_df.sort_values('Candidate_count', ascending = False).head(10)"
   ]
  },
  {
   "cell_type": "code",
   "execution_count": 114,
   "metadata": {},
   "outputs": [],
   "source": [
    "# Hired Jobs\n",
    "HiredJobsPosition_df = HiredJobs_df.groupby(['POSITION']).size().to_frame('Jobs_count').reset_index()\n",
    "HiredJobsPosition_df = HiredJobsPosition_df.sort_values('Jobs_count', ascending = False).head(10)"
   ]
  },
  {
   "cell_type": "code",
   "execution_count": 115,
   "metadata": {},
   "outputs": [
    {
     "data": {
      "text/html": [
       "<div>\n",
       "<style scoped>\n",
       "    .dataframe tbody tr th:only-of-type {\n",
       "        vertical-align: middle;\n",
       "    }\n",
       "\n",
       "    .dataframe tbody tr th {\n",
       "        vertical-align: top;\n",
       "    }\n",
       "\n",
       "    .dataframe thead th {\n",
       "        text-align: right;\n",
       "    }\n",
       "</style>\n",
       "<table border=\"1\" class=\"dataframe\">\n",
       "  <thead>\n",
       "    <tr style=\"text-align: right;\">\n",
       "      <th></th>\n",
       "      <th>UsersPosition</th>\n",
       "      <th>Candidate_count</th>\n",
       "    </tr>\n",
       "  </thead>\n",
       "  <tbody>\n",
       "    <tr>\n",
       "      <th>4684</th>\n",
       "      <td>Software Engineer</td>\n",
       "      <td>462</td>\n",
       "    </tr>\n",
       "    <tr>\n",
       "      <th>4566</th>\n",
       "      <td>Software Developer</td>\n",
       "      <td>393</td>\n",
       "    </tr>\n",
       "    <tr>\n",
       "      <th>1847</th>\n",
       "      <td>Full Stack Developer</td>\n",
       "      <td>265</td>\n",
       "    </tr>\n",
       "    <tr>\n",
       "      <th>4324</th>\n",
       "      <td>Senior Software Engineer</td>\n",
       "      <td>144</td>\n",
       "    </tr>\n",
       "    <tr>\n",
       "      <th>5596</th>\n",
       "      <td>Web Developer</td>\n",
       "      <td>106</td>\n",
       "    </tr>\n",
       "    <tr>\n",
       "      <th>2772</th>\n",
       "      <td>Java Developer</td>\n",
       "      <td>101</td>\n",
       "    </tr>\n",
       "    <tr>\n",
       "      <th>1241</th>\n",
       "      <td>Developer</td>\n",
       "      <td>87</td>\n",
       "    </tr>\n",
       "    <tr>\n",
       "      <th>4302</th>\n",
       "      <td>Senior Software Developer</td>\n",
       "      <td>72</td>\n",
       "    </tr>\n",
       "    <tr>\n",
       "      <th>389</th>\n",
       "      <td>Android Developer</td>\n",
       "      <td>64</td>\n",
       "    </tr>\n",
       "    <tr>\n",
       "      <th>1948</th>\n",
       "      <td>Full Stack Web Developer</td>\n",
       "      <td>55</td>\n",
       "    </tr>\n",
       "  </tbody>\n",
       "</table>\n",
       "</div>"
      ],
      "text/plain": [
       "                  UsersPosition  Candidate_count\n",
       "4684          Software Engineer              462\n",
       "4566         Software Developer              393\n",
       "1847       Full Stack Developer              265\n",
       "4324   Senior Software Engineer              144\n",
       "5596              Web Developer              106\n",
       "2772             Java Developer              101\n",
       "1241                  Developer               87\n",
       "4302  Senior Software Developer               72\n",
       "389           Android Developer               64\n",
       "1948   Full Stack Web Developer               55"
      ]
     },
     "execution_count": 115,
     "metadata": {},
     "output_type": "execute_result"
    }
   ],
   "source": [
    "CandidatesByPosition_df.sort_values('Candidate_count', ascending = False).head(10)"
   ]
  },
  {
   "cell_type": "code",
   "execution_count": 116,
   "metadata": {},
   "outputs": [
    {
     "data": {
      "text/plain": [
       "[Text(0, 0.5, ''),\n",
       " Text(0.5, 0, 'Available Candidates count'),\n",
       " Text(0.5, 1.0, '#Candidates available to hire by Positions')]"
      ]
     },
     "execution_count": 116,
     "metadata": {},
     "output_type": "execute_result"
    },
    {
     "data": {
      "image/png": "[encoded data removed]",
      "text/plain": [
       "<Figure size 432x288 with 1 Axes>"
      ]
     },
     "metadata": {},
     "output_type": "display_data"
    }
   ],
   "source": [
    "# Have to add labels/color\n",
    "sns.set(style=\"darkgrid\")\n",
    "\n",
    "# Initialize the matplotlib figure\n",
    "#f, ax = plt.subplots(figsize=(6, 15))\n",
    "\n",
    "# Plot Talent pool by positions\n",
    "sns.set_color_codes(\"pastel\")\n",
    "ax = sns.barplot(x=\"Candidate_count\", y=\"UsersPosition\", data=CandidatesByPosition_df,\n",
    "           palette=plt.cm.ScalarMappable(cmap='viridis_r').to_rgba(CandidatesByPosition_df[\"Candidate_count\"]))\n",
    "\n",
    "ax.set(xlabel='Available Candidates count', ylabel='', title = '#Candidates available to hire by Positions')"
   ]
  },
  {
   "cell_type": "code",
   "execution_count": 117,
   "metadata": {},
   "outputs": [
    {
     "data": {
      "text/plain": [
       "[Text(0, 0.5, ''),\n",
       " Text(0.5, 0, 'Hired Candidates count'),\n",
       " Text(0.5, 1.0, '#Candidates hired in each Position')]"
      ]
     },
     "execution_count": 117,
     "metadata": {},
     "output_type": "execute_result"
    },
    {
     "data": {
      "image/png": "[encoded data removed]",
      "text/plain": [
       "<Figure size 432x288 with 1 Axes>"
      ]
     },
     "metadata": {},
     "output_type": "display_data"
    }
   ],
   "source": [
    "# Plot hired candidates by positions\n",
    "sns.set_color_codes(\"pastel\")\n",
    "ax = sns.barplot(x=\"Candidate_count\", y=\"UsersPosition\", data=HiredCandidatesByPosition_df,\n",
    "            palette=plt.cm.ScalarMappable(cmap='viridis_r').to_rgba(HiredCandidatesByPosition_df[\"Candidate_count\"]))\n",
    "ax.set(xlabel='Hired Candidates count', ylabel='', title = '#Candidates hired in each Position')"
   ]
  },
  {
   "cell_type": "code",
   "execution_count": 118,
   "metadata": {},
   "outputs": [
    {
     "data": {
      "text/plain": [
       "[Text(0, 0.5, ''),\n",
       " Text(0.5, 0, 'Jobs Hired for(count)'),\n",
       " Text(0.5, 1.0, '#Jobs hired in each Position')]"
      ]
     },
     "execution_count": 118,
     "metadata": {},
     "output_type": "execute_result"
    },
    {
     "data": {
      "image/png": "[encoded data removed]",
      "text/plain": [
       "<Figure size 432x288 with 1 Axes>"
      ]
     },
     "metadata": {},
     "output_type": "display_data"
    }
   ],
   "source": [
    "# Plot jobs hired by positions\n",
    "sns.set_color_codes(\"pastel\")\n",
    "ax = sns.barplot(x=\"Jobs_count\", y=\"POSITION\", data=HiredJobsPosition_df,\n",
    "            palette=plt.cm.ScalarMappable(cmap='viridis_r').to_rgba(HiredJobsPosition_df[\"Jobs_count\"]))\n",
    "ax.set(xlabel='Jobs Hired for(count)', ylabel='', title = '#Jobs hired in each Position')"
   ]
  },
  {
   "cell_type": "code",
   "execution_count": 119,
   "metadata": {},
   "outputs": [],
   "source": [
    "# Apriori algorithm to find associations between skills\n",
    "# itemsets, rules = apriori(skills, min_support=0.5,  min_confidence=1)\n",
    "# print(rules)"
   ]
  },
  {
   "cell_type": "code",
   "execution_count": 120,
   "metadata": {},
   "outputs": [],
   "source": [
    "# SKills_x = Job posting skills\n",
    "# Skills_y = Candidate skills"
   ]
  },
  {
   "cell_type": "code",
   "execution_count": 121,
   "metadata": {},
   "outputs": [],
   "source": [
    "#Hired_df = pd.merge(HiredJobs_df, HiredCandidates_df, left_on='JobId', right_on='HiredForJobId')"
   ]
  },
  {
   "cell_type": "code",
   "execution_count": 122,
   "metadata": {},
   "outputs": [],
   "source": [
    "# Hired_df['Skills_x'] = Hired_df['Skills_x'].apply(lambda v: v.rsplit(', '))\n",
    "# Hired_df['Skills_y'] = Hired_df['Skills_y'].apply(lambda v: v.rsplit(', '))"
   ]
  },
  {
   "cell_type": "code",
   "execution_count": 123,
   "metadata": {},
   "outputs": [],
   "source": [
    "def FindSkillsMatched(df_name,skills_left, skills_right):\n",
    "    for i in range(len(df_name)):\n",
    "        SkillsMatched.append(list(set(Hired_df[skills_left][i]) & set(Hired_df[skills_right][i])))\n",
    "        \n",
    "        while i == len(df_name):\n",
    "            df_name['SkillsMatched'] = SkillsMatched"
   ]
  },
  {
   "cell_type": "code",
   "execution_count": 124,
   "metadata": {},
   "outputs": [],
   "source": [
    "FindSkillsMatched(Hired_df, 'Skills_x', 'Skills_y')"
   ]
  },
  {
   "cell_type": "code",
   "execution_count": 125,
   "metadata": {},
   "outputs": [],
   "source": [
    "# Finding skills that match both on Job desc and candidate profile\n",
    "def FindMatched():\n",
    "    for i in range(len(Hired_df)):\n",
    "        SkillsMatched.append(list(set(Hired_df['Skills_x'][i]) & set(Hired_df['Skills_y'][i])))\n",
    "\n",
    "SkillsMatched = []\n",
    "FindMatched()\n",
    "Hired_df['SkillsMatched'] = SkillsMatched\n",
    "\n",
    "# Finding match percentage\n",
    "def FindMatchPercent():\n",
    "    for i in range(len(Hired_df)):\n",
    "        MatchPercent.append(round(len(Hired_df['SkillsMatched'][i])/len(Hired_df['Skills_x'][i])* 100, 2))\n",
    "        \n",
    "MatchPercent = []\n",
    "FindMatchPercent()\n",
    "Hired_df['MatchPercent'] = MatchPercent\n",
    "\n",
    "# Adding #skills for each hired candidate\n",
    "def FindSkillsNum():\n",
    "    for i in range(len(Hired_df)):\n",
    "        SkillsNum.append(len(Hired_df['Skills_y'][i]))\n",
    "        \n",
    "SkillsNum = []\n",
    "FindSkillsNum()\n",
    "Hired_df['SkillsNum'] = SkillsNum\n",
    "\n",
    "# Adding Position match between Job posting and hired candidate\n",
    "PositionMatch = []\n",
    "def CalculatePositionMatch():\n",
    "    for i in range(len(Hired_df)):\n",
    "        PositionMatch.append(fuzz.token_sort_ratio(Hired_df['POSITION'][i], Hired_df['UsersPosition'][i]))\n",
    "        \n",
    "CalculatePositionMatch()\n",
    "Hired_df['PositionMatch'] = PositionMatch"
   ]
  },
  {
   "cell_type": "code",
   "execution_count": 126,
   "metadata": {},
   "outputs": [
    {
     "data": {
      "text/html": [
       "<div>\n",
       "<style scoped>\n",
       "    .dataframe tbody tr th:only-of-type {\n",
       "        vertical-align: middle;\n",
       "    }\n",
       "\n",
       "    .dataframe tbody tr th {\n",
       "        vertical-align: top;\n",
       "    }\n",
       "\n",
       "    .dataframe thead th {\n",
       "        text-align: right;\n",
       "    }\n",
       "</style>\n",
       "<table border=\"1\" class=\"dataframe\">\n",
       "  <thead>\n",
       "    <tr style=\"text-align: right;\">\n",
       "      <th></th>\n",
       "      <th>JobId</th>\n",
       "      <th>POSITION</th>\n",
       "      <th>UsersPosition</th>\n",
       "      <th>SkillsMatched</th>\n",
       "      <th>MatchPercent</th>\n",
       "      <th>SkillsNum</th>\n",
       "    </tr>\n",
       "  </thead>\n",
       "  <tbody>\n",
       "    <tr>\n",
       "      <th>165</th>\n",
       "      <td>1630</td>\n",
       "      <td>Software Developer</td>\n",
       "      <td>An IT professional with 19+ years experience</td>\n",
       "      <td>[python, react.js]</td>\n",
       "      <td>100.00</td>\n",
       "      <td>220</td>\n",
       "    </tr>\n",
       "    <tr>\n",
       "      <th>133</th>\n",
       "      <td>1289</td>\n",
       "      <td>Senior Java Developer</td>\n",
       "      <td>Senior Software Engineer</td>\n",
       "      <td>[javascript, css, html, full stack, angular, j...</td>\n",
       "      <td>87.50</td>\n",
       "      <td>127</td>\n",
       "    </tr>\n",
       "    <tr>\n",
       "      <th>144</th>\n",
       "      <td>1590</td>\n",
       "      <td>Senior Software Developer</td>\n",
       "      <td>Full Stack Developer</td>\n",
       "      <td>[javascript, mysql, python, angular, typescript]</td>\n",
       "      <td>62.50</td>\n",
       "      <td>71</td>\n",
       "    </tr>\n",
       "    <tr>\n",
       "      <th>29</th>\n",
       "      <td>1762</td>\n",
       "      <td>C# .NET Developer</td>\n",
       "      <td>Experienced Full Stack Developer</td>\n",
       "      <td>[sql, css, bootstrap, c#, typescript]</td>\n",
       "      <td>83.33</td>\n",
       "      <td>66</td>\n",
       "    </tr>\n",
       "    <tr>\n",
       "      <th>121</th>\n",
       "      <td>1264</td>\n",
       "      <td>Senior Front End Developer</td>\n",
       "      <td>Make a better world through technology</td>\n",
       "      <td>[javascript, git, ecmascript, css, agile metho...</td>\n",
       "      <td>61.54</td>\n",
       "      <td>65</td>\n",
       "    </tr>\n",
       "    <tr>\n",
       "      <th>126</th>\n",
       "      <td>1446</td>\n",
       "      <td>Senior Full Stack Developer</td>\n",
       "      <td>Senior Software Engineer</td>\n",
       "      <td>[javascript, mysql, rest api, php, react.js]</td>\n",
       "      <td>55.56</td>\n",
       "      <td>65</td>\n",
       "    </tr>\n",
       "    <tr>\n",
       "      <th>181</th>\n",
       "      <td>1797</td>\n",
       "      <td>SR Developer in Test</td>\n",
       "      <td>Software QA Automation Engineer</td>\n",
       "      <td>[selenium, java, unit testing, test automation...</td>\n",
       "      <td>100.00</td>\n",
       "      <td>64</td>\n",
       "    </tr>\n",
       "    <tr>\n",
       "      <th>66</th>\n",
       "      <td>1177</td>\n",
       "      <td>Fullstack Javascript/NodeJS Developer</td>\n",
       "      <td>Senior Software Developer</td>\n",
       "      <td>[javascript, css, html, node.js, mochajs, aws]</td>\n",
       "      <td>75.00</td>\n",
       "      <td>63</td>\n",
       "    </tr>\n",
       "    <tr>\n",
       "      <th>166</th>\n",
       "      <td>1662</td>\n",
       "      <td>Software Developer</td>\n",
       "      <td>Full-Stack Developer</td>\n",
       "      <td>[javascript, node.js]</td>\n",
       "      <td>100.00</td>\n",
       "      <td>58</td>\n",
       "    </tr>\n",
       "    <tr>\n",
       "      <th>10</th>\n",
       "      <td>976</td>\n",
       "      <td>senior Java Developer</td>\n",
       "      <td>Java Architect and Senior Java Developer</td>\n",
       "      <td>[sql, rest api, mongodb, design patterns, agil...</td>\n",
       "      <td>76.92</td>\n",
       "      <td>58</td>\n",
       "    </tr>\n",
       "  </tbody>\n",
       "</table>\n",
       "</div>"
      ],
      "text/plain": [
       "     JobId                               POSITION  \\\n",
       "165   1630                     Software Developer   \n",
       "133   1289                  Senior Java Developer   \n",
       "144   1590              Senior Software Developer   \n",
       "29    1762                      C# .NET Developer   \n",
       "121   1264             Senior Front End Developer   \n",
       "126   1446            Senior Full Stack Developer   \n",
       "181   1797                   SR Developer in Test   \n",
       "66    1177  Fullstack Javascript/NodeJS Developer   \n",
       "166   1662                     Software Developer   \n",
       "10     976                  senior Java Developer   \n",
       "\n",
       "                                    UsersPosition  \\\n",
       "165  An IT professional with 19+ years experience   \n",
       "133                      Senior Software Engineer   \n",
       "144                          Full Stack Developer   \n",
       "29               Experienced Full Stack Developer   \n",
       "121        Make a better world through technology   \n",
       "126                      Senior Software Engineer   \n",
       "181               Software QA Automation Engineer   \n",
       "66                      Senior Software Developer   \n",
       "166                          Full-Stack Developer   \n",
       "10       Java Architect and Senior Java Developer   \n",
       "\n",
       "                                         SkillsMatched  MatchPercent  \\\n",
       "165                                 [python, react.js]        100.00   \n",
       "133  [javascript, css, html, full stack, angular, j...         87.50   \n",
       "144   [javascript, mysql, python, angular, typescript]         62.50   \n",
       "29               [sql, css, bootstrap, c#, typescript]         83.33   \n",
       "121  [javascript, git, ecmascript, css, agile metho...         61.54   \n",
       "126       [javascript, mysql, rest api, php, react.js]         55.56   \n",
       "181  [selenium, java, unit testing, test automation...        100.00   \n",
       "66      [javascript, css, html, node.js, mochajs, aws]         75.00   \n",
       "166                              [javascript, node.js]        100.00   \n",
       "10   [sql, rest api, mongodb, design patterns, agil...         76.92   \n",
       "\n",
       "     SkillsNum  \n",
       "165        220  \n",
       "133        127  \n",
       "144         71  \n",
       "29          66  \n",
       "121         65  \n",
       "126         65  \n",
       "181         64  \n",
       "66          63  \n",
       "166         58  \n",
       "10          58  "
      ]
     },
     "execution_count": 126,
     "metadata": {},
     "output_type": "execute_result"
    }
   ],
   "source": [
    "# Candidates with Top# of Skills\n",
    "(Hired_df.sort_values(by='SkillsNum', ascending=False).head(10) >>\n",
    "select(X.JobId, X.POSITION, X.UsersPosition, X.SkillsMatched, X.MatchPercent, X.SkillsNum))"
   ]
  },
  {
   "cell_type": "code",
   "execution_count": 127,
   "metadata": {},
   "outputs": [
    {
     "data": {
      "text/plain": [
       "count    202.000000\n",
       "mean      27.099010\n",
       "std       21.666401\n",
       "min        1.000000\n",
       "25%       14.000000\n",
       "50%       22.000000\n",
       "75%       37.750000\n",
       "max      220.000000\n",
       "Name: SkillsNum, dtype: float64"
      ]
     },
     "execution_count": 127,
     "metadata": {},
     "output_type": "execute_result"
    }
   ],
   "source": [
    "Hired_df['SkillsNum'].describe()"
   ]
  },
  {
   "cell_type": "code",
   "execution_count": 128,
   "metadata": {},
   "outputs": [
    {
     "data": {
      "text/html": [
       "<div>\n",
       "<style scoped>\n",
       "    .dataframe tbody tr th:only-of-type {\n",
       "        vertical-align: middle;\n",
       "    }\n",
       "\n",
       "    .dataframe tbody tr th {\n",
       "        vertical-align: top;\n",
       "    }\n",
       "\n",
       "    .dataframe thead th {\n",
       "        text-align: right;\n",
       "    }\n",
       "</style>\n",
       "<table border=\"1\" class=\"dataframe\">\n",
       "  <thead>\n",
       "    <tr style=\"text-align: right;\">\n",
       "      <th></th>\n",
       "      <th>JobId</th>\n",
       "      <th>Responsibilities</th>\n",
       "      <th>POSITION</th>\n",
       "      <th>Skills_x</th>\n",
       "      <th>UserId</th>\n",
       "      <th>HiredForJobId</th>\n",
       "      <th>Skills_y</th>\n",
       "      <th>UsersPosition</th>\n",
       "      <th>SkillsMatched</th>\n",
       "      <th>MatchPercent</th>\n",
       "      <th>SkillsNum</th>\n",
       "      <th>PositionMatch</th>\n",
       "    </tr>\n",
       "  </thead>\n",
       "  <tbody>\n",
       "    <tr>\n",
       "      <th>14</th>\n",
       "      <td>1318</td>\n",
       "      <td>&lt;p&gt;Design and develop a robust Akamai solution...</td>\n",
       "      <td>Akamai Developer</td>\n",
       "      <td>[akamai, angular, apache, aws, azure, cassandra]</td>\n",
       "      <td>697973</td>\n",
       "      <td>1318</td>\n",
       "      <td>[problem solving, engagement, troubleshooting,...</td>\n",
       "      <td>Skilled Engineer looking for new challenges</td>\n",
       "      <td>[]</td>\n",
       "      <td>0.0</td>\n",
       "      <td>8</td>\n",
       "      <td>24</td>\n",
       "    </tr>\n",
       "    <tr>\n",
       "      <th>20</th>\n",
       "      <td>1444</td>\n",
       "      <td>&lt;p&gt;Toronto based company looks for a Back End ...</td>\n",
       "      <td>Back End Software Developer</td>\n",
       "      <td>[any programmer language, mysql, nosql, orient...</td>\n",
       "      <td>678956</td>\n",
       "      <td>1444</td>\n",
       "      <td>[javascript, angular, mongodb, aws, git, react...</td>\n",
       "      <td>Software Engineer</td>\n",
       "      <td>[]</td>\n",
       "      <td>0.0</td>\n",
       "      <td>7</td>\n",
       "      <td>59</td>\n",
       "    </tr>\n",
       "    <tr>\n",
       "      <th>21</th>\n",
       "      <td>1444</td>\n",
       "      <td>&lt;p&gt;Toronto based company looks for a Back End ...</td>\n",
       "      <td>Back End Software Developer</td>\n",
       "      <td>[any programmer language, mysql, nosql, orient...</td>\n",
       "      <td>768863</td>\n",
       "      <td>1444</td>\n",
       "      <td>[docker, java, spring boot, mongodb, python, m...</td>\n",
       "      <td>Software Engineer</td>\n",
       "      <td>[]</td>\n",
       "      <td>0.0</td>\n",
       "      <td>6</td>\n",
       "      <td>59</td>\n",
       "    </tr>\n",
       "    <tr>\n",
       "      <th>22</th>\n",
       "      <td>1561</td>\n",
       "      <td>&lt;p&gt;&amp;nbsp;&amp;nbsp;&amp;nbsp;&amp;nbsp;&amp;nbsp;&amp;nbsp;&amp;nbsp;&amp;...</td>\n",
       "      <td>Backend Developer</td>\n",
       "      <td>[backend development]</td>\n",
       "      <td>681622</td>\n",
       "      <td>1561</td>\n",
       "      <td>[microservices, java, rest api, soap, web serv...</td>\n",
       "      <td>Senior Software Engineer</td>\n",
       "      <td>[]</td>\n",
       "      <td>0.0</td>\n",
       "      <td>39</td>\n",
       "      <td>29</td>\n",
       "    </tr>\n",
       "    <tr>\n",
       "      <th>33</th>\n",
       "      <td>1584</td>\n",
       "      <td>&lt;ul&gt;\\n  &lt;li&gt;An undergraduate degree in Compute...</td>\n",
       "      <td>Data Engineer</td>\n",
       "      <td>[blockchain technologies, hadoop, spark]</td>\n",
       "      <td>639994</td>\n",
       "      <td>1584</td>\n",
       "      <td>[machine learning, relational database, sql, i...</td>\n",
       "      <td>Data Analyst</td>\n",
       "      <td>[]</td>\n",
       "      <td>0.0</td>\n",
       "      <td>23</td>\n",
       "      <td>32</td>\n",
       "    </tr>\n",
       "  </tbody>\n",
       "</table>\n",
       "</div>"
      ],
      "text/plain": [
       "    JobId                                   Responsibilities  \\\n",
       "14   1318  <p>Design and develop a robust Akamai solution...   \n",
       "20   1444  <p>Toronto based company looks for a Back End ...   \n",
       "21   1444  <p>Toronto based company looks for a Back End ...   \n",
       "22   1561  <p>&nbsp;&nbsp;&nbsp;&nbsp;&nbsp;&nbsp;&nbsp;&...   \n",
       "33   1584  <ul>\\n  <li>An undergraduate degree in Compute...   \n",
       "\n",
       "                       POSITION  \\\n",
       "14             Akamai Developer   \n",
       "20  Back End Software Developer   \n",
       "21  Back End Software Developer   \n",
       "22            Backend Developer   \n",
       "33                Data Engineer   \n",
       "\n",
       "                                             Skills_x  UserId  HiredForJobId  \\\n",
       "14   [akamai, angular, apache, aws, azure, cassandra]  697973           1318   \n",
       "20  [any programmer language, mysql, nosql, orient...  678956           1444   \n",
       "21  [any programmer language, mysql, nosql, orient...  768863           1444   \n",
       "22                              [backend development]  681622           1561   \n",
       "33           [blockchain technologies, hadoop, spark]  639994           1584   \n",
       "\n",
       "                                             Skills_y  \\\n",
       "14  [problem solving, engagement, troubleshooting,...   \n",
       "20  [javascript, angular, mongodb, aws, git, react...   \n",
       "21  [docker, java, spring boot, mongodb, python, m...   \n",
       "22  [microservices, java, rest api, soap, web serv...   \n",
       "33  [machine learning, relational database, sql, i...   \n",
       "\n",
       "                                  UsersPosition SkillsMatched  MatchPercent  \\\n",
       "14  Skilled Engineer looking for new challenges            []           0.0   \n",
       "20                            Software Engineer            []           0.0   \n",
       "21                            Software Engineer            []           0.0   \n",
       "22                     Senior Software Engineer            []           0.0   \n",
       "33                                 Data Analyst            []           0.0   \n",
       "\n",
       "    SkillsNum  PositionMatch  \n",
       "14          8             24  \n",
       "20          7             59  \n",
       "21          6             59  \n",
       "22         39             29  \n",
       "33         23             32  "
      ]
     },
     "execution_count": 128,
     "metadata": {},
     "output_type": "execute_result"
    }
   ],
   "source": [
    "# Instresting find/ 13 Candidates with no skill match got hired\n",
    "Hired_df[Hired_df['MatchPercent']== 0.00].head()"
   ]
  },
  {
   "cell_type": "markdown",
   "metadata": {},
   "source": [
    "### Data Modelling\n"
   ]
  },
  {
   "cell_type": "code",
   "execution_count": 129,
   "metadata": {},
   "outputs": [],
   "source": [
    "# fit model no training data\n",
    "model = XGBClassifier()\n",
    "#model.fit(Hired_df, Candidates_df)"
   ]
  },
  {
   "cell_type": "code",
   "execution_count": 130,
   "metadata": {},
   "outputs": [],
   "source": [
    "X =Hired_df.groupby(['MatchPercent']).size().to_frame('MatchPercent_count').reset_index()"
   ]
  },
  {
   "cell_type": "code",
   "execution_count": 131,
   "metadata": {},
   "outputs": [
    {
     "data": {
      "text/plain": [
       "[Text(0, 0.5, ''),\n",
       " Text(0.5, 0, 'Jobs Hired for(count)'),\n",
       " Text(0.5, 1.0, '#Jobs hired in each Position')]"
      ]
     },
     "execution_count": 131,
     "metadata": {},
     "output_type": "execute_result"
    },
    {
     "data": {
      "image/png": "[encoded data removed]",
      "text/plain": [
       "<Figure size 432x288 with 1 Axes>"
      ]
     },
     "metadata": {},
     "output_type": "display_data"
    }
   ],
   "source": [
    "# Range of Skill match percent that got hired\n",
    "ax = sns.scatterplot(x='MatchPercent', y=\"MatchPercent_count\", size ='MatchPercent_count', data=X)\n",
    "ax.set(xlabel='Jobs Hired for(count)', ylabel='', title = '#Jobs hired in each Position')"
   ]
  },
  {
   "cell_type": "code",
   "execution_count": 132,
   "metadata": {},
   "outputs": [],
   "source": [
    "#Refining Candidate Profiles\n",
    "FilteredCandidates_df = Candidates_df[Candidates_df['EnglishLevel']!=0] # Removing Candidates with English level '0'\n",
    "FilteredCandidates_df = FilteredCandidates_df[(FilteredCandidates_df['YearsOfExperience']!=0) & #and no xp with Eng '1'\n",
    "                                              (FilteredCandidates_df['EnglishLevel']!=1)].reset_index()\n",
    "\n",
    "Candidates_df['Skills'] = Candidates_df['Skills'].apply(lambda v: v.rsplit(', '))\n",
    "FilteredCandidates_df['Skills'] = FilteredCandidates_df['Skills'].apply(lambda v: v.rsplit(', '))"
   ]
  },
  {
   "cell_type": "markdown",
   "metadata": {},
   "source": [
    "#### Test on 1 data point from candidates"
   ]
  },
  {
   "cell_type": "code",
   "execution_count": 133,
   "metadata": {},
   "outputs": [],
   "source": [
    "#FilteredCandidates_df = FilteredCandidates_df.reset_index()"
   ]
  },
  {
   "cell_type": "code",
   "execution_count": 134,
   "metadata": {
    "scrolled": true
   },
   "outputs": [
    {
     "data": {
      "text/html": [
       "<div>\n",
       "<style scoped>\n",
       "    .dataframe tbody tr th:only-of-type {\n",
       "        vertical-align: middle;\n",
       "    }\n",
       "\n",
       "    .dataframe tbody tr th {\n",
       "        vertical-align: top;\n",
       "    }\n",
       "\n",
       "    .dataframe thead th {\n",
       "        text-align: right;\n",
       "    }\n",
       "</style>\n",
       "<table border=\"1\" class=\"dataframe\">\n",
       "  <thead>\n",
       "    <tr style=\"text-align: right;\">\n",
       "      <th></th>\n",
       "      <th>index</th>\n",
       "      <th>UserId</th>\n",
       "      <th>Skills</th>\n",
       "      <th>UsersPosition</th>\n",
       "      <th>YearsOfExperience</th>\n",
       "      <th>EnglishLevel</th>\n",
       "    </tr>\n",
       "  </thead>\n",
       "  <tbody>\n",
       "    <tr>\n",
       "      <th>0</th>\n",
       "      <td>1</td>\n",
       "      <td>533339</td>\n",
       "      <td>[ruby on rails, sql server, javascript, html5,...</td>\n",
       "      <td>Web Developer Fullstack</td>\n",
       "      <td>9</td>\n",
       "      <td>4</td>\n",
       "    </tr>\n",
       "  </tbody>\n",
       "</table>\n",
       "</div>"
      ],
      "text/plain": [
       "   index  UserId                                             Skills  \\\n",
       "0      1  533339  [ruby on rails, sql server, javascript, html5,...   \n",
       "\n",
       "              UsersPosition  YearsOfExperience  EnglishLevel  \n",
       "0  Web Developer Fullstack                   9             4  "
      ]
     },
     "execution_count": 134,
     "metadata": {},
     "output_type": "execute_result"
    }
   ],
   "source": [
    "FilteredCandidates_df.head(1)"
   ]
  },
  {
   "cell_type": "code",
   "execution_count": 135,
   "metadata": {},
   "outputs": [],
   "source": [
    "def FindSkillsMatched(df_name,skills_left, skills_right):\n",
    "    for i in range(len(df_name)):\n",
    "        SkillsMatched.append(list(set(Hired_df[skills_left][i]) & set(Hired_df[skills_right][i])))\n",
    "        \n",
    "        while i == len(df_name):\n",
    "            df_name['SkillsMatched'] = SkillsMatched"
   ]
  },
  {
   "cell_type": "code",
   "execution_count": 136,
   "metadata": {},
   "outputs": [],
   "source": [
    "Positions_to_hire = list(JobsToPredict_df.POSITION)"
   ]
  },
  {
   "cell_type": "code",
   "execution_count": 137,
   "metadata": {},
   "outputs": [
    {
     "data": {
      "text/plain": [
       "['Backend Developer',\n",
       " 'Backend NodeJS Developer',\n",
       " 'Cloud DevOps Specialist',\n",
       " 'Game Developer',\n",
       " 'Mobile Developer (React Native)',\n",
       " 'Senior Front End Engineer',\n",
       " 'Senior Mobile App Developer',\n",
       " 'Software Developer',\n",
       " 'Sr Backend Developer (Python)',\n",
       " 'Sr Backend Engineer (Java)']"
      ]
     },
     "execution_count": 137,
     "metadata": {},
     "output_type": "execute_result"
    }
   ],
   "source": [
    "Positions_to_hire"
   ]
  },
  {
   "cell_type": "code",
   "execution_count": 139,
   "metadata": {},
   "outputs": [],
   "source": [
    "# def CalculatePositionMatch():\n",
    "#     for i,k in range(len(JobsToPredict_df),range(len(FilteredCandidates_df)):\n",
    "#         PositionMatch.append(fuzz.token_sort_ratio(JobsToPredict_df['POSITION'][i], FilteredCandidates_df['UsersPosition'][i]))"
   ]
  },
  {
   "cell_type": "code",
   "execution_count": 140,
   "metadata": {},
   "outputs": [],
   "source": [
    "# for i in range(len(FilteredCandidates_df)):\n",
    "#     list(set(FilteredCandidates_df['Skills'][i]) & set(JobsToPredict_df['Skills'][i]))"
   ]
  },
  {
   "cell_type": "markdown",
   "metadata": {},
   "source": [
    "### Create False Dataset with 200 random candidates who are unlikely to get hired"
   ]
  },
  {
   "cell_type": "markdown",
   "metadata": {},
   "source": [
    "##### Conditions for getting Candidate unlikely to be hired:\n",
    "  * Candidate skills match with already hired jobs must be low ( selected >.20 <.30 for sample)\n",
    "  * Position match should be low\n",
    "  * Experience must be low with low Engish level"
   ]
  },
  {
   "cell_type": "code",
   "execution_count": 141,
   "metadata": {},
   "outputs": [
    {
     "data": {
      "text/html": [
       "<div>\n",
       "<style scoped>\n",
       "    .dataframe tbody tr th:only-of-type {\n",
       "        vertical-align: middle;\n",
       "    }\n",
       "\n",
       "    .dataframe tbody tr th {\n",
       "        vertical-align: top;\n",
       "    }\n",
       "\n",
       "    .dataframe thead th {\n",
       "        text-align: right;\n",
       "    }\n",
       "</style>\n",
       "<table border=\"1\" class=\"dataframe\">\n",
       "  <thead>\n",
       "    <tr style=\"text-align: right;\">\n",
       "      <th></th>\n",
       "      <th>JobId</th>\n",
       "      <th>Responsibilities</th>\n",
       "      <th>POSITION</th>\n",
       "      <th>Skills</th>\n",
       "    </tr>\n",
       "  </thead>\n",
       "  <tbody>\n",
       "    <tr>\n",
       "      <th>0</th>\n",
       "      <td>3030</td>\n",
       "      <td>&lt;p&gt;&amp;nbsp;&amp;nbsp;&amp;nbsp;&amp;nbsp;&amp;nbsp;&amp;nbsp;&amp;nbsp;&amp;...</td>\n",
       "      <td>Backend Developer</td>\n",
       "      <td>api, aws, google cloud, java, mongodb, node.js...</td>\n",
       "    </tr>\n",
       "    <tr>\n",
       "      <th>1</th>\n",
       "      <td>3018</td>\n",
       "      <td>&lt;p&gt;A global event travel tech company with off...</td>\n",
       "      <td>Backend NodeJS Developer</td>\n",
       "      <td>angular, http, javascript, node.js, react.js, ...</td>\n",
       "    </tr>\n",
       "    <tr>\n",
       "      <th>2</th>\n",
       "      <td>3004</td>\n",
       "      <td>&lt;p&gt;&amp;nbsp;&amp;nbsp;&amp;nbsp;&amp;nbsp;&amp;nbsp;&amp;nbsp;&amp;nbsp;&amp;...</td>\n",
       "      <td>Cloud DevOps Specialist</td>\n",
       "      <td>aws, jboss, linux, perl, python</td>\n",
       "    </tr>\n",
       "    <tr>\n",
       "      <th>3</th>\n",
       "      <td>2946</td>\n",
       "      <td>&lt;p&gt;&amp;nbsp;&lt;em&gt;Good communication skills&lt;/em&gt;&lt;br...</td>\n",
       "      <td>Game Developer</td>\n",
       "      <td>c, c++, game development, unity</td>\n",
       "    </tr>\n",
       "    <tr>\n",
       "      <th>4</th>\n",
       "      <td>2967</td>\n",
       "      <td>&lt;p&gt;&lt;strong&gt;The perfect candidate:&lt;/strong&gt;&lt;/p&gt;...</td>\n",
       "      <td>Mobile Developer (React Native)</td>\n",
       "      <td>gradle, javascript, jenkins, jest, react nativ...</td>\n",
       "    </tr>\n",
       "    <tr>\n",
       "      <th>5</th>\n",
       "      <td>3020</td>\n",
       "      <td>&lt;p&gt;Awesome company in Toronto is hiring for se...</td>\n",
       "      <td>Senior Front End Engineer</td>\n",
       "      <td>angular, css, html, javascript, react.js</td>\n",
       "    </tr>\n",
       "    <tr>\n",
       "      <th>6</th>\n",
       "      <td>3009</td>\n",
       "      <td>&lt;p&gt;&lt;strong&gt;Must-have-skills&lt;/strong&gt;&lt;/p&gt;\\n&lt;p&gt;-...</td>\n",
       "      <td>Senior Mobile App Developer</td>\n",
       "      <td>dart, ionic framework, javascript, kotlin, nat...</td>\n",
       "    </tr>\n",
       "    <tr>\n",
       "      <th>7</th>\n",
       "      <td>3022</td>\n",
       "      <td>&lt;p&gt;&amp;nbsp;&amp;nbsp;&amp;nbsp;&amp;nbsp;&amp;nbsp;&amp;nbsp;&amp;nbsp;&amp;...</td>\n",
       "      <td>Software Developer</td>\n",
       "      <td>angular, javascript, react.js</td>\n",
       "    </tr>\n",
       "    <tr>\n",
       "      <th>8</th>\n",
       "      <td>3015</td>\n",
       "      <td>&lt;p&gt;Waterloo based startup is hiring a Sr Back ...</td>\n",
       "      <td>Sr Backend Developer (Python)</td>\n",
       "      <td>aws, continuos deployment, continuous integrat...</td>\n",
       "    </tr>\n",
       "    <tr>\n",
       "      <th>9</th>\n",
       "      <td>2957</td>\n",
       "      <td>&lt;p&gt;Great startup located in the vibrant Berlin...</td>\n",
       "      <td>Sr Backend Engineer (Java)</td>\n",
       "      <td>clean code, ddd, distributed systems developme...</td>\n",
       "    </tr>\n",
       "  </tbody>\n",
       "</table>\n",
       "</div>"
      ],
      "text/plain": [
       "   JobId                                   Responsibilities  \\\n",
       "0   3030  <p>&nbsp;&nbsp;&nbsp;&nbsp;&nbsp;&nbsp;&nbsp;&...   \n",
       "1   3018  <p>A global event travel tech company with off...   \n",
       "2   3004  <p>&nbsp;&nbsp;&nbsp;&nbsp;&nbsp;&nbsp;&nbsp;&...   \n",
       "3   2946  <p>&nbsp;<em>Good communication skills</em><br...   \n",
       "4   2967  <p><strong>The perfect candidate:</strong></p>...   \n",
       "5   3020  <p>Awesome company in Toronto is hiring for se...   \n",
       "6   3009  <p><strong>Must-have-skills</strong></p>\\n<p>-...   \n",
       "7   3022  <p>&nbsp;&nbsp;&nbsp;&nbsp;&nbsp;&nbsp;&nbsp;&...   \n",
       "8   3015  <p>Waterloo based startup is hiring a Sr Back ...   \n",
       "9   2957  <p>Great startup located in the vibrant Berlin...   \n",
       "\n",
       "                          POSITION  \\\n",
       "0                Backend Developer   \n",
       "1         Backend NodeJS Developer   \n",
       "2          Cloud DevOps Specialist   \n",
       "3                   Game Developer   \n",
       "4  Mobile Developer (React Native)   \n",
       "5        Senior Front End Engineer   \n",
       "6      Senior Mobile App Developer   \n",
       "7               Software Developer   \n",
       "8    Sr Backend Developer (Python)   \n",
       "9       Sr Backend Engineer (Java)   \n",
       "\n",
       "                                              Skills  \n",
       "0  api, aws, google cloud, java, mongodb, node.js...  \n",
       "1  angular, http, javascript, node.js, react.js, ...  \n",
       "2                    aws, jboss, linux, perl, python  \n",
       "3                    c, c++, game development, unity  \n",
       "4  gradle, javascript, jenkins, jest, react nativ...  \n",
       "5           angular, css, html, javascript, react.js  \n",
       "6  dart, ionic framework, javascript, kotlin, nat...  \n",
       "7                      angular, javascript, react.js  \n",
       "8  aws, continuos deployment, continuous integrat...  \n",
       "9  clean code, ddd, distributed systems developme...  "
      ]
     },
     "execution_count": 141,
     "metadata": {},
     "output_type": "execute_result"
    }
   ],
   "source": [
    "# Df names\n",
    "HiredCandidates_df\n",
    "HiredJobs_df\n",
    "Hired_df\n",
    "\n",
    "Candidates_df\n",
    "JobsToPredict_df"
   ]
  },
  {
   "cell_type": "code",
   "execution_count": 142,
   "metadata": {},
   "outputs": [
    {
     "data": {
      "text/html": [
       "<div>\n",
       "<style scoped>\n",
       "    .dataframe tbody tr th:only-of-type {\n",
       "        vertical-align: middle;\n",
       "    }\n",
       "\n",
       "    .dataframe tbody tr th {\n",
       "        vertical-align: top;\n",
       "    }\n",
       "\n",
       "    .dataframe thead th {\n",
       "        text-align: right;\n",
       "    }\n",
       "</style>\n",
       "<table border=\"1\" class=\"dataframe\">\n",
       "  <thead>\n",
       "    <tr style=\"text-align: right;\">\n",
       "      <th></th>\n",
       "      <th>UserId</th>\n",
       "      <th>HiredForJobId</th>\n",
       "      <th>Skills</th>\n",
       "      <th>UsersPosition</th>\n",
       "    </tr>\n",
       "  </thead>\n",
       "  <tbody>\n",
       "    <tr>\n",
       "      <th>0</th>\n",
       "      <td>533441</td>\n",
       "      <td>1357</td>\n",
       "      <td>[django, docker, typescript, flask, numpy, pan...</td>\n",
       "      <td>Senior Developer / CTO</td>\n",
       "    </tr>\n",
       "    <tr>\n",
       "      <th>1</th>\n",
       "      <td>634908</td>\n",
       "      <td>1265</td>\n",
       "      <td>[oop, nosql, agile, agile development methodol...</td>\n",
       "      <td>Full Stack Developer</td>\n",
       "    </tr>\n",
       "    <tr>\n",
       "      <th>2</th>\n",
       "      <td>635261</td>\n",
       "      <td>1590</td>\n",
       "      <td>[fast learning, strong communication skills, g...</td>\n",
       "      <td>Mobile Developer</td>\n",
       "    </tr>\n",
       "    <tr>\n",
       "      <th>3</th>\n",
       "      <td>635309</td>\n",
       "      <td>1635</td>\n",
       "      <td>[css, html, xml, mobile development, e-commerc...</td>\n",
       "      <td>Web Developer</td>\n",
       "    </tr>\n",
       "    <tr>\n",
       "      <th>4</th>\n",
       "      <td>635575</td>\n",
       "      <td>1797</td>\n",
       "      <td>[unity, android studio, xcode, gradle, ant, ma...</td>\n",
       "      <td>Software QA Automation Engineer</td>\n",
       "    </tr>\n",
       "    <tr>\n",
       "      <th>...</th>\n",
       "      <td>...</td>\n",
       "      <td>...</td>\n",
       "      <td>...</td>\n",
       "      <td>...</td>\n",
       "    </tr>\n",
       "    <tr>\n",
       "      <th>197</th>\n",
       "      <td>868605</td>\n",
       "      <td>1416</td>\n",
       "      <td>[python, ruby on rails, vue.js, react.js, reac...</td>\n",
       "      <td>Full Stack Developer</td>\n",
       "    </tr>\n",
       "    <tr>\n",
       "      <th>198</th>\n",
       "      <td>899238</td>\n",
       "      <td>2867</td>\n",
       "      <td>[resque, mvc, postgresql, flux, backbone.js, b...</td>\n",
       "      <td>Full Stack Ruby on Rails Developer</td>\n",
       "    </tr>\n",
       "    <tr>\n",
       "      <th>199</th>\n",
       "      <td>899598</td>\n",
       "      <td>1677</td>\n",
       "      <td>[j2ee, celery, kafka, rabbit mq, django, sql, ...</td>\n",
       "      <td>Java/python/javascript webapp/REST API developer</td>\n",
       "    </tr>\n",
       "    <tr>\n",
       "      <th>200</th>\n",
       "      <td>911871</td>\n",
       "      <td>2896</td>\n",
       "      <td>[full stack, sql, angular, javascript, react.j...</td>\n",
       "      <td>Senior Full Stack Developer</td>\n",
       "    </tr>\n",
       "    <tr>\n",
       "      <th>201</th>\n",
       "      <td>955025</td>\n",
       "      <td>1770</td>\n",
       "      <td>[project coordination, project management, bus...</td>\n",
       "      <td>Computer Engineer | MBA</td>\n",
       "    </tr>\n",
       "  </tbody>\n",
       "</table>\n",
       "<p>202 rows × 4 columns</p>\n",
       "</div>"
      ],
      "text/plain": [
       "     UserId  HiredForJobId                                             Skills  \\\n",
       "0    533441           1357  [django, docker, typescript, flask, numpy, pan...   \n",
       "1    634908           1265  [oop, nosql, agile, agile development methodol...   \n",
       "2    635261           1590  [fast learning, strong communication skills, g...   \n",
       "3    635309           1635  [css, html, xml, mobile development, e-commerc...   \n",
       "4    635575           1797  [unity, android studio, xcode, gradle, ant, ma...   \n",
       "..      ...            ...                                                ...   \n",
       "197  868605           1416  [python, ruby on rails, vue.js, react.js, reac...   \n",
       "198  899238           2867  [resque, mvc, postgresql, flux, backbone.js, b...   \n",
       "199  899598           1677  [j2ee, celery, kafka, rabbit mq, django, sql, ...   \n",
       "200  911871           2896  [full stack, sql, angular, javascript, react.j...   \n",
       "201  955025           1770  [project coordination, project management, bus...   \n",
       "\n",
       "                                        UsersPosition  \n",
       "0                              Senior Developer / CTO  \n",
       "1                                Full Stack Developer  \n",
       "2                                    Mobile Developer  \n",
       "3                                       Web Developer  \n",
       "4                     Software QA Automation Engineer  \n",
       "..                                                ...  \n",
       "197                              Full Stack Developer  \n",
       "198                Full Stack Ruby on Rails Developer  \n",
       "199  Java/python/javascript webapp/REST API developer  \n",
       "200                       Senior Full Stack Developer  \n",
       "201                           Computer Engineer | MBA  \n",
       "\n",
       "[202 rows x 4 columns]"
      ]
     },
     "execution_count": 142,
     "metadata": {},
     "output_type": "execute_result"
    }
   ],
   "source": [
    "HiredCandidates_df"
   ]
  },
  {
   "cell_type": "code",
   "execution_count": 144,
   "metadata": {},
   "outputs": [],
   "source": [
    "# for i,j in range(len(Candidates_df)), range(len(HiredCandidates_df)):\n",
    "#     while j < len(HiredCandidates_df):\n",
    "#         set(Candidates_df['Skills'][i]) & set(HiredCandidates_df['Skills'][i])    "
   ]
  },
  {
   "cell_type": "code",
   "execution_count": 145,
   "metadata": {},
   "outputs": [],
   "source": [
    "Available = Candidates_df.sample(n = 100, random_state=7)\n",
    "Hired = HiredCandidates_df.sample(n = 20, random_state=7)"
   ]
  },
  {
   "cell_type": "code",
   "execution_count": 146,
   "metadata": {},
   "outputs": [
    {
     "data": {
      "text/html": [
       "<div>\n",
       "<style scoped>\n",
       "    .dataframe tbody tr th:only-of-type {\n",
       "        vertical-align: middle;\n",
       "    }\n",
       "\n",
       "    .dataframe tbody tr th {\n",
       "        vertical-align: top;\n",
       "    }\n",
       "\n",
       "    .dataframe thead th {\n",
       "        text-align: right;\n",
       "    }\n",
       "</style>\n",
       "<table border=\"1\" class=\"dataframe\">\n",
       "  <thead>\n",
       "    <tr style=\"text-align: right;\">\n",
       "      <th></th>\n",
       "      <th>Candidate_id</th>\n",
       "      <th>CandidatePosition</th>\n",
       "      <th>SkillMatch</th>\n",
       "      <th>Hired_User_id</th>\n",
       "      <th>HiredPosition</th>\n",
       "    </tr>\n",
       "  </thead>\n",
       "  <tbody>\n",
       "    <tr>\n",
       "      <th>0</th>\n",
       "      <td>533334</td>\n",
       "      <td>Software Engineer</td>\n",
       "      <td>0.0</td>\n",
       "      <td>533441</td>\n",
       "      <td>Senior Developer / CTO</td>\n",
       "    </tr>\n",
       "    <tr>\n",
       "      <th>1</th>\n",
       "      <td>533334</td>\n",
       "      <td>Software Engineer</td>\n",
       "      <td>0.0</td>\n",
       "      <td>634908</td>\n",
       "      <td>Full Stack Developer</td>\n",
       "    </tr>\n",
       "    <tr>\n",
       "      <th>2</th>\n",
       "      <td>533334</td>\n",
       "      <td>Software Engineer</td>\n",
       "      <td>0.0</td>\n",
       "      <td>635261</td>\n",
       "      <td>Mobile Developer</td>\n",
       "    </tr>\n",
       "    <tr>\n",
       "      <th>3</th>\n",
       "      <td>533334</td>\n",
       "      <td>Software Engineer</td>\n",
       "      <td>0.0</td>\n",
       "      <td>635309</td>\n",
       "      <td>Web Developer</td>\n",
       "    </tr>\n",
       "    <tr>\n",
       "      <th>4</th>\n",
       "      <td>533334</td>\n",
       "      <td>Software Engineer</td>\n",
       "      <td>0.0</td>\n",
       "      <td>635575</td>\n",
       "      <td>Software QA Automation Engineer</td>\n",
       "    </tr>\n",
       "  </tbody>\n",
       "</table>\n",
       "</div>"
      ],
      "text/plain": [
       "   Candidate_id  CandidatePosition  SkillMatch  Hired_User_id  \\\n",
       "0        533334  Software Engineer         0.0         533441   \n",
       "1        533334  Software Engineer         0.0         634908   \n",
       "2        533334  Software Engineer         0.0         635261   \n",
       "3        533334  Software Engineer         0.0         635309   \n",
       "4        533334  Software Engineer         0.0         635575   \n",
       "\n",
       "                     HiredPosition  \n",
       "0           Senior Developer / CTO  \n",
       "1             Full Stack Developer  \n",
       "2                 Mobile Developer  \n",
       "3                    Web Developer  \n",
       "4  Software QA Automation Engineer  "
      ]
     },
     "execution_count": 146,
     "metadata": {},
     "output_type": "execute_result"
    }
   ],
   "source": [
    "# For all available candidates calculating skill match with all hired jobs\n",
    "d=[]\n",
    "for i in range(len(Available)):\n",
    "    for j in range(len(Hired)):\n",
    "        a = round(len(list(set(Candidates_df['Skills'][i]) & set(HiredCandidates_df['Skills'][j])))/len(HiredCandidates_df['Skills'][j]),2)\n",
    "        p = Candidates_df['UserId'][i]\n",
    "        can_pos = Candidates_df['UsersPosition'][i]\n",
    "        \n",
    "        q = HiredCandidates_df['UserId'][j]\n",
    "        hired_pos = HiredCandidates_df['UsersPosition'][j]\n",
    "        d.append({'Candidate_id': p, 'CandidatePosition': can_pos, 'SkillMatch': a, 'Hired_User_id': q, 'HiredPosition': hired_pos })\n",
    "d = pd.DataFrame(d)\n",
    "d.head()"
   ]
  },
  {
   "cell_type": "code",
   "execution_count": 147,
   "metadata": {},
   "outputs": [],
   "source": [
    "# Limiting candidates who have skill match between .10 & .13 returning just 550 out of 2000 datapoints\n",
    "d = d[(d['SkillMatch'] > 0.20) & (d['SkillMatch'] < 0.30)]"
   ]
  },
  {
   "cell_type": "code",
   "execution_count": 148,
   "metadata": {},
   "outputs": [
    {
     "data": {
      "text/plain": [
       "count    66.000000\n",
       "mean      0.244242\n",
       "std       0.024373\n",
       "min       0.210000\n",
       "25%       0.222500\n",
       "50%       0.250000\n",
       "75%       0.260000\n",
       "max       0.290000\n",
       "Name: SkillMatch, dtype: float64"
      ]
     },
     "execution_count": 148,
     "metadata": {},
     "output_type": "execute_result"
    }
   ],
   "source": [
    "d['SkillMatch'].describe()"
   ]
  },
  {
   "cell_type": "code",
   "execution_count": 149,
   "metadata": {},
   "outputs": [
    {
     "data": {
      "text/html": [
       "<div>\n",
       "<style scoped>\n",
       "    .dataframe tbody tr th:only-of-type {\n",
       "        vertical-align: middle;\n",
       "    }\n",
       "\n",
       "    .dataframe tbody tr th {\n",
       "        vertical-align: top;\n",
       "    }\n",
       "\n",
       "    .dataframe thead th {\n",
       "        text-align: right;\n",
       "    }\n",
       "</style>\n",
       "<table border=\"1\" class=\"dataframe\">\n",
       "  <thead>\n",
       "    <tr style=\"text-align: right;\">\n",
       "      <th></th>\n",
       "      <th>Candidate_id</th>\n",
       "      <th>CandidatePosition</th>\n",
       "      <th>SkillMatch</th>\n",
       "      <th>Hired_User_id</th>\n",
       "      <th>HiredPosition</th>\n",
       "    </tr>\n",
       "  </thead>\n",
       "  <tbody>\n",
       "    <tr>\n",
       "      <th>1714</th>\n",
       "      <td>553653</td>\n",
       "      <td>18+ years delivering smart solutions</td>\n",
       "      <td>0.29</td>\n",
       "      <td>638045</td>\n",
       "      <td>Java Developer</td>\n",
       "    </tr>\n",
       "    <tr>\n",
       "      <th>1594</th>\n",
       "      <td>553639</td>\n",
       "      <td>Software Engineering - Senior Analyst</td>\n",
       "      <td>0.29</td>\n",
       "      <td>638045</td>\n",
       "      <td>Java Developer</td>\n",
       "    </tr>\n",
       "    <tr>\n",
       "      <th>1595</th>\n",
       "      <td>553639</td>\n",
       "      <td>Software Engineering - Senior Analyst</td>\n",
       "      <td>0.29</td>\n",
       "      <td>638135</td>\n",
       "      <td>Senior Software Engineer</td>\n",
       "    </tr>\n",
       "    <tr>\n",
       "      <th>317</th>\n",
       "      <td>533403</td>\n",
       "      <td>Software Developer</td>\n",
       "      <td>0.29</td>\n",
       "      <td>638625</td>\n",
       "      <td>Senior Software Engineer</td>\n",
       "    </tr>\n",
       "    <tr>\n",
       "      <th>781</th>\n",
       "      <td>533490</td>\n",
       "      <td>Senior Software Engineer</td>\n",
       "      <td>0.28</td>\n",
       "      <td>634908</td>\n",
       "      <td>Full Stack Developer</td>\n",
       "    </tr>\n",
       "    <tr>\n",
       "      <th>...</th>\n",
       "      <td>...</td>\n",
       "      <td>...</td>\n",
       "      <td>...</td>\n",
       "      <td>...</td>\n",
       "      <td>...</td>\n",
       "    </tr>\n",
       "    <tr>\n",
       "      <th>917</th>\n",
       "      <td>533511</td>\n",
       "      <td>Web/Mobile Dev - RoR, Java, Android, JS, Angular</td>\n",
       "      <td>0.21</td>\n",
       "      <td>638625</td>\n",
       "      <td>Senior Software Engineer</td>\n",
       "    </tr>\n",
       "    <tr>\n",
       "      <th>1637</th>\n",
       "      <td>553642</td>\n",
       "      <td>Full-Stack Developer</td>\n",
       "      <td>0.21</td>\n",
       "      <td>638625</td>\n",
       "      <td>Senior Software Engineer</td>\n",
       "    </tr>\n",
       "    <tr>\n",
       "      <th>834</th>\n",
       "      <td>533494</td>\n",
       "      <td>Full Stack Developer</td>\n",
       "      <td>0.21</td>\n",
       "      <td>638045</td>\n",
       "      <td>Java Developer</td>\n",
       "    </tr>\n",
       "    <tr>\n",
       "      <th>1097</th>\n",
       "      <td>543525</td>\n",
       "      <td>Passionate Software Engineer living in Vancouver</td>\n",
       "      <td>0.21</td>\n",
       "      <td>638625</td>\n",
       "      <td>Senior Software Engineer</td>\n",
       "    </tr>\n",
       "    <tr>\n",
       "      <th>57</th>\n",
       "      <td>533343</td>\n",
       "      <td>Full stack Ruby on Rails developer</td>\n",
       "      <td>0.21</td>\n",
       "      <td>638625</td>\n",
       "      <td>Senior Software Engineer</td>\n",
       "    </tr>\n",
       "  </tbody>\n",
       "</table>\n",
       "<p>66 rows × 5 columns</p>\n",
       "</div>"
      ],
      "text/plain": [
       "      Candidate_id                                 CandidatePosition  \\\n",
       "1714        553653              18+ years delivering smart solutions   \n",
       "1594        553639             Software Engineering - Senior Analyst   \n",
       "1595        553639             Software Engineering - Senior Analyst   \n",
       "317         533403                                Software Developer   \n",
       "781         533490                          Senior Software Engineer   \n",
       "...            ...                                               ...   \n",
       "917         533511  Web/Mobile Dev - RoR, Java, Android, JS, Angular   \n",
       "1637        553642                              Full-Stack Developer   \n",
       "834         533494                              Full Stack Developer   \n",
       "1097        543525  Passionate Software Engineer living in Vancouver   \n",
       "57          533343                Full stack Ruby on Rails developer   \n",
       "\n",
       "      SkillMatch  Hired_User_id             HiredPosition  \n",
       "1714        0.29         638045            Java Developer  \n",
       "1594        0.29         638045            Java Developer  \n",
       "1595        0.29         638135  Senior Software Engineer  \n",
       "317         0.29         638625  Senior Software Engineer  \n",
       "781         0.28         634908      Full Stack Developer  \n",
       "...          ...            ...                       ...  \n",
       "917         0.21         638625  Senior Software Engineer  \n",
       "1637        0.21         638625  Senior Software Engineer  \n",
       "834         0.21         638045            Java Developer  \n",
       "1097        0.21         638625  Senior Software Engineer  \n",
       "57          0.21         638625  Senior Software Engineer  \n",
       "\n",
       "[66 rows x 5 columns]"
      ]
     },
     "execution_count": 149,
     "metadata": {},
     "output_type": "execute_result"
    }
   ],
   "source": [
    "d.sort_values(by = 'SkillMatch', ascending= False)"
   ]
  },
  {
   "cell_type": "code",
   "execution_count": 150,
   "metadata": {},
   "outputs": [],
   "source": [
    "# Selecting just one random data point for each candidate from dataset d\n",
    "rand_candidates = []\n",
    "for i in d['Candidate_id'].unique():\n",
    "    rand_candidates.append(d[d['Candidate_id'] == i].sample(n = 1, random_state=7))      "
   ]
  },
  {
   "cell_type": "code",
   "execution_count": 151,
   "metadata": {},
   "outputs": [
    {
     "data": {
      "text/plain": [
       "34"
      ]
     },
     "execution_count": 151,
     "metadata": {},
     "output_type": "execute_result"
    }
   ],
   "source": [
    "len(d['Candidate_id'].unique())"
   ]
  },
  {
   "cell_type": "code",
   "execution_count": 152,
   "metadata": {},
   "outputs": [],
   "source": [
    "rand_candidates = pd.concat(rand_candidates, ignore_index=True)"
   ]
  },
  {
   "cell_type": "code",
   "execution_count": 153,
   "metadata": {},
   "outputs": [],
   "source": [
    "#rand_candidates.reset_index(inplace=True, drop=True) "
   ]
  },
  {
   "cell_type": "code",
   "execution_count": 154,
   "metadata": {},
   "outputs": [],
   "source": [
    "rand_candidates = rand_candidates.sort_index(axis=1)"
   ]
  },
  {
   "cell_type": "code",
   "execution_count": 155,
   "metadata": {},
   "outputs": [
    {
     "name": "stdout",
     "output_type": "stream",
     "text": [
      "RangeIndex(start=0, stop=34, step=1)\n"
     ]
    }
   ],
   "source": [
    "idx = Candidates_df.index.intersection(rand_candidates.index)\n",
    "print (idx)"
   ]
  },
  {
   "cell_type": "code",
   "execution_count": 156,
   "metadata": {},
   "outputs": [
    {
     "name": "stderr",
     "output_type": "stream",
     "text": [
      "F:\\Learning\\Anaconda3\\envs\\py37\\lib\\site-packages\\ipykernel_launcher.py:2: FutureWarning: \n",
      ".ix is deprecated. Please use\n",
      ".loc for label based indexing or\n",
      ".iloc for positional indexing\n",
      "\n",
      "See the documentation here:\n",
      "http://pandas.pydata.org/pandas-docs/stable/user_guide/indexing.html#ix-indexer-is-deprecated\n",
      "  \n"
     ]
    }
   ],
   "source": [
    "# Candidates who are likely not to be hired\n",
    "FalseCandidates_df = Candidates_df.ix[idx]\n",
    "\n",
    "# Removing candidates without experience and with English level = 0\n",
    "FalseCandidates_df = FalseCandidates_df[(FalseCandidates_df['YearsOfExperience']!=0) & (FalseCandidates_df['EnglishLevel']!=0)]"
   ]
  },
  {
   "cell_type": "code",
   "execution_count": 157,
   "metadata": {
    "scrolled": true
   },
   "outputs": [
    {
     "name": "stderr",
     "output_type": "stream",
     "text": [
      "F:\\Learning\\Anaconda3\\envs\\py37\\lib\\site-packages\\ipykernel_launcher.py:4: FutureWarning: Sorting because non-concatenation axis is not aligned. A future version\n",
      "of pandas will change to not sort by default.\n",
      "\n",
      "To accept the future behavior, pass 'sort=False'.\n",
      "\n",
      "To retain the current behavior and silence the warning, pass 'sort=True'.\n",
      "\n",
      "  after removing the cwd from sys.path.\n"
     ]
    }
   ],
   "source": [
    "FalseCandidates_df['Target'] = 0\n",
    "HiredCandidates_df['Target'] = 1\n",
    "\n",
    "Hired_final_df = pd.concat([HiredCandidates_df, FalseCandidates_df])"
   ]
  },
  {
   "cell_type": "markdown",
   "metadata": {},
   "source": [
    "#### Prediction using Logistic model"
   ]
  },
  {
   "cell_type": "code",
   "execution_count": 158,
   "metadata": {},
   "outputs": [],
   "source": [
    "from sklearn.preprocessing import LabelEncoder, OneHotEncoder"
   ]
  },
  {
   "cell_type": "code",
   "execution_count": 159,
   "metadata": {},
   "outputs": [],
   "source": [
    "Candidates_test_df = Candidates_df.sample(n = 150, random_state=7)\n",
    "Candidates_test_df['Target'] = 0"
   ]
  },
  {
   "cell_type": "code",
   "execution_count": 160,
   "metadata": {},
   "outputs": [
    {
     "data": {
      "text/html": [
       "<div>\n",
       "<style scoped>\n",
       "    .dataframe tbody tr th:only-of-type {\n",
       "        vertical-align: middle;\n",
       "    }\n",
       "\n",
       "    .dataframe tbody tr th {\n",
       "        vertical-align: top;\n",
       "    }\n",
       "\n",
       "    .dataframe thead th {\n",
       "        text-align: right;\n",
       "    }\n",
       "</style>\n",
       "<table border=\"1\" class=\"dataframe\">\n",
       "  <thead>\n",
       "    <tr style=\"text-align: right;\">\n",
       "      <th></th>\n",
       "      <th>EnglishLevel</th>\n",
       "      <th>HiredForJobId</th>\n",
       "      <th>Skills</th>\n",
       "      <th>Target</th>\n",
       "      <th>UserId</th>\n",
       "      <th>UsersPosition</th>\n",
       "      <th>YearsOfExperience</th>\n",
       "    </tr>\n",
       "  </thead>\n",
       "  <tbody>\n",
       "    <tr>\n",
       "      <th>0</th>\n",
       "      <td>NaN</td>\n",
       "      <td>1357.0</td>\n",
       "      <td>[django, docker, typescript, flask, numpy, pan...</td>\n",
       "      <td>1</td>\n",
       "      <td>533441</td>\n",
       "      <td>Senior Developer / CTO</td>\n",
       "      <td>NaN</td>\n",
       "    </tr>\n",
       "    <tr>\n",
       "      <th>1</th>\n",
       "      <td>NaN</td>\n",
       "      <td>1265.0</td>\n",
       "      <td>[oop, nosql, agile, agile development methodol...</td>\n",
       "      <td>1</td>\n",
       "      <td>634908</td>\n",
       "      <td>Full Stack Developer</td>\n",
       "      <td>NaN</td>\n",
       "    </tr>\n",
       "    <tr>\n",
       "      <th>2</th>\n",
       "      <td>NaN</td>\n",
       "      <td>1590.0</td>\n",
       "      <td>[fast learning, strong communication skills, g...</td>\n",
       "      <td>1</td>\n",
       "      <td>635261</td>\n",
       "      <td>Mobile Developer</td>\n",
       "      <td>NaN</td>\n",
       "    </tr>\n",
       "    <tr>\n",
       "      <th>3</th>\n",
       "      <td>NaN</td>\n",
       "      <td>1635.0</td>\n",
       "      <td>[css, html, xml, mobile development, e-commerc...</td>\n",
       "      <td>1</td>\n",
       "      <td>635309</td>\n",
       "      <td>Web Developer</td>\n",
       "      <td>NaN</td>\n",
       "    </tr>\n",
       "    <tr>\n",
       "      <th>4</th>\n",
       "      <td>NaN</td>\n",
       "      <td>1797.0</td>\n",
       "      <td>[unity, android studio, xcode, gradle, ant, ma...</td>\n",
       "      <td>1</td>\n",
       "      <td>635575</td>\n",
       "      <td>Software QA Automation Engineer</td>\n",
       "      <td>NaN</td>\n",
       "    </tr>\n",
       "    <tr>\n",
       "      <th>...</th>\n",
       "      <td>...</td>\n",
       "      <td>...</td>\n",
       "      <td>...</td>\n",
       "      <td>...</td>\n",
       "      <td>...</td>\n",
       "      <td>...</td>\n",
       "      <td>...</td>\n",
       "    </tr>\n",
       "    <tr>\n",
       "      <th>27</th>\n",
       "      <td>3.0</td>\n",
       "      <td>NaN</td>\n",
       "      <td>[wordpress, digital, less / sass, grails, ioni...</td>\n",
       "      <td>0</td>\n",
       "      <td>533454</td>\n",
       "      <td>Experienced Frontend developer with UI/UX skills</td>\n",
       "      <td>10.0</td>\n",
       "    </tr>\n",
       "    <tr>\n",
       "      <th>28</th>\n",
       "      <td>3.0</td>\n",
       "      <td>NaN</td>\n",
       "      <td>[javascript, spring, css, node.js, react.js, j...</td>\n",
       "      <td>0</td>\n",
       "      <td>533456</td>\n",
       "      <td>Software Engineer</td>\n",
       "      <td>6.0</td>\n",
       "    </tr>\n",
       "    <tr>\n",
       "      <th>30</th>\n",
       "      <td>3.0</td>\n",
       "      <td>NaN</td>\n",
       "      <td>[javascript, wordpress, html5, classic asp, do...</td>\n",
       "      <td>0</td>\n",
       "      <td>533469</td>\n",
       "      <td>Senior System Analyst, CSM® and CSPO®</td>\n",
       "      <td>10.0</td>\n",
       "    </tr>\n",
       "    <tr>\n",
       "      <th>31</th>\n",
       "      <td>3.0</td>\n",
       "      <td>NaN</td>\n",
       "      <td>[android, sql server, wordpress, laravel, json...</td>\n",
       "      <td>0</td>\n",
       "      <td>533472</td>\n",
       "      <td>Software Developer</td>\n",
       "      <td>9.0</td>\n",
       "    </tr>\n",
       "    <tr>\n",
       "      <th>33</th>\n",
       "      <td>3.0</td>\n",
       "      <td>NaN</td>\n",
       "      <td>[ios, mobile development]</td>\n",
       "      <td>0</td>\n",
       "      <td>533478</td>\n",
       "      <td>iOS developer</td>\n",
       "      <td>9.0</td>\n",
       "    </tr>\n",
       "  </tbody>\n",
       "</table>\n",
       "<p>220 rows × 7 columns</p>\n",
       "</div>"
      ],
      "text/plain": [
       "    EnglishLevel  HiredForJobId  \\\n",
       "0            NaN         1357.0   \n",
       "1            NaN         1265.0   \n",
       "2            NaN         1590.0   \n",
       "3            NaN         1635.0   \n",
       "4            NaN         1797.0   \n",
       "..           ...            ...   \n",
       "27           3.0            NaN   \n",
       "28           3.0            NaN   \n",
       "30           3.0            NaN   \n",
       "31           3.0            NaN   \n",
       "33           3.0            NaN   \n",
       "\n",
       "                                               Skills  Target  UserId  \\\n",
       "0   [django, docker, typescript, flask, numpy, pan...       1  533441   \n",
       "1   [oop, nosql, agile, agile development methodol...       1  634908   \n",
       "2   [fast learning, strong communication skills, g...       1  635261   \n",
       "3   [css, html, xml, mobile development, e-commerc...       1  635309   \n",
       "4   [unity, android studio, xcode, gradle, ant, ma...       1  635575   \n",
       "..                                                ...     ...     ...   \n",
       "27  [wordpress, digital, less / sass, grails, ioni...       0  533454   \n",
       "28  [javascript, spring, css, node.js, react.js, j...       0  533456   \n",
       "30  [javascript, wordpress, html5, classic asp, do...       0  533469   \n",
       "31  [android, sql server, wordpress, laravel, json...       0  533472   \n",
       "33                          [ios, mobile development]       0  533478   \n",
       "\n",
       "                                       UsersPosition  YearsOfExperience  \n",
       "0                             Senior Developer / CTO                NaN  \n",
       "1                               Full Stack Developer                NaN  \n",
       "2                                   Mobile Developer                NaN  \n",
       "3                                      Web Developer                NaN  \n",
       "4                    Software QA Automation Engineer                NaN  \n",
       "..                                               ...                ...  \n",
       "27  Experienced Frontend developer with UI/UX skills               10.0  \n",
       "28                                 Software Engineer                6.0  \n",
       "30             Senior System Analyst, CSM® and CSPO®               10.0  \n",
       "31                                Software Developer                9.0  \n",
       "33                                     iOS developer                9.0  \n",
       "\n",
       "[220 rows x 7 columns]"
      ]
     },
     "execution_count": 160,
     "metadata": {},
     "output_type": "execute_result"
    }
   ],
   "source": [
    "Hired_final_df"
   ]
  },
  {
   "cell_type": "code",
   "execution_count": null,
   "metadata": {},
   "outputs": [],
   "source": []
  },
  {
   "cell_type": "code",
   "execution_count": 161,
   "metadata": {},
   "outputs": [],
   "source": [
    "cols = ['UserId', 'UsersPosition', 'Skills', 'Target']\n",
    "\n",
    "X_train_df = Hired_final_df.drop(columns = ['EnglishLevel','HiredForJobId', 'YearsOfExperience']).copy()\n",
    "X_train_df = X_train_df[cols]\n",
    "\n",
    "Y_train_df = X_train_df.loc[:, X_train_df.columns == 'Target'].copy()\n",
    "\n",
    "# Y_train_df = Candidates_test_df.drop(columns = ['EnglishLevel', 'YearsOfExperience']).copy()\n",
    "# Y_train_df = Y_train_df[cols]\n",
    "\n",
    "X_train_df['train'] = 1\n",
    "#Y_train_df['train'] = 1\n",
    "\n",
    "\n",
    "#train_df = pd.concat([X_train_df, Y_train_df])"
   ]
  },
  {
   "cell_type": "code",
   "execution_count": 162,
   "metadata": {},
   "outputs": [],
   "source": [
    "#X_train_df = Hired_final_df.drop(columns = ['EnglishLevel','HiredForJobId', 'YearsOfExperience']).copy()"
   ]
  },
  {
   "cell_type": "code",
   "execution_count": 163,
   "metadata": {},
   "outputs": [],
   "source": [
    "X_test_df = Candidates_df.sample(n = 50, random_state=7)\n",
    "X_test_df['Target'] = \"\"\n",
    "X_test_df = X_test_df[cols].copy()\n",
    "X_test_df['train'] = 0\n",
    "\n",
    "Y_test_df = X_test_df.loc[:, X_test_df.columns == 'Target'].copy()"
   ]
  },
  {
   "cell_type": "code",
   "execution_count": 164,
   "metadata": {},
   "outputs": [],
   "source": [
    "combinedX_df = pd.concat([X_train_df, X_test_df])"
   ]
  },
  {
   "cell_type": "code",
   "execution_count": 165,
   "metadata": {},
   "outputs": [
    {
     "data": {
      "text/html": [
       "<div>\n",
       "<style scoped>\n",
       "    .dataframe tbody tr th:only-of-type {\n",
       "        vertical-align: middle;\n",
       "    }\n",
       "\n",
       "    .dataframe tbody tr th {\n",
       "        vertical-align: top;\n",
       "    }\n",
       "\n",
       "    .dataframe thead th {\n",
       "        text-align: right;\n",
       "    }\n",
       "</style>\n",
       "<table border=\"1\" class=\"dataframe\">\n",
       "  <thead>\n",
       "    <tr style=\"text-align: right;\">\n",
       "      <th></th>\n",
       "      <th>UserId</th>\n",
       "      <th>UsersPosition</th>\n",
       "      <th>Skills</th>\n",
       "      <th>Target</th>\n",
       "      <th>train</th>\n",
       "    </tr>\n",
       "  </thead>\n",
       "  <tbody>\n",
       "    <tr>\n",
       "      <th>0</th>\n",
       "      <td>533441</td>\n",
       "      <td>Senior Developer / CTO</td>\n",
       "      <td>[django, docker, typescript, flask, numpy, pan...</td>\n",
       "      <td>1</td>\n",
       "      <td>1</td>\n",
       "    </tr>\n",
       "    <tr>\n",
       "      <th>1</th>\n",
       "      <td>634908</td>\n",
       "      <td>Full Stack Developer</td>\n",
       "      <td>[oop, nosql, agile, agile development methodol...</td>\n",
       "      <td>1</td>\n",
       "      <td>1</td>\n",
       "    </tr>\n",
       "    <tr>\n",
       "      <th>2</th>\n",
       "      <td>635261</td>\n",
       "      <td>Mobile Developer</td>\n",
       "      <td>[fast learning, strong communication skills, g...</td>\n",
       "      <td>1</td>\n",
       "      <td>1</td>\n",
       "    </tr>\n",
       "    <tr>\n",
       "      <th>3</th>\n",
       "      <td>635309</td>\n",
       "      <td>Web Developer</td>\n",
       "      <td>[css, html, xml, mobile development, e-commerc...</td>\n",
       "      <td>1</td>\n",
       "      <td>1</td>\n",
       "    </tr>\n",
       "    <tr>\n",
       "      <th>4</th>\n",
       "      <td>635575</td>\n",
       "      <td>Software QA Automation Engineer</td>\n",
       "      <td>[unity, android studio, xcode, gradle, ant, ma...</td>\n",
       "      <td>1</td>\n",
       "      <td>1</td>\n",
       "    </tr>\n",
       "    <tr>\n",
       "      <th>...</th>\n",
       "      <td>...</td>\n",
       "      <td>...</td>\n",
       "      <td>...</td>\n",
       "      <td>...</td>\n",
       "      <td>...</td>\n",
       "    </tr>\n",
       "    <tr>\n",
       "      <th>1411</th>\n",
       "      <td>641088</td>\n",
       "      <td>Degree in Computing</td>\n",
       "      <td>[android, html5, postgresql, jsf, hibernate, e...</td>\n",
       "      <td></td>\n",
       "      <td>0</td>\n",
       "    </tr>\n",
       "    <tr>\n",
       "      <th>623</th>\n",
       "      <td>636981</td>\n",
       "      <td>Software Engineer</td>\n",
       "      <td>[tdd, sql server, scrum, css3, pl/sql, phonega...</td>\n",
       "      <td></td>\n",
       "      <td>0</td>\n",
       "    </tr>\n",
       "    <tr>\n",
       "      <th>3503</th>\n",
       "      <td>653306</td>\n",
       "      <td>Senior Quality Assurance</td>\n",
       "      <td>[soap, test planning and test script, jira, ag...</td>\n",
       "      <td></td>\n",
       "      <td>0</td>\n",
       "    </tr>\n",
       "    <tr>\n",
       "      <th>3066</th>\n",
       "      <td>650030</td>\n",
       "      <td>Enterprise Architect</td>\n",
       "      <td>[software developer, software architecture, so...</td>\n",
       "      <td></td>\n",
       "      <td>0</td>\n",
       "    </tr>\n",
       "    <tr>\n",
       "      <th>641</th>\n",
       "      <td>637104</td>\n",
       "      <td>Web Developer Team Leader</td>\n",
       "      <td>[sql, sql server, scrum, javascript, pmi, zend...</td>\n",
       "      <td></td>\n",
       "      <td>0</td>\n",
       "    </tr>\n",
       "  </tbody>\n",
       "</table>\n",
       "<p>270 rows × 5 columns</p>\n",
       "</div>"
      ],
      "text/plain": [
       "      UserId                    UsersPosition  \\\n",
       "0     533441           Senior Developer / CTO   \n",
       "1     634908             Full Stack Developer   \n",
       "2     635261                 Mobile Developer   \n",
       "3     635309                    Web Developer   \n",
       "4     635575  Software QA Automation Engineer   \n",
       "...      ...                              ...   \n",
       "1411  641088              Degree in Computing   \n",
       "623   636981                Software Engineer   \n",
       "3503  653306        Senior Quality Assurance    \n",
       "3066  650030             Enterprise Architect   \n",
       "641   637104        Web Developer Team Leader   \n",
       "\n",
       "                                                 Skills Target  train  \n",
       "0     [django, docker, typescript, flask, numpy, pan...      1      1  \n",
       "1     [oop, nosql, agile, agile development methodol...      1      1  \n",
       "2     [fast learning, strong communication skills, g...      1      1  \n",
       "3     [css, html, xml, mobile development, e-commerc...      1      1  \n",
       "4     [unity, android studio, xcode, gradle, ant, ma...      1      1  \n",
       "...                                                 ...    ...    ...  \n",
       "1411  [android, html5, postgresql, jsf, hibernate, e...             0  \n",
       "623   [tdd, sql server, scrum, css3, pl/sql, phonega...             0  \n",
       "3503  [soap, test planning and test script, jira, ag...             0  \n",
       "3066  [software developer, software architecture, so...             0  \n",
       "641   [sql, sql server, scrum, javascript, pmi, zend...             0  \n",
       "\n",
       "[270 rows x 5 columns]"
      ]
     },
     "execution_count": 165,
     "metadata": {},
     "output_type": "execute_result"
    }
   ],
   "source": [
    "combinedX_df"
   ]
  },
  {
   "cell_type": "code",
   "execution_count": 166,
   "metadata": {},
   "outputs": [],
   "source": [
    "skills_df = pd.get_dummies(combinedX_df['Skills'].apply(pd.Series).stack()).sum(level=0)\n",
    "combinedX_df = combinedX_df.loc[~combinedX_df.index.duplicated(keep='first')]\n",
    "skills_df = skills_df.loc[~skills_df.index.duplicated(keep='first')]\n",
    "\n",
    "combinedX_df = pd.concat([combinedX_df, skills_df], axis= 1)\n",
    "combinedX_df = combinedX_df.drop(columns = ['Skills'])"
   ]
  },
  {
   "cell_type": "code",
   "execution_count": 167,
   "metadata": {},
   "outputs": [],
   "source": [
    "# Converting skills to dummies\n",
    "\n",
    "# skills_df = pd.get_dummies(combined_df['Skills'].apply(pd.Series).stack()).sum(level=0)\n",
    "# combined_df = combined_df.loc[~combined_df.index.duplicated(keep='first')]\n",
    "# skills_df = skills_df.loc[~skills_df.index.duplicated(keep='first')]\n",
    "\n",
    "# combined_df = pd.concat([combined_df, skills_df], axis= 1)\n",
    "# combined_df = combined_df.drop(columns = ['Skills'])"
   ]
  },
  {
   "cell_type": "code",
   "execution_count": 168,
   "metadata": {},
   "outputs": [],
   "source": [
    "# Encoding UserPosition using LabelEncoder()\n",
    "le_UserPosition = LabelEncoder()\n",
    "\n",
    "combinedX_df['UsersPosition'] = le_UserPosition.fit_transform(combinedX_df['UsersPosition'])"
   ]
  },
  {
   "cell_type": "code",
   "execution_count": 169,
   "metadata": {},
   "outputs": [
    {
     "data": {
      "text/plain": [
       "(220, 5)"
      ]
     },
     "execution_count": 169,
     "metadata": {},
     "output_type": "execute_result"
    }
   ],
   "source": [
    "X_train_df.shape"
   ]
  },
  {
   "cell_type": "code",
   "execution_count": 170,
   "metadata": {},
   "outputs": [],
   "source": [
    "Y_train_df = X_train_df.loc[:, X_train_df.columns == 'Target'].copy()"
   ]
  },
  {
   "cell_type": "code",
   "execution_count": 171,
   "metadata": {},
   "outputs": [
    {
     "data": {
      "text/html": [
       "<div>\n",
       "<style scoped>\n",
       "    .dataframe tbody tr th:only-of-type {\n",
       "        vertical-align: middle;\n",
       "    }\n",
       "\n",
       "    .dataframe tbody tr th {\n",
       "        vertical-align: top;\n",
       "    }\n",
       "\n",
       "    .dataframe thead th {\n",
       "        text-align: right;\n",
       "    }\n",
       "</style>\n",
       "<table border=\"1\" class=\"dataframe\">\n",
       "  <thead>\n",
       "    <tr style=\"text-align: right;\">\n",
       "      <th></th>\n",
       "      <th>Target</th>\n",
       "    </tr>\n",
       "  </thead>\n",
       "  <tbody>\n",
       "    <tr>\n",
       "      <th>0</th>\n",
       "      <td>1</td>\n",
       "    </tr>\n",
       "    <tr>\n",
       "      <th>1</th>\n",
       "      <td>1</td>\n",
       "    </tr>\n",
       "    <tr>\n",
       "      <th>2</th>\n",
       "      <td>1</td>\n",
       "    </tr>\n",
       "    <tr>\n",
       "      <th>3</th>\n",
       "      <td>1</td>\n",
       "    </tr>\n",
       "    <tr>\n",
       "      <th>4</th>\n",
       "      <td>1</td>\n",
       "    </tr>\n",
       "    <tr>\n",
       "      <th>...</th>\n",
       "      <td>...</td>\n",
       "    </tr>\n",
       "    <tr>\n",
       "      <th>27</th>\n",
       "      <td>0</td>\n",
       "    </tr>\n",
       "    <tr>\n",
       "      <th>28</th>\n",
       "      <td>0</td>\n",
       "    </tr>\n",
       "    <tr>\n",
       "      <th>30</th>\n",
       "      <td>0</td>\n",
       "    </tr>\n",
       "    <tr>\n",
       "      <th>31</th>\n",
       "      <td>0</td>\n",
       "    </tr>\n",
       "    <tr>\n",
       "      <th>33</th>\n",
       "      <td>0</td>\n",
       "    </tr>\n",
       "  </tbody>\n",
       "</table>\n",
       "<p>220 rows × 1 columns</p>\n",
       "</div>"
      ],
      "text/plain": [
       "    Target\n",
       "0        1\n",
       "1        1\n",
       "2        1\n",
       "3        1\n",
       "4        1\n",
       "..     ...\n",
       "27       0\n",
       "28       0\n",
       "30       0\n",
       "31       0\n",
       "33       0\n",
       "\n",
       "[220 rows x 1 columns]"
      ]
     },
     "execution_count": 171,
     "metadata": {},
     "output_type": "execute_result"
    }
   ],
   "source": [
    "Y_train_df"
   ]
  },
  {
   "cell_type": "code",
   "execution_count": 172,
   "metadata": {},
   "outputs": [],
   "source": [
    "# Separating into Train_X and Train_Y datasets\n",
    "X_train_df = combinedX_df[combinedX_df['train']==1].copy()\n",
    "X_test_df = combinedX_df[combinedX_df['train']==0].copy()\n",
    "\n",
    "# X_train_df.drop([\"train\"], axis=1, inplace=True)\n",
    "# X_test_df.drop([\"train\"], axis=1, inplace=True)"
   ]
  },
  {
   "cell_type": "code",
   "execution_count": 173,
   "metadata": {},
   "outputs": [],
   "source": [
    "# Separating into Train_X and Train_Y datasets\n",
    "# X_df = combined_df[combined_df['train']==1].copy()\n",
    "# Y_df = combined_df[combined_df['train']==0].copy()\n",
    "\n",
    "# X_df.drop([\"train\"], axis=1, inplace=True)\n",
    "# Y_df.drop([\"train\"], axis=1, inplace=True)"
   ]
  },
  {
   "cell_type": "code",
   "execution_count": 174,
   "metadata": {},
   "outputs": [],
   "source": [
    "from sklearn.preprocessing import OneHotEncoder\n",
    "from sklearn.linear_model import LogisticRegression"
   ]
  },
  {
   "cell_type": "code",
   "execution_count": 175,
   "metadata": {},
   "outputs": [],
   "source": [
    "logisticRegr = LogisticRegression()"
   ]
  },
  {
   "cell_type": "code",
   "execution_count": 176,
   "metadata": {},
   "outputs": [],
   "source": [
    "#X_train, X_test, y_train, y_test = train_test_split(X_df, Y_df,random_state = 50 )"
   ]
  },
  {
   "cell_type": "code",
   "execution_count": 177,
   "metadata": {},
   "outputs": [],
   "source": [
    "#X_test.drop(columns = ['EnglishLevel', 'YearsOfExperience'], axis=1, inplace=True)"
   ]
  },
  {
   "cell_type": "code",
   "execution_count": 178,
   "metadata": {},
   "outputs": [],
   "source": [
    "# skills_df = pd.get_dummies(X_test['Skills'].apply(pd.Series).stack()).sum(level=0)\n",
    "# X_test = X_test.loc[~X_test.index.duplicated(keep='first')]\n",
    "# skills_df = skills_df.loc[~skills_df.index.duplicated(keep='first')]\n",
    "\n",
    "# X_test = pd.concat([X_test, skills_df], axis= 1)\n",
    "# X_test = X_test.drop(columns = ['Skills'])"
   ]
  },
  {
   "cell_type": "code",
   "execution_count": 179,
   "metadata": {},
   "outputs": [],
   "source": [
    "# X_test['UsersPosition'] = le_UserPosition.fit_transform(X_test['UsersPosition'])"
   ]
  },
  {
   "cell_type": "code",
   "execution_count": 180,
   "metadata": {},
   "outputs": [
    {
     "ename": "KeyError",
     "evalue": "'unknown'",
     "output_type": "error",
     "traceback": [
      "\u001b[1;31m---------------------------------------------------------------------------\u001b[0m",
      "\u001b[1;31mKeyError\u001b[0m                                  Traceback (most recent call last)",
      "\u001b[1;32mF:\\Learning\\Anaconda3\\envs\\py37\\lib\\site-packages\\pandas\\core\\indexes\\base.py\u001b[0m in \u001b[0;36mget_loc\u001b[1;34m(self, key, method, tolerance)\u001b[0m\n\u001b[0;32m   2896\u001b[0m             \u001b[1;32mtry\u001b[0m\u001b[1;33m:\u001b[0m\u001b[1;33m\u001b[0m\u001b[1;33m\u001b[0m\u001b[0m\n\u001b[1;32m-> 2897\u001b[1;33m                 \u001b[1;32mreturn\u001b[0m \u001b[0mself\u001b[0m\u001b[1;33m.\u001b[0m\u001b[0m_engine\u001b[0m\u001b[1;33m.\u001b[0m\u001b[0mget_loc\u001b[0m\u001b[1;33m(\u001b[0m\u001b[0mkey\u001b[0m\u001b[1;33m)\u001b[0m\u001b[1;33m\u001b[0m\u001b[1;33m\u001b[0m\u001b[0m\n\u001b[0m\u001b[0;32m   2898\u001b[0m             \u001b[1;32mexcept\u001b[0m \u001b[0mKeyError\u001b[0m\u001b[1;33m:\u001b[0m\u001b[1;33m\u001b[0m\u001b[1;33m\u001b[0m\u001b[0m\n",
      "\u001b[1;32mpandas\\_libs\\index.pyx\u001b[0m in \u001b[0;36mpandas._libs.index.IndexEngine.get_loc\u001b[1;34m()\u001b[0m\n",
      "\u001b[1;32mpandas\\_libs\\index.pyx\u001b[0m in \u001b[0;36mpandas._libs.index.IndexEngine.get_loc\u001b[1;34m()\u001b[0m\n",
      "\u001b[1;32mpandas\\_libs\\hashtable_class_helper.pxi\u001b[0m in \u001b[0;36mpandas._libs.hashtable.PyObjectHashTable.get_item\u001b[1;34m()\u001b[0m\n",
      "\u001b[1;32mpandas\\_libs\\hashtable_class_helper.pxi\u001b[0m in \u001b[0;36mpandas._libs.hashtable.PyObjectHashTable.get_item\u001b[1;34m()\u001b[0m\n",
      "\u001b[1;31mKeyError\u001b[0m: 'unknown'",
      "\nDuring handling of the above exception, another exception occurred:\n",
      "\u001b[1;31mKeyError\u001b[0m                                  Traceback (most recent call last)",
      "\u001b[1;32m<ipython-input-180-d251fa08fdf6>\u001b[0m in \u001b[0;36m<module>\u001b[1;34m\u001b[0m\n\u001b[1;32m----> 1\u001b[1;33m \u001b[0mX_train_df\u001b[0m\u001b[1;33m[\u001b[0m\u001b[1;34m'unknown'\u001b[0m\u001b[1;33m]\u001b[0m\u001b[1;33m\u001b[0m\u001b[1;33m\u001b[0m\u001b[0m\n\u001b[0m",
      "\u001b[1;32mF:\\Learning\\Anaconda3\\envs\\py37\\lib\\site-packages\\pandas\\core\\frame.py\u001b[0m in \u001b[0;36m__getitem__\u001b[1;34m(self, key)\u001b[0m\n\u001b[0;32m   2993\u001b[0m             \u001b[1;32mif\u001b[0m \u001b[0mself\u001b[0m\u001b[1;33m.\u001b[0m\u001b[0mcolumns\u001b[0m\u001b[1;33m.\u001b[0m\u001b[0mnlevels\u001b[0m \u001b[1;33m>\u001b[0m \u001b[1;36m1\u001b[0m\u001b[1;33m:\u001b[0m\u001b[1;33m\u001b[0m\u001b[1;33m\u001b[0m\u001b[0m\n\u001b[0;32m   2994\u001b[0m                 \u001b[1;32mreturn\u001b[0m \u001b[0mself\u001b[0m\u001b[1;33m.\u001b[0m\u001b[0m_getitem_multilevel\u001b[0m\u001b[1;33m(\u001b[0m\u001b[0mkey\u001b[0m\u001b[1;33m)\u001b[0m\u001b[1;33m\u001b[0m\u001b[1;33m\u001b[0m\u001b[0m\n\u001b[1;32m-> 2995\u001b[1;33m             \u001b[0mindexer\u001b[0m \u001b[1;33m=\u001b[0m \u001b[0mself\u001b[0m\u001b[1;33m.\u001b[0m\u001b[0mcolumns\u001b[0m\u001b[1;33m.\u001b[0m\u001b[0mget_loc\u001b[0m\u001b[1;33m(\u001b[0m\u001b[0mkey\u001b[0m\u001b[1;33m)\u001b[0m\u001b[1;33m\u001b[0m\u001b[1;33m\u001b[0m\u001b[0m\n\u001b[0m\u001b[0;32m   2996\u001b[0m             \u001b[1;32mif\u001b[0m \u001b[0mis_integer\u001b[0m\u001b[1;33m(\u001b[0m\u001b[0mindexer\u001b[0m\u001b[1;33m)\u001b[0m\u001b[1;33m:\u001b[0m\u001b[1;33m\u001b[0m\u001b[1;33m\u001b[0m\u001b[0m\n\u001b[0;32m   2997\u001b[0m                 \u001b[0mindexer\u001b[0m \u001b[1;33m=\u001b[0m \u001b[1;33m[\u001b[0m\u001b[0mindexer\u001b[0m\u001b[1;33m]\u001b[0m\u001b[1;33m\u001b[0m\u001b[1;33m\u001b[0m\u001b[0m\n",
      "\u001b[1;32mF:\\Learning\\Anaconda3\\envs\\py37\\lib\\site-packages\\pandas\\core\\indexes\\base.py\u001b[0m in \u001b[0;36mget_loc\u001b[1;34m(self, key, method, tolerance)\u001b[0m\n\u001b[0;32m   2897\u001b[0m                 \u001b[1;32mreturn\u001b[0m \u001b[0mself\u001b[0m\u001b[1;33m.\u001b[0m\u001b[0m_engine\u001b[0m\u001b[1;33m.\u001b[0m\u001b[0mget_loc\u001b[0m\u001b[1;33m(\u001b[0m\u001b[0mkey\u001b[0m\u001b[1;33m)\u001b[0m\u001b[1;33m\u001b[0m\u001b[1;33m\u001b[0m\u001b[0m\n\u001b[0;32m   2898\u001b[0m             \u001b[1;32mexcept\u001b[0m \u001b[0mKeyError\u001b[0m\u001b[1;33m:\u001b[0m\u001b[1;33m\u001b[0m\u001b[1;33m\u001b[0m\u001b[0m\n\u001b[1;32m-> 2899\u001b[1;33m                 \u001b[1;32mreturn\u001b[0m \u001b[0mself\u001b[0m\u001b[1;33m.\u001b[0m\u001b[0m_engine\u001b[0m\u001b[1;33m.\u001b[0m\u001b[0mget_loc\u001b[0m\u001b[1;33m(\u001b[0m\u001b[0mself\u001b[0m\u001b[1;33m.\u001b[0m\u001b[0m_maybe_cast_indexer\u001b[0m\u001b[1;33m(\u001b[0m\u001b[0mkey\u001b[0m\u001b[1;33m)\u001b[0m\u001b[1;33m)\u001b[0m\u001b[1;33m\u001b[0m\u001b[1;33m\u001b[0m\u001b[0m\n\u001b[0m\u001b[0;32m   2900\u001b[0m         \u001b[0mindexer\u001b[0m \u001b[1;33m=\u001b[0m \u001b[0mself\u001b[0m\u001b[1;33m.\u001b[0m\u001b[0mget_indexer\u001b[0m\u001b[1;33m(\u001b[0m\u001b[1;33m[\u001b[0m\u001b[0mkey\u001b[0m\u001b[1;33m]\u001b[0m\u001b[1;33m,\u001b[0m \u001b[0mmethod\u001b[0m\u001b[1;33m=\u001b[0m\u001b[0mmethod\u001b[0m\u001b[1;33m,\u001b[0m \u001b[0mtolerance\u001b[0m\u001b[1;33m=\u001b[0m\u001b[0mtolerance\u001b[0m\u001b[1;33m)\u001b[0m\u001b[1;33m\u001b[0m\u001b[1;33m\u001b[0m\u001b[0m\n\u001b[0;32m   2901\u001b[0m         \u001b[1;32mif\u001b[0m \u001b[0mindexer\u001b[0m\u001b[1;33m.\u001b[0m\u001b[0mndim\u001b[0m \u001b[1;33m>\u001b[0m \u001b[1;36m1\u001b[0m \u001b[1;32mor\u001b[0m \u001b[0mindexer\u001b[0m\u001b[1;33m.\u001b[0m\u001b[0msize\u001b[0m \u001b[1;33m>\u001b[0m \u001b[1;36m1\u001b[0m\u001b[1;33m:\u001b[0m\u001b[1;33m\u001b[0m\u001b[1;33m\u001b[0m\u001b[0m\n",
      "\u001b[1;32mpandas\\_libs\\index.pyx\u001b[0m in \u001b[0;36mpandas._libs.index.IndexEngine.get_loc\u001b[1;34m()\u001b[0m\n",
      "\u001b[1;32mpandas\\_libs\\index.pyx\u001b[0m in \u001b[0;36mpandas._libs.index.IndexEngine.get_loc\u001b[1;34m()\u001b[0m\n",
      "\u001b[1;32mpandas\\_libs\\hashtable_class_helper.pxi\u001b[0m in \u001b[0;36mpandas._libs.hashtable.PyObjectHashTable.get_item\u001b[1;34m()\u001b[0m\n",
      "\u001b[1;32mpandas\\_libs\\hashtable_class_helper.pxi\u001b[0m in \u001b[0;36mpandas._libs.hashtable.PyObjectHashTable.get_item\u001b[1;34m()\u001b[0m\n",
      "\u001b[1;31mKeyError\u001b[0m: 'unknown'"
     ]
    }
   ],
   "source": [
    "X_train_df['unknown']"
   ]
  },
  {
   "cell_type": "code",
   "execution_count": null,
   "metadata": {},
   "outputs": [],
   "source": [
    "Y_train_df"
   ]
  },
  {
   "cell_type": "code",
   "execution_count": null,
   "metadata": {},
   "outputs": [],
   "source": [
    "X_train_df"
   ]
  },
  {
   "cell_type": "code",
   "execution_count": null,
   "metadata": {},
   "outputs": [],
   "source": [
    "X_train_df.drop(['Target'],axis = 1, inplace=True)"
   ]
  },
  {
   "cell_type": "code",
   "execution_count": null,
   "metadata": {},
   "outputs": [],
   "source": [
    "logisticRegr.fit(X_train_df, Y_train_df)"
   ]
  },
  {
   "cell_type": "code",
   "execution_count": null,
   "metadata": {},
   "outputs": [],
   "source": [
    "logisticRegr.predict(X_test[0:10])"
   ]
  },
  {
   "cell_type": "markdown",
   "metadata": {},
   "source": [
    "#### Transformations to make\n",
    "* Find corelation between jobs to hire skills and candidate skills to find the job with closest match.\n",
    "* Use FuzzyWuzzy to find match between position names\n",
    "* Convert Skills into list in each row - For apriori analysis\n",
    "* Convert Skills horizontally with 1s and 0s - For XGB boost or prediction modelling\n",
    "\n",
    "\n",
    "#### To do list\n",
    "* Feature Engineer Match % between Job skills and skills of candidates who got hired\n",
    "* Add colour to plots and change style for readablity and best practice\n",
    "* Add Emoji to plots\n",
    "* Change Column names to lowercase\n",
    "\n",
    "#### Plot Ideas\n",
    "* Job Demand/Talent supply graph( Two sided vertical bar plot)\n",
    "\n",
    "#### Pain points\n",
    "* Creating a new column by manipulating other columns using lambda function ( When column being manipulated is a list)\n",
    "* Have to think of a better way to match positions and to assign a value for each skill and maybe position name\n"
   ]
  }
 ],
 "metadata": {
  "kernelspec": {
   "display_name": "Python 3",
   "language": "python",
   "name": "python3"
  },
  "language_info": {
   "codemirror_mode": {
    "name": "ipython",
    "version": 3
   },
   "file_extension": ".py",
   "mimetype": "text/x-python",
   "name": "python",
   "nbconvert_exporter": "python",
   "pygments_lexer": "ipython3",
   "version": "3.7.4"
  }
 },
 "nbformat": 4,
 "nbformat_minor": 2
}
