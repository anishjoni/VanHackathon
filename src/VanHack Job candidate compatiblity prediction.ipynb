{
 "cells": [
  {
   "cell_type": "markdown",
   "metadata": {},
   "source": [
    "### VanHackathon 2019 : Prediction of best candidates for available jobs\n",
    "\n",
    "#### Author: Anish Joni Jesudhas\n",
    "\n",
    "#### Date: November 20th, 2019"
   ]
  },
  {
   "cell_type": "markdown",
   "metadata": {},
   "source": [
    "### 1. Import Required Libraries "
   ]
  },
  {
   "cell_type": "code",
   "execution_count": 120,
   "metadata": {},
   "outputs": [
    {
     "name": "stderr",
     "output_type": "stream",
     "text": [
      "F:\\Learning\\Anaconda3\\envs\\py37\\lib\\site-packages\\tqdm\\std.py:648: FutureWarning: The Panel class is removed from pandas. Accessing it from the top-level namespace will also be removed in the next version\n",
      "  from pandas import Panel\n"
     ]
    },
    {
     "data": {
      "text/html": [
       "<div>\n",
       "<style scoped>\n",
       "    .dataframe tbody tr th:only-of-type {\n",
       "        vertical-align: middle;\n",
       "    }\n",
       "\n",
       "    .dataframe tbody tr th {\n",
       "        vertical-align: top;\n",
       "    }\n",
       "\n",
       "    .dataframe thead th {\n",
       "        text-align: right;\n",
       "    }\n",
       "</style>\n",
       "<table border=\"1\" class=\"dataframe\">\n",
       "  <thead>\n",
       "    <tr style=\"text-align: right;\">\n",
       "      <th></th>\n",
       "      <th>userid</th>\n",
       "      <th>hiredforjobid</th>\n",
       "      <th>userskills</th>\n",
       "      <th>usersposition</th>\n",
       "      <th>jobid</th>\n",
       "      <th>jobresponsibilities</th>\n",
       "      <th>jobskills</th>\n",
       "      <th>jobsposition</th>\n",
       "      <th>hired</th>\n",
       "    </tr>\n",
       "  </thead>\n",
       "  <tbody>\n",
       "    <tr>\n",
       "      <th>0</th>\n",
       "      <td>533441</td>\n",
       "      <td>1357</td>\n",
       "      <td>django, docker, typescript, flask, numpy, pand...</td>\n",
       "      <td>Senior Developer / CTO</td>\n",
       "      <td>1357</td>\n",
       "      <td>&lt;p&gt;&lt;br&gt;\\n&lt;/p&gt;\\n&lt;p&gt;&lt;strong&gt;SEE THE FULL JOB DES...</td>\n",
       "      <td>javascript, ruby on rails</td>\n",
       "      <td>Lead BackEnd RoR Developer</td>\n",
       "      <td>1</td>\n",
       "    </tr>\n",
       "    <tr>\n",
       "      <th>1</th>\n",
       "      <td>696183</td>\n",
       "      <td>1357</td>\n",
       "      <td>ruby on rails, javascript, python, java, html,...</td>\n",
       "      <td>Software Engineer</td>\n",
       "      <td>1357</td>\n",
       "      <td>&lt;p&gt;&lt;br&gt;\\n&lt;/p&gt;\\n&lt;p&gt;&lt;strong&gt;SEE THE FULL JOB DES...</td>\n",
       "      <td>javascript, ruby on rails</td>\n",
       "      <td>Lead BackEnd RoR Developer</td>\n",
       "      <td>1</td>\n",
       "    </tr>\n",
       "    <tr>\n",
       "      <th>2</th>\n",
       "      <td>696873</td>\n",
       "      <td>1357</td>\n",
       "      <td>c++, erlang, linux kernel, tcp/ip, web develop...</td>\n",
       "      <td>Senior Software Engineer</td>\n",
       "      <td>1357</td>\n",
       "      <td>&lt;p&gt;&lt;br&gt;\\n&lt;/p&gt;\\n&lt;p&gt;&lt;strong&gt;SEE THE FULL JOB DES...</td>\n",
       "      <td>javascript, ruby on rails</td>\n",
       "      <td>Lead BackEnd RoR Developer</td>\n",
       "      <td>1</td>\n",
       "    </tr>\n",
       "    <tr>\n",
       "      <th>3</th>\n",
       "      <td>634908</td>\n",
       "      <td>1265</td>\n",
       "      <td>oop, nosql, agile, agile development methodolo...</td>\n",
       "      <td>Full Stack Developer</td>\n",
       "      <td>1265</td>\n",
       "      <td>&lt;p&gt;&lt;strong&gt;The ideal candidate:&lt;/strong&gt;&lt;br&gt;\\n...</td>\n",
       "      <td>agile, aws, continuous integration, java, java...</td>\n",
       "      <td>Senior Full Stack Developer</td>\n",
       "      <td>1</td>\n",
       "    </tr>\n",
       "    <tr>\n",
       "      <th>4</th>\n",
       "      <td>635261</td>\n",
       "      <td>1590</td>\n",
       "      <td>fast learning, strong communication skills, gi...</td>\n",
       "      <td>Mobile Developer</td>\n",
       "      <td>1590</td>\n",
       "      <td>&lt;ul&gt;\\n  &lt;li&gt;4+ years experience in a related f...</td>\n",
       "      <td>angular, cloud computing, javascript, kubernet...</td>\n",
       "      <td>Senior Software Developer</td>\n",
       "      <td>1</td>\n",
       "    </tr>\n",
       "  </tbody>\n",
       "</table>\n",
       "</div>"
      ],
      "text/plain": [
       "   userid  hiredforjobid                                         userskills             usersposition  jobid                                jobresponsibilities                                          jobskills                 jobsposition  hired\n",
       "0  533441           1357  django, docker, typescript, flask, numpy, pand...    Senior Developer / CTO   1357  <p><br>\\n</p>\\n<p><strong>SEE THE FULL JOB DES...                          javascript, ruby on rails   Lead BackEnd RoR Developer      1\n",
       "1  696183           1357  ruby on rails, javascript, python, java, html,...         Software Engineer   1357  <p><br>\\n</p>\\n<p><strong>SEE THE FULL JOB DES...                          javascript, ruby on rails   Lead BackEnd RoR Developer      1\n",
       "2  696873           1357  c++, erlang, linux kernel, tcp/ip, web develop...  Senior Software Engineer   1357  <p><br>\\n</p>\\n<p><strong>SEE THE FULL JOB DES...                          javascript, ruby on rails   Lead BackEnd RoR Developer      1\n",
       "3  634908           1265  oop, nosql, agile, agile development methodolo...      Full Stack Developer   1265  <p><strong>The ideal candidate:</strong><br>\\n...  agile, aws, continuous integration, java, java...  Senior Full Stack Developer      1\n",
       "4  635261           1590  fast learning, strong communication skills, gi...          Mobile Developer   1590  <ul>\\n  <li>4+ years experience in a related f...  angular, cloud computing, javascript, kubernet...    Senior Software Developer      1"
      ]
     },
     "execution_count": 120,
     "metadata": {},
     "output_type": "execute_result"
    }
   ],
   "source": [
    "# Required Libraries\n",
    "import pandas as pd\n",
    "import numpy as np\n",
    "import matplotlib as mpl\n",
    "from matplotlib import pyplot as plt\n",
    "import seaborn as sns\n",
    "from sklearn.model_selection import train_test_split\n",
    "from sklearn import preprocessing\n",
    "import lightgbm as lgb\n",
    "import re\n",
    "import textdistance\n",
    "from tqdm import tqdm\n",
    "tqdm.pandas()\n",
    "\n",
    "# Configuring notebook env\n",
    "pd.set_option('display.max_columns', None)  # or 1000\n",
    "pd.set_option('display.max_rows', None)  # or 1000\n",
    "pd.set_option('display.expand_frame_repr', False)"
   ]
  },
  {
   "cell_type": "markdown",
   "metadata": {},
   "source": [
    "### 2. Prepare dataset for training model"
   ]
  },
  {
   "cell_type": "code",
   "execution_count": 121,
   "metadata": {
    "scrolled": true
   },
   "outputs": [],
   "source": [
    "# Prepare Positive Set\n",
    "df_users = pd.read_csv(r'D:\\vanhack\\data\\HiredCandidates.csv').reset_index(drop=True)\n",
    "df_users = df_users.rename(columns={'Skills':'UserSkills'})\n",
    "\n",
    "df_jobs = pd.read_csv(r'D:\\vanhack\\data\\HiredJobDetails.csv').reset_index(drop=True)\n",
    "df_jobs = df_jobs.rename(columns={'POSITION':'JobsPosition','Skills':'JobSkills','Responsibilities':'JobResponsibilities'})\n",
    "\n",
    "cols_to_use = df_jobs.columns.difference(df_users.columns)\n",
    "\n",
    "df = pd.merge(df_users,df_jobs[cols_to_use],left_on=['HiredForJobId'],right_on=['JobId'],how='inner')\n",
    "df['hired'] = 1\n",
    "\n",
    "df.columns = df.columns.str.lower()\n",
    "df.head()\n",
    "\n",
    "# Prepare Negative Set - Simple random selection\n",
    "\n",
    "df_available = pd.read_csv(r'D:\\vanhack\\data\\AvailableCandidates.csv')\n",
    "df_available['hired'] = 0\n",
    "df_available = df_available.sample(n=df.shape[0],random_state=2).reset_index(drop=True)\n",
    "df_available = df_available.rename(columns={'Skills':'UserSkills'})\n",
    "df_available.columns = df_available.columns.str.lower()\n",
    "df_available = df_available[['userid','userskills','usersposition','hired']]\n",
    "df_available = df_available.reset_index(drop=True)\n",
    "\n",
    "df_jobs = df[['jobid','jobresponsibilities','jobsposition','jobskills']].reset_index(drop=True)\n",
    "df_jobs.columns = df_jobs.columns.str.lower()\n",
    "\n",
    "df_neg = pd.concat([df_available,df_jobs],axis=1)\n",
    "\n",
    "df = df[df_neg.columns.values]\n",
    "df = pd.concat([df,df_neg])"
   ]
  },
  {
   "cell_type": "code",
   "execution_count": 122,
   "metadata": {},
   "outputs": [
    {
     "name": "stdout",
     "output_type": "stream",
     "text": [
      "(404, 8)\n"
     ]
    },
    {
     "data": {
      "text/html": [
       "<div>\n",
       "<style scoped>\n",
       "    .dataframe tbody tr th:only-of-type {\n",
       "        vertical-align: middle;\n",
       "    }\n",
       "\n",
       "    .dataframe tbody tr th {\n",
       "        vertical-align: top;\n",
       "    }\n",
       "\n",
       "    .dataframe thead th {\n",
       "        text-align: right;\n",
       "    }\n",
       "</style>\n",
       "<table border=\"1\" class=\"dataframe\">\n",
       "  <thead>\n",
       "    <tr style=\"text-align: right;\">\n",
       "      <th></th>\n",
       "      <th>userid</th>\n",
       "      <th>userskills</th>\n",
       "      <th>usersposition</th>\n",
       "      <th>hired</th>\n",
       "      <th>jobid</th>\n",
       "      <th>jobresponsibilities</th>\n",
       "      <th>jobsposition</th>\n",
       "      <th>jobskills</th>\n",
       "    </tr>\n",
       "  </thead>\n",
       "  <tbody>\n",
       "    <tr>\n",
       "      <th>0</th>\n",
       "      <td>533441</td>\n",
       "      <td>django, docker, typescript, flask, numpy, pand...</td>\n",
       "      <td>Senior Developer / CTO</td>\n",
       "      <td>1</td>\n",
       "      <td>1357</td>\n",
       "      <td>&lt;p&gt;&lt;br&gt;\\n&lt;/p&gt;\\n&lt;p&gt;&lt;strong&gt;SEE THE FULL JOB DES...</td>\n",
       "      <td>Lead BackEnd RoR Developer</td>\n",
       "      <td>javascript, ruby on rails</td>\n",
       "    </tr>\n",
       "    <tr>\n",
       "      <th>1</th>\n",
       "      <td>696183</td>\n",
       "      <td>ruby on rails, javascript, python, java, html,...</td>\n",
       "      <td>Software Engineer</td>\n",
       "      <td>1</td>\n",
       "      <td>1357</td>\n",
       "      <td>&lt;p&gt;&lt;br&gt;\\n&lt;/p&gt;\\n&lt;p&gt;&lt;strong&gt;SEE THE FULL JOB DES...</td>\n",
       "      <td>Lead BackEnd RoR Developer</td>\n",
       "      <td>javascript, ruby on rails</td>\n",
       "    </tr>\n",
       "    <tr>\n",
       "      <th>2</th>\n",
       "      <td>696873</td>\n",
       "      <td>c++, erlang, linux kernel, tcp/ip, web develop...</td>\n",
       "      <td>Senior Software Engineer</td>\n",
       "      <td>1</td>\n",
       "      <td>1357</td>\n",
       "      <td>&lt;p&gt;&lt;br&gt;\\n&lt;/p&gt;\\n&lt;p&gt;&lt;strong&gt;SEE THE FULL JOB DES...</td>\n",
       "      <td>Lead BackEnd RoR Developer</td>\n",
       "      <td>javascript, ruby on rails</td>\n",
       "    </tr>\n",
       "    <tr>\n",
       "      <th>3</th>\n",
       "      <td>634908</td>\n",
       "      <td>oop, nosql, agile, agile development methodolo...</td>\n",
       "      <td>Full Stack Developer</td>\n",
       "      <td>1</td>\n",
       "      <td>1265</td>\n",
       "      <td>&lt;p&gt;&lt;strong&gt;The ideal candidate:&lt;/strong&gt;&lt;br&gt;\\n...</td>\n",
       "      <td>Senior Full Stack Developer</td>\n",
       "      <td>agile, aws, continuous integration, java, java...</td>\n",
       "    </tr>\n",
       "    <tr>\n",
       "      <th>4</th>\n",
       "      <td>635261</td>\n",
       "      <td>fast learning, strong communication skills, gi...</td>\n",
       "      <td>Mobile Developer</td>\n",
       "      <td>1</td>\n",
       "      <td>1590</td>\n",
       "      <td>&lt;ul&gt;\\n  &lt;li&gt;4+ years experience in a related f...</td>\n",
       "      <td>Senior Software Developer</td>\n",
       "      <td>angular, cloud computing, javascript, kubernet...</td>\n",
       "    </tr>\n",
       "  </tbody>\n",
       "</table>\n",
       "</div>"
      ],
      "text/plain": [
       "   userid                                         userskills             usersposition  hired  jobid                                jobresponsibilities                 jobsposition                                          jobskills\n",
       "0  533441  django, docker, typescript, flask, numpy, pand...    Senior Developer / CTO      1   1357  <p><br>\\n</p>\\n<p><strong>SEE THE FULL JOB DES...   Lead BackEnd RoR Developer                          javascript, ruby on rails\n",
       "1  696183  ruby on rails, javascript, python, java, html,...         Software Engineer      1   1357  <p><br>\\n</p>\\n<p><strong>SEE THE FULL JOB DES...   Lead BackEnd RoR Developer                          javascript, ruby on rails\n",
       "2  696873  c++, erlang, linux kernel, tcp/ip, web develop...  Senior Software Engineer      1   1357  <p><br>\\n</p>\\n<p><strong>SEE THE FULL JOB DES...   Lead BackEnd RoR Developer                          javascript, ruby on rails\n",
       "3  634908  oop, nosql, agile, agile development methodolo...      Full Stack Developer      1   1265  <p><strong>The ideal candidate:</strong><br>\\n...  Senior Full Stack Developer  agile, aws, continuous integration, java, java...\n",
       "4  635261  fast learning, strong communication skills, gi...          Mobile Developer      1   1590  <ul>\\n  <li>4+ years experience in a related f...    Senior Software Developer  angular, cloud computing, javascript, kubernet..."
      ]
     },
     "execution_count": 122,
     "metadata": {},
     "output_type": "execute_result"
    }
   ],
   "source": [
    "# complete set\n",
    "print(df.shape)\n",
    "df.head()"
   ]
  },
  {
   "cell_type": "markdown",
   "metadata": {},
   "source": [
    "### 3. Feature Engineering\n"
   ]
  },
  {
   "cell_type": "code",
   "execution_count": 123,
   "metadata": {},
   "outputs": [],
   "source": [
    "# Engineer Features\n",
    "\n",
    "def create_features(row):\n",
    "    \n",
    "#     def cleanhtml(raw_html):\n",
    "#         cleanr = re.compile('<.*?>|&([a-z0-9]+|#[0-9]{1,6}|#x[0-9a-f]{1,6});')\n",
    "#         cleantext = re.sub(cleanr, '', raw_html)\n",
    "#         return cleantext\n",
    "\n",
    "    user_skills = str(row['userskills']).split(',')\n",
    "    job_skills = str(row['jobskills']).split(',')\n",
    "    #resp_skills = str(row['jobresponsibilities']).split(' ')\n",
    "\n",
    "    user_skills = [x.strip(' ') for x in user_skills]\n",
    "    job_skills = [x.strip(' ') for x in job_skills]\n",
    "\n",
    "    # Responblities features were not usable\n",
    "    #resp_skills = cleanhtml(resp_skills).split(' ')\n",
    "    #filtered_words = [word for word in resp_skills if word not in stopwords.words('english')]\n",
    "    #best_match = process.extractOne(search_name, np.delete(all_values,idx) ,scorer=fuzz.token_sort_ratio)\n",
    "\n",
    "    common_skills = []\n",
    "    #common_resp_skills = []\n",
    "    other_skills = []\n",
    "\n",
    "    for skill in user_skills:\n",
    "        skill = skill.strip()\n",
    "        if skill in job_skills:\n",
    "            common_skills.append(skill)\n",
    "        else:\n",
    "            other_skills.append(skill)\n",
    "            \n",
    "#         if skill in resp_skills:\n",
    "#             common_resp_skills.append(skill)        \n",
    "            \n",
    "    row['userskills_no'] = len(user_skills)\n",
    "    row['jobskills_no'] = len(job_skills)\n",
    "    row['common_skills_no'] = len(common_skills)\n",
    "    row['common_skills_text'] = common_skills\n",
    "   # row['common_resp_skills'] = common_resp_skills\n",
    "\n",
    "\n",
    "    row['common_skills_ratio'] = (len(common_skills)/len(job_skills)) # 1 is ideal\n",
    "    row['other_skills_ratio'] = (len(other_skills)/len(user_skills)) # 0 is ideal\n",
    "    row['job_candiate_skill_ratio'] = (len(job_skills)/len(user_skills)) # 1 is ideal\n",
    "    row['position_match'] = textdistance.cosine(str(row['usersposition']).lower(), str(row['jobsposition']).lower())  \n",
    "          \n",
    "    return row\n",
    "\n",
    "\n",
    "df = df.apply(create_features,axis=1)\n",
    "#df = df.sort_values(by='position_match',ascending=False)"
   ]
  },
  {
   "cell_type": "code",
   "execution_count": 139,
   "metadata": {
    "scrolled": false
   },
   "outputs": [],
   "source": [
    "# Viz engineered features\n",
    "\n",
    "plot_cols = df.columns.difference(['userid','userskills','usersposition','hired',\n",
    "                                   'common_skills_text','common_resp_skills','jobid','jobresponsibilities','jobsposition','jobskills'])\n",
    "plot_cols = []\n",
    "\n",
    "for idx,col in enumerate(plot_cols):\n",
    "    print(col)\n",
    "    df_hired = df[df['hired'] == 1]\n",
    "    print(df_hired.shape)\n",
    "    df_hired[col].plot.hist()\n",
    "    plt.show()\n",
    "    \n",
    "    df_nothired = df[df['hired'] == 0]\n",
    "    df_nothired[col].plot.hist()\n",
    "    plt.show()"
   ]
  },
  {
   "cell_type": "markdown",
   "metadata": {},
   "source": [
    "### 4. Train ML Models"
   ]
  },
  {
   "cell_type": "code",
   "execution_count": 125,
   "metadata": {},
   "outputs": [
    {
     "name": "stdout",
     "output_type": "stream",
     "text": [
      "Modeling binary classification with columns ['common_skills_ratio', 'other_skills_ratio', 'position_match', 'hired']\n",
      "Training with 402 and testing with 2\n"
     ]
    },
    {
     "name": "stderr",
     "output_type": "stream",
     "text": [
      "F:\\Learning\\Anaconda3\\envs\\py37\\lib\\site-packages\\lightgbm\\engine.py:153: UserWarning: Found `early_stopping_rounds` in params. Will use it instead of argument\n",
      "  warnings.warn(\"Found `{}` in params. Will use it instead of argument\".format(alias))\n"
     ]
    },
    {
     "name": "stdout",
     "output_type": "stream",
     "text": [
      "[1]\tvalid_0's auc: 1\n",
      "Training until validation scores don't improve for 100 rounds\n",
      "[2]\tvalid_0's auc: 1\n",
      "[3]\tvalid_0's auc: 1\n",
      "[4]\tvalid_0's auc: 1\n",
      "[5]\tvalid_0's auc: 1\n",
      "[6]\tvalid_0's auc: 1\n",
      "[7]\tvalid_0's auc: 1\n",
      "[8]\tvalid_0's auc: 1\n",
      "[9]\tvalid_0's auc: 1\n",
      "[10]\tvalid_0's auc: 1\n",
      "[11]\tvalid_0's auc: 1\n",
      "[12]\tvalid_0's auc: 1\n",
      "[13]\tvalid_0's auc: 1\n",
      "[14]\tvalid_0's auc: 1\n",
      "[15]\tvalid_0's auc: 1\n",
      "[16]\tvalid_0's auc: 1\n",
      "[17]\tvalid_0's auc: 1\n",
      "[18]\tvalid_0's auc: 1\n",
      "[19]\tvalid_0's auc: 1\n",
      "[20]\tvalid_0's auc: 1\n",
      "[21]\tvalid_0's auc: 1\n",
      "[22]\tvalid_0's auc: 1\n",
      "[23]\tvalid_0's auc: 1\n",
      "[24]\tvalid_0's auc: 1\n",
      "[25]\tvalid_0's auc: 1\n",
      "[26]\tvalid_0's auc: 1\n",
      "[27]\tvalid_0's auc: 1\n",
      "[28]\tvalid_0's auc: 1\n",
      "[29]\tvalid_0's auc: 1\n",
      "[30]\tvalid_0's auc: 1\n",
      "[31]\tvalid_0's auc: 1\n",
      "[32]\tvalid_0's auc: 1\n",
      "[33]\tvalid_0's auc: 1\n",
      "[34]\tvalid_0's auc: 1\n",
      "[35]\tvalid_0's auc: 1\n",
      "[36]\tvalid_0's auc: 1\n",
      "[37]\tvalid_0's auc: 1\n",
      "[38]\tvalid_0's auc: 1\n",
      "[39]\tvalid_0's auc: 1\n",
      "[40]\tvalid_0's auc: 1\n",
      "[41]\tvalid_0's auc: 1\n",
      "[42]\tvalid_0's auc: 1\n",
      "[43]\tvalid_0's auc: 1\n",
      "[44]\tvalid_0's auc: 1\n",
      "[45]\tvalid_0's auc: 1\n",
      "[46]\tvalid_0's auc: 1\n",
      "[47]\tvalid_0's auc: 1\n",
      "[48]\tvalid_0's auc: 1\n",
      "[49]\tvalid_0's auc: 1\n",
      "[50]\tvalid_0's auc: 1\n",
      "[51]\tvalid_0's auc: 1\n",
      "[52]\tvalid_0's auc: 1\n",
      "[53]\tvalid_0's auc: 1\n",
      "[54]\tvalid_0's auc: 1\n",
      "[55]\tvalid_0's auc: 1\n",
      "[56]\tvalid_0's auc: 1\n",
      "[57]\tvalid_0's auc: 1\n",
      "[58]\tvalid_0's auc: 1\n",
      "[59]\tvalid_0's auc: 1\n",
      "[60]\tvalid_0's auc: 1\n",
      "[61]\tvalid_0's auc: 1\n",
      "[62]\tvalid_0's auc: 1\n",
      "[63]\tvalid_0's auc: 1\n",
      "[64]\tvalid_0's auc: 1\n",
      "[65]\tvalid_0's auc: 1\n",
      "[66]\tvalid_0's auc: 1\n",
      "[67]\tvalid_0's auc: 1\n",
      "[68]\tvalid_0's auc: 1\n",
      "[69]\tvalid_0's auc: 1\n",
      "[70]\tvalid_0's auc: 1\n",
      "[71]\tvalid_0's auc: 1\n",
      "[72]\tvalid_0's auc: 1\n",
      "[73]\tvalid_0's auc: 1\n",
      "[74]\tvalid_0's auc: 1\n",
      "[75]\tvalid_0's auc: 1\n",
      "[76]\tvalid_0's auc: 1\n",
      "[77]\tvalid_0's auc: 1\n",
      "[78]\tvalid_0's auc: 1\n",
      "[79]\tvalid_0's auc: 1\n",
      "[80]\tvalid_0's auc: 1\n",
      "[81]\tvalid_0's auc: 1\n",
      "[82]\tvalid_0's auc: 1\n",
      "[83]\tvalid_0's auc: 1\n",
      "[84]\tvalid_0's auc: 1\n",
      "[85]\tvalid_0's auc: 1\n",
      "[86]\tvalid_0's auc: 1\n",
      "[87]\tvalid_0's auc: 1\n",
      "[88]\tvalid_0's auc: 1\n",
      "[89]\tvalid_0's auc: 1\n",
      "[90]\tvalid_0's auc: 1\n",
      "[91]\tvalid_0's auc: 1\n",
      "[92]\tvalid_0's auc: 1\n",
      "[93]\tvalid_0's auc: 1\n",
      "[94]\tvalid_0's auc: 1\n",
      "[95]\tvalid_0's auc: 1\n",
      "[96]\tvalid_0's auc: 1\n",
      "[97]\tvalid_0's auc: 1\n",
      "[98]\tvalid_0's auc: 1\n",
      "[99]\tvalid_0's auc: 1\n",
      "[100]\tvalid_0's auc: 1\n",
      "Did not meet early stopping. Best iteration is:\n",
      "[1]\tvalid_0's auc: 1\n",
      "   score              feature\n",
      "2      9       position_match\n",
      "1      3  common_skills_ratio\n",
      "0      1   other_skills_ratio\n"
     ]
    },
    {
     "data": {
      "image/png": "[encoded data removed]",
      "text/plain": [
       "<Figure size 432x288 with 1 Axes>"
      ]
     },
     "metadata": {
      "needs_background": "light"
     },
     "output_type": "display_data"
    }
   ],
   "source": [
    "# Model a simple binary classification to find the optimum weights and select features\n",
    "\n",
    "isDebug = False\n",
    "\n",
    "features = ['common_skills_ratio','other_skills_ratio','position_match','hired']\n",
    "\n",
    "df[features] = preprocessing.MinMaxScaler().fit_transform(df[features])\n",
    "\n",
    "print('Modeling binary classification with columns', features)\n",
    "\n",
    "df_model = df.copy()\n",
    "df_model = df_model[features]\n",
    "\n",
    "y = pd.DataFrame(df_model['hired'])\n",
    "X = df_model.loc[:, df_model.columns != 'hired']\n",
    "    \n",
    "X_train, X_test, y_train, y_test = train_test_split(X, y, test_size=0.2 if isDebug else 0.0049, random_state=42)\n",
    "\n",
    "print('Training with {} and testing with {}'.format(X_train.shape[0],X_test.shape[0]))\n",
    "train_dataset = lgb.Dataset(X_train, label=y_train)\n",
    "test_dataset = lgb.Dataset(X_test, label=y_test)\n",
    "    \n",
    "np.random.seed(0)\n",
    "nrounds = 100\n",
    "params = {\n",
    "    'objective': 'xentropy',\n",
    "    'metric': \"auc\",\n",
    "    'feature_fraction': 1,\n",
    "    'bagging_fraction': 1,\n",
    "    'early_stopping_rounds': 100,\n",
    "    'verbose': -1\n",
    "}\n",
    "gbm = lgb.train(params, train_dataset,valid_sets=[test_dataset], num_boost_round=nrounds)\n",
    "\n",
    "\n",
    "def plot_imp(model, X):\n",
    "    feature_imp = pd.DataFrame(sorted(zip(model.feature_importance(),X.columns)),columns=['score','feature'])\n",
    "    feature_imp = feature_imp.sort_values(by='score',ascending=False)\n",
    "    \n",
    "    print(feature_imp)\n",
    "\n",
    "    # Plot Feature Importance from trained model\n",
    "    sns.set_color_codes(\"pastel\")\n",
    "    sns.barplot(x=\"score\", y=\"feature\",data=feature_imp.head(50),palette=mpl.cm.ScalarMappable(cmap='viridis_r').to_rgba((feature_imp[\"score\"])))\n",
    "    plt.xlabel(\"LGBM Importance score\")\n",
    "    plt.ylabel(\"Feature\")\n",
    "    plt.title(\"Feature Importance\")\n",
    "    return feature_imp\n",
    "\n",
    "plot_imp(gbm,X)\n",
    "plt.show()"
   ]
  },
  {
   "cell_type": "markdown",
   "metadata": {},
   "source": [
    "### 5. Prepare Test Data for Prediction"
   ]
  },
  {
   "cell_type": "code",
   "execution_count": 127,
   "metadata": {},
   "outputs": [],
   "source": [
    "# Create a superset with all jobs available and all candidates available\n",
    "full_df=[]\n",
    "for i in range(len(df_available)):\n",
    "    for j in range(len(df_jobs)):\n",
    "        user_id = df_available['userid'][i]\n",
    "        user_position = df_available['usersposition'][i]\n",
    "        user_skills  = df_available['userskills'][i]\n",
    "        job_id = df_jobs['jobid'][j]\n",
    "        job_position = df_jobs['jobsposition'][j]\n",
    "        job_skills = df_jobs['jobskills'][j]\n",
    "        full_df.append({'userid': user_id, 'userskills': user_skills, 'usersposition': user_position, 'jobid': job_id, 'jobsposition': job_position, 'jobskills': job_skills })\n",
    "full_df = pd.DataFrame(full_df)"
   ]
  },
  {
   "cell_type": "code",
   "execution_count": 128,
   "metadata": {},
   "outputs": [],
   "source": [
    "# Weights from Feature Importance\n",
    "feature_imp = pd.DataFrame(sorted(zip(gbm.feature_importance(),X.columns)),columns=['score','feature'])\n",
    "feature_imp.sort_values('score', ascending = False).reset_index(drop = True, inplace= True) \n",
    "\n",
    "#df = full_df.progress_apply(create_features,axis=1)\n",
    "#df.to_csv('df.csv')\n",
    "df = pd.read_csv('df.csv')\n",
    "\n",
    "features = [ 'userskills_no','common_skills_ratio','other_skills_ratio','job_candiate_skill_ratio','position_match']\n",
    "df[features] = preprocessing.MinMaxScaler().fit_transform(df[features])\n",
    "\n",
    "df['match_score'] =  feature_imp['score'][2]*df['position_match'] + feature_imp['score'][1]*df['common_skills_ratio'] + df['other_skills_ratio']\n",
    "\n",
    "df['match_score'] = df['match_score'] * 10\n",
    "\n",
    "df = df.sort_values(by='match_score',ascending=False)"
   ]
  },
  {
   "cell_type": "markdown",
   "metadata": {},
   "source": [
    "### 6. Results"
   ]
  },
  {
   "cell_type": "code",
   "execution_count": 130,
   "metadata": {},
   "outputs": [],
   "source": [
    "# Filtering to only top 10 candidates by match score for each job\n",
    "result = pd.DataFrame(df.groupby('jobid').head(10)).reset_index()\n",
    "result.drop('index', axis = 1, inplace=True)\n",
    "result.sort_values('jobsposition', axis = 0, inplace=True)\n",
    "\n",
    "# Filtering to only essential features in result\n",
    "essential_features = ['jobid', 'jobsposition', 'jobskills', 'usersposition', 'jobskills_no', 'common_skills_no', 'match_score', 'userskills', 'userid']\n",
    "result = result[essential_features]\n",
    "result.to_csv('result.csv')"
   ]
  },
  {
   "cell_type": "code",
   "execution_count": 132,
   "metadata": {
    "collapsed": true
   },
   "outputs": [
    {
     "data": {
      "text/html": [
       "<div>\n",
       "<style scoped>\n",
       "    .dataframe tbody tr th:only-of-type {\n",
       "        vertical-align: middle;\n",
       "    }\n",
       "\n",
       "    .dataframe tbody tr th {\n",
       "        vertical-align: top;\n",
       "    }\n",
       "\n",
       "    .dataframe thead th {\n",
       "        text-align: right;\n",
       "    }\n",
       "</style>\n",
       "<table border=\"1\" class=\"dataframe\">\n",
       "  <thead>\n",
       "    <tr style=\"text-align: right;\">\n",
       "      <th></th>\n",
       "      <th>jobid</th>\n",
       "      <th>jobsposition</th>\n",
       "      <th>jobskills</th>\n",
       "      <th>usersposition</th>\n",
       "      <th>jobskills_no</th>\n",
       "      <th>common_skills_no</th>\n",
       "      <th>match_score</th>\n",
       "      <th>userskills</th>\n",
       "      <th>userid</th>\n",
       "    </tr>\n",
       "  </thead>\n",
       "  <tbody>\n",
       "    <tr>\n",
       "      <th>29</th>\n",
       "      <td>3030</td>\n",
       "      <td>Backend Developer</td>\n",
       "      <td>api, aws, google cloud, java, mongodb, node.js...</td>\n",
       "      <td>Backend developer.</td>\n",
       "      <td>7</td>\n",
       "      <td>4</td>\n",
       "      <td>108.582291</td>\n",
       "      <td>javascript, spring, jsf, hibernate, jpa, soap,...</td>\n",
       "      <td>603919</td>\n",
       "    </tr>\n",
       "    <tr>\n",
       "      <th>28</th>\n",
       "      <td>3030</td>\n",
       "      <td>Backend Developer</td>\n",
       "      <td>api, aws, google cloud, java, mongodb, node.js...</td>\n",
       "      <td>Backend Developer</td>\n",
       "      <td>7</td>\n",
       "      <td>3</td>\n",
       "      <td>108.608374</td>\n",
       "      <td>android, ruby on rails, javascript, python, c,...</td>\n",
       "      <td>637896</td>\n",
       "    </tr>\n",
       "    <tr>\n",
       "      <th>17</th>\n",
       "      <td>3030</td>\n",
       "      <td>Backend Developer</td>\n",
       "      <td>api, aws, google cloud, java, mongodb, node.js...</td>\n",
       "      <td>Backend Developer</td>\n",
       "      <td>7</td>\n",
       "      <td>4</td>\n",
       "      <td>111.926910</td>\n",
       "      <td>android, tdd, scrum, javascript, python, testi...</td>\n",
       "      <td>642839</td>\n",
       "    </tr>\n",
       "    <tr>\n",
       "      <th>26</th>\n",
       "      <td>3030</td>\n",
       "      <td>Backend Developer</td>\n",
       "      <td>api, aws, google cloud, java, mongodb, node.js...</td>\n",
       "      <td>Back end Developer</td>\n",
       "      <td>7</td>\n",
       "      <td>4</td>\n",
       "      <td>108.892850</td>\n",
       "      <td>javascript, spring, web development, node.js, ...</td>\n",
       "      <td>645329</td>\n",
       "    </tr>\n",
       "    <tr>\n",
       "      <th>25</th>\n",
       "      <td>3030</td>\n",
       "      <td>Backend Developer</td>\n",
       "      <td>api, aws, google cloud, java, mongodb, node.js...</td>\n",
       "      <td>back-end developer</td>\n",
       "      <td>7</td>\n",
       "      <td>4</td>\n",
       "      <td>108.892850</td>\n",
       "      <td>sql server, scrum, javascript, spring, html5, ...</td>\n",
       "      <td>645867</td>\n",
       "    </tr>\n",
       "  </tbody>\n",
       "</table>\n",
       "</div>"
      ],
      "text/plain": [
       "    jobid       jobsposition                                          jobskills       usersposition  jobskills_no  common_skills_no  match_score                                         userskills  userid\n",
       "29   3030  Backend Developer  api, aws, google cloud, java, mongodb, node.js...  Backend developer.             7                 4   108.582291  javascript, spring, jsf, hibernate, jpa, soap,...  603919\n",
       "28   3030  Backend Developer  api, aws, google cloud, java, mongodb, node.js...   Backend Developer             7                 3   108.608374  android, ruby on rails, javascript, python, c,...  637896\n",
       "17   3030  Backend Developer  api, aws, google cloud, java, mongodb, node.js...   Backend Developer             7                 4   111.926910  android, tdd, scrum, javascript, python, testi...  642839\n",
       "26   3030  Backend Developer  api, aws, google cloud, java, mongodb, node.js...  Back end Developer             7                 4   108.892850  javascript, spring, web development, node.js, ...  645329\n",
       "25   3030  Backend Developer  api, aws, google cloud, java, mongodb, node.js...  back-end developer             7                 4   108.892850  sql server, scrum, javascript, spring, html5, ...  645867"
      ]
     },
     "execution_count": 132,
     "metadata": {},
     "output_type": "execute_result"
    }
   ],
   "source": [
    "result.head()"
   ]
  },
  {
   "cell_type": "markdown",
   "metadata": {},
   "source": [
    "### Data Visualizations"
   ]
  },
  {
   "cell_type": "code",
   "execution_count": 134,
   "metadata": {},
   "outputs": [],
   "source": [
    "# Data loading\n",
    "HiredCandidates_df = pd.read_csv(r'D:\\vanhack\\data\\HiredCandidates.csv')\n",
    "HiredJobs_df = pd.read_csv(r'D:\\vanhack\\data\\HiredJobDetails.csv')\n",
    "\n",
    "Candidates_df = pd.read_csv(r'D:\\vanhack\\data\\AvailableCandidates.csv')\n",
    "JobsToPredict_df = pd.read_csv(r'D:\\vanhack\\data\\JobsToPredict.csv')"
   ]
  },
  {
   "cell_type": "code",
   "execution_count": 135,
   "metadata": {},
   "outputs": [],
   "source": [
    "# Candidates to be hired by position\n",
    "CandidatesByPosition_df = Candidates_df.groupby(['UsersPosition']).size().to_frame('Candidate_count').reset_index()\n",
    "CandidatesByPosition_df = CandidatesByPosition_df.sort_values('Candidate_count', ascending = False).head(10)\n",
    "\n",
    "# Hired Candidates by position\n",
    "HiredCandidatesByPosition_df = HiredCandidates_df.groupby(['UsersPosition']).size().to_frame('Candidate_count').reset_index()\n",
    "HiredCandidatesByPosition_df = HiredCandidatesByPosition_df.sort_values('Candidate_count', ascending = False).head(10)\n",
    "\n",
    "# Hired Jobs\n",
    "HiredJobsPosition_df = HiredJobs_df.groupby(['POSITION']).size().to_frame('Jobs_count').reset_index()\n",
    "HiredJobsPosition_df = HiredJobsPosition_df.sort_values('Jobs_count', ascending = False).head(10)"
   ]
  },
  {
   "cell_type": "code",
   "execution_count": 136,
   "metadata": {
    "collapsed": true
   },
   "outputs": [
    {
     "data": {
      "text/plain": [
       "[Text(0, 0.5, ''),\n",
       " Text(0.5, 0, 'Available Candidates count'),\n",
       " Text(0.5, 1.0, '#Candidates available to hire by Positions')]"
      ]
     },
     "execution_count": 136,
     "metadata": {},
     "output_type": "execute_result"
    },
    {
     "data": {
      "image/png": "[encoded data removed]",
      "text/plain": [
       "<Figure size 432x288 with 1 Axes>"
      ]
     },
     "metadata": {
      "needs_background": "light"
     },
     "output_type": "display_data"
    }
   ],
   "source": [
    "# Plot Talent pool by positions\n",
    "sns.set_color_codes(\"pastel\")\n",
    "ax = sns.barplot(x=\"Candidate_count\", y=\"UsersPosition\", data=CandidatesByPosition_df,\n",
    "           palette=plt.cm.ScalarMappable(cmap='viridis_r').to_rgba(CandidatesByPosition_df[\"Candidate_count\"]))\n",
    "\n",
    "ax.set(xlabel='Available Candidates count', ylabel='', title = '#Candidates available to hire by Positions')"
   ]
  },
  {
   "cell_type": "code",
   "execution_count": 137,
   "metadata": {
    "collapsed": true
   },
   "outputs": [
    {
     "data": {
      "text/plain": [
       "[Text(0, 0.5, ''),\n",
       " Text(0.5, 0, 'Hired Candidates count'),\n",
       " Text(0.5, 1.0, '#Candidates hired in each Position')]"
      ]
     },
     "execution_count": 137,
     "metadata": {},
     "output_type": "execute_result"
    },
    {
     "data": {
      "image/png": "[encoded data removed]",
      "text/plain": [
       "<Figure size 432x288 with 1 Axes>"
      ]
     },
     "metadata": {
      "needs_background": "light"
     },
     "output_type": "display_data"
    }
   ],
   "source": [
    "# Plot hired candidates by positions\n",
    "sns.set_color_codes(\"pastel\")\n",
    "ax = sns.barplot(x=\"Candidate_count\", y=\"UsersPosition\", data=HiredCandidatesByPosition_df,\n",
    "            palette=plt.cm.ScalarMappable(cmap='viridis_r').to_rgba(HiredCandidatesByPosition_df[\"Candidate_count\"]))\n",
    "ax.set(xlabel='Hired Candidates count', ylabel='', title = '#Candidates hired in each Position')"
   ]
  },
  {
   "cell_type": "code",
   "execution_count": 138,
   "metadata": {
    "collapsed": true
   },
   "outputs": [
    {
     "data": {
      "text/plain": [
       "[Text(0, 0.5, ''),\n",
       " Text(0.5, 0, 'Jobs Hired for(count)'),\n",
       " Text(0.5, 1.0, '#Jobs hired in each Position')]"
      ]
     },
     "execution_count": 138,
     "metadata": {},
     "output_type": "execute_result"
    },
    {
     "data": {
      "image/png": "[encoded data removed]",
      "text/plain": [
       "<Figure size 432x288 with 1 Axes>"
      ]
     },
     "metadata": {
      "needs_background": "light"
     },
     "output_type": "display_data"
    }
   ],
   "source": [
    "# Plot jobs hired by positions\n",
    "sns.set_color_codes(\"pastel\")\n",
    "ax = sns.barplot(x=\"Jobs_count\", y=\"POSITION\", data=HiredJobsPosition_df,\n",
    "            palette=plt.cm.ScalarMappable(cmap='viridis_r').to_rgba(HiredJobsPosition_df[\"Jobs_count\"]))\n",
    "ax.set(xlabel='Jobs Hired for(count)', ylabel='', title = '#Jobs hired in each Position')"
   ]
  }
 ],
 "metadata": {
  "kernelspec": {
   "display_name": "Python 3",
   "language": "python",
   "name": "python3"
  },
  "language_info": {
   "codemirror_mode": {
    "name": "ipython",
    "version": 3
   },
   "file_extension": ".py",
   "mimetype": "text/x-python",
   "name": "python",
   "nbconvert_exporter": "python",
   "pygments_lexer": "ipython3",
   "version": "3.7.4"
  },
  "varInspector": {
   "cols": {
    "lenName": 16,
    "lenType": 16,
    "lenVar": 40
   },
   "kernels_config": {
    "python": {
     "delete_cmd_postfix": "",
     "delete_cmd_prefix": "del ",
     "library": "var_list.py",
     "varRefreshCmd": "print(var_dic_list())"
    },
    "r": {
     "delete_cmd_postfix": ") ",
     "delete_cmd_prefix": "rm(",
     "library": "var_list.r",
     "varRefreshCmd": "cat(var_dic_list()) "
    }
   },
   "types_to_exclude": [
    "module",
    "function",
    "builtin_function_or_method",
    "instance",
    "_Feature"
   ],
   "window_display": false
  }
 },
 "nbformat": 4,
 "nbformat_minor": 2
}
